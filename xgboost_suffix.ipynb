{
 "cells": [
  {
   "cell_type": "code",
   "execution_count": null,
   "metadata": {},
   "outputs": [],
   "source": [
    "# training a xgboost model to predix suffix of the processes\n",
    "import pandas as pd\n",
    "import numpy as np\n",
    "import xgboost as xgb\n",
    "from aux_functions import split_data\n",
    "import matplotlib.pyplot as plt"
   ]
  },
  {
   "cell_type": "code",
   "execution_count": null,
   "metadata": {},
   "outputs": [],
   "source": [
    "df = pd.read_csv('data/preprocessed/BPI_Challenge_2012.csv')"
   ]
  },
  {
   "cell_type": "code",
   "execution_count": null,
   "metadata": {},
   "outputs": [],
   "source": [
    "dropping_clomns = ['time:timestamp', 'case:REG_DATE', 'next_timestamp']\n",
    "df.drop(dropping_clomns, axis=1, inplace=True)\n",
    "df"
   ]
  },
  {
   "cell_type": "code",
   "execution_count": null,
   "metadata": {},
   "outputs": [],
   "source": [
    "# frequency of each length of the traces in a dictionary\n",
    "trace_lengths = df['case:concept:name'].value_counts().to_dict()\n",
    "trace_lengths_frequency = {}\n",
    "for process, key in trace_lengths.items():\n",
    "    if key in trace_lengths_frequency:\n",
    "        trace_lengths_frequency[key] += 1\n",
    "    else:\n",
    "        trace_lengths_frequency[key] = 1\n",
    "\n",
    "trace_lengths_frequency"
   ]
  },
  {
   "cell_type": "code",
   "execution_count": null,
   "metadata": {},
   "outputs": [],
   "source": [
    "# sort trace_lengths_frequency by key\n",
    "trace_lengths_frequency = dict(sorted(trace_lengths_frequency.items()))\n",
    "# Getting the cumulative sum of the values\n",
    "cumulative_sum = 0\n",
    "cum_tace_lengths_frequency = {}\n",
    "for key, value in trace_lengths_frequency.items():\n",
    "    cumulative_sum += value\n",
    "    cum_tace_lengths_frequency[key] = cumulative_sum\n",
    "\n",
    "cum_tace_lengths_frequency"
   ]
  },
  {
   "cell_type": "code",
   "execution_count": null,
   "metadata": {},
   "outputs": [],
   "source": [
    "# Getting the percentage of the cumulative sum\n",
    "total = sum(trace_lengths_frequency.values())\n",
    "cum_tace_lengths_frequency_percentage = {}\n",
    "for key, value in cum_tace_lengths_frequency.items():\n",
    "    cum_tace_lengths_frequency_percentage[key] = value/total\n",
    "\n",
    "cum_tace_lengths_frequency_percentage"
   ]
  },
  {
   "cell_type": "code",
   "execution_count": null,
   "metadata": {},
   "outputs": [],
   "source": [
    "# Due to do this we cut of the traces with length more than 50 since they are only 8% of the data\n",
    "df = df[df['case:concept:name'].isin(df.groupby('case:concept:name').size()[df.groupby('case:concept:name').size() <= 50].index)]"
   ]
  },
  {
   "cell_type": "code",
   "execution_count": null,
   "metadata": {},
   "outputs": [],
   "source": [
    "train, test = split_data(df, 0.8) "
   ]
  },
  {
   "cell_type": "code",
   "execution_count": null,
   "metadata": {},
   "outputs": [],
   "source": [
    "concept_name_train_copy = train['concept:name'].copy()\n",
    "concept_name_test_copy = test['concept:name'].copy()\n",
    "\n",
    "# one hot encoding on the concept:name and lifecycle:transition\n",
    "train = pd.get_dummies(train, columns=['concept:name', 'lifecycle:transition'], )\n",
    "test = pd.get_dummies(test, columns=['concept:name', 'lifecycle:transition'])\n",
    "train['concept:name'] = concept_name_train_copy\n",
    "test['concept:name'] = concept_name_test_copy\n",
    "train"
   ]
  },
  {
   "cell_type": "code",
   "execution_count": null,
   "metadata": {},
   "outputs": [],
   "source": [
    "prediction_columns = ['case:concept:name', 'concept:name', 'position']"
   ]
  },
  {
   "cell_type": "code",
   "execution_count": null,
   "metadata": {},
   "outputs": [],
   "source": [
    "# Generating all the possible prefixes and suffixes of length 5 in the train set\n",
    "prefix = []\n",
    "suffix = []\n",
    "for case in train['case:concept:name'].unique():\n",
    "    case_df = train[train['case:concept:name'] == case]\n",
    "    for i in range(5, len(case_df)):\n",
    "        prefix.append(case_df.iloc[i-5:i][prediction_columns])\n",
    "        suffix.append(case_df.iloc[i:][prediction_columns])"
   ]
  },
  {
   "cell_type": "markdown",
   "metadata": {},
   "source": [
    "# DO NOT RUN"
   ]
  },
  {
   "cell_type": "code",
   "execution_count": null,
   "metadata": {},
   "outputs": [],
   "source": [
    "# Defining what category each column fall into\n",
    "dropping_clomns = ['case:concept:name', 'next_concept:name']\n",
    "train.drop(dropping_clomns, axis=1, inplace=True)"
   ]
  },
  {
   "cell_type": "code",
   "execution_count": null,
   "metadata": {},
   "outputs": [],
   "source": [
    "# Dropping the 'case:concept:name' column and next_concept:name column from the train and test suffixes\n",
    "# Which are the 2nd and 4th columns\n",
    "prefixes = [np.delete(prefix, [1,4], axis=1) for prefix in prefixes]\n",
    "# prefixes_test = [np.delete(prefix, [1,4], axis=1) for prefix in prefixes_test]"
   ]
  },
  {
   "cell_type": "code",
   "execution_count": null,
   "metadata": {},
   "outputs": [],
   "source": [
    "train_dmatrix = xgb.DMatrix(data=prefixes[0], label=np.array(suffixes[0]))"
   ]
  }
 ],
 "metadata": {
  "kernelspec": {
   "display_name": "Python 3",
   "language": "python",
   "name": "python3"
  },
  "language_info": {
   "codemirror_mode": {
    "name": "ipython",
    "version": 3
   },
   "file_extension": ".py",
   "mimetype": "text/x-python",
   "name": "python",
   "nbconvert_exporter": "python",
   "pygments_lexer": "ipython3",
   "version": "3.9.7"
  }
 },
 "nbformat": 4,
 "nbformat_minor": 2
}
