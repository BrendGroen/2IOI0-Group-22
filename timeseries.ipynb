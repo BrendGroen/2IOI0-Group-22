{
 "cells": [
  {
   "cell_type": "code",
   "execution_count": 1,
   "metadata": {},
   "outputs": [],
   "source": [
    "import pandas as pd\n",
    "import matplotlib.pyplot as plt\n",
    "from statsmodels.tsa.arima.model import ARIMA\n",
    "from statsmodels.tsa.stattools import adfuller\n",
    "from statsmodels.graphics.tsaplots import plot_acf, plot_pacf\n",
    "from statsmodels.tsa.arima.model import ARIMA\n",
    "import statsmodels.api as sm\n",
    "import numpy as np"
   ]
  },
  {
   "cell_type": "code",
   "execution_count": 2,
   "metadata": {},
   "outputs": [],
   "source": [
    "import pm4py"
   ]
  },
  {
   "cell_type": "code",
   "execution_count": 3,
   "metadata": {},
   "outputs": [
    {
     "name": "stderr",
     "output_type": "stream",
     "text": [
      "c:\\Users\\Aahaan\\AppData\\Local\\Programs\\Python\\Python39\\lib\\site-packages\\pm4py\\util\\dt_parsing\\parser.py:77: UserWarning: ISO8601 strings are not fully supported with strpfromiso for Python versions below 3.11\n",
      "  warnings.warn(\n",
      "c:\\Users\\Aahaan\\AppData\\Local\\Programs\\Python\\Python39\\lib\\site-packages\\tqdm\\auto.py:22: TqdmWarning: IProgress not found. Please update jupyter and ipywidgets. See https://ipywidgets.readthedocs.io/en/stable/user_install.html\n",
      "  from .autonotebook import tqdm as notebook_tqdm\n",
      "parsing log, completed traces :: 100%|██████████| 13087/13087 [00:08<00:00, 1552.84it/s]\n"
     ]
    }
   ],
   "source": [
    "log = pm4py.read_xes('BPI_Challenge_2012.xes')\n",
    "df = pm4py.convert_to_dataframe(log)"
   ]
  },
  {
   "cell_type": "code",
   "execution_count": 4,
   "metadata": {},
   "outputs": [],
   "source": [
    "# translating the Dutch phrases in the 'concept:name' column to English\n",
    "translation_dict = {\n",
    "    'W_Completeren aanvraag': 'W_Complete request',\n",
    "    'W_Nabellen offertes': 'W_Follow up quotes',\n",
    "    'W_Nabellen incomplete dossiers': 'W_Follow up incomplete files',\n",
    "    'W_Valideren aanvraag': 'W_Validate request',\n",
    "    'W_Afhandelen leads': 'W_Handle leads',\n",
    "    'A_SUBMITTED': 'A_SUBMITTED',\n",
    "    'A_PARTLYSUBMITTED': 'A_PARTLYSUBMITTED',\n",
    "    'A_DECLINED': 'A_DECLINED',\n",
    "    'A_PREACCEPTED': 'A_PREACCEPTED',\n",
    "    'O_SENT': 'O_SENT',\n",
    "    'O_CREATED': 'O_CREATED',\n",
    "    'O_SELECTED': 'O_SELECTED',\n",
    "    'A_ACCEPTED': 'A_ACCEPTED',\n",
    "    'A_FINALIZED': 'A_FINALIZED',\n",
    "    'O_CANCELLED': 'O_CANCELLED',\n",
    "    'O_SENT_BACK': 'O_SENT_BACK',\n",
    "    'A_CANCELLED': 'O_CANCELLED',\n",
    "    'A_REGISTERED': 'A_REGISTERED',\n",
    "    'A_ACTIVATED': 'A_ACTIVATED',\n",
    "    'A_APPROVED': 'A_APPROVED',\n",
    "    'O_ACCEPTED': 'O_ACCEPTED',\n",
    "    'O_DECLINED': 'O_DECLINED',\n",
    "    'W_Beoordelen fraude': 'W_Evaluate fraud',\n",
    "    'W_Wijzigen contractgegevens': 'W_Modify contract details'\n",
    "}"
   ]
  },
  {
   "cell_type": "code",
   "execution_count": 5,
   "metadata": {},
   "outputs": [],
   "source": [
    "df['concept:name_eng'] = df['concept:name'].map(translation_dict)"
   ]
  },
  {
   "cell_type": "code",
   "execution_count": 6,
   "metadata": {},
   "outputs": [],
   "source": [
    "# adding position to the dataframe\n",
    "df['position'] = df.groupby('case:concept:name').cumcount() + 1"
   ]
  },
  {
   "cell_type": "code",
   "execution_count": 7,
   "metadata": {},
   "outputs": [],
   "source": [
    "# Adding the next activity(concept:name) to the dataframe and if the next activity is not available, then it will be fill in with No_Activity\n",
    "df['next_activity'] = df.groupby('case:concept:name')['concept:name'].shift(-1).fillna('No_Activity')"
   ]
  },
  {
   "cell_type": "code",
   "execution_count": 8,
   "metadata": {},
   "outputs": [],
   "source": [
    "df.drop(['case:REG_DATE', 'lifecycle:transition'], axis=1, inplace = True)"
   ]
  },
  {
   "cell_type": "code",
   "execution_count": 9,
   "metadata": {},
   "outputs": [],
   "source": [
    "#df = pd.read_csv('baseline_df.csv')"
   ]
  },
  {
   "cell_type": "code",
   "execution_count": 10,
   "metadata": {},
   "outputs": [],
   "source": [
    "date1 = pd.to_datetime(df['time:timestamp'], errors='coerce', format='%Y-%m-%d %H:%M:%S.%f%z')\n",
    "date2 = pd.to_datetime(df['time:timestamp'], errors='coerce', format='%Y-%m-%d %H:%M:%S%z')\n",
    "df['date'] = date1.fillna(date2)"
   ]
  },
  {
   "cell_type": "code",
   "execution_count": 11,
   "metadata": {},
   "outputs": [],
   "source": [
    "df[\"date_milliseconds\"] = (df['date'] - pd.Timestamp(\"1970-01-01\", tz = \"UTC\")) // pd.Timedelta('1ms')"
   ]
  },
  {
   "cell_type": "code",
   "execution_count": 12,
   "metadata": {},
   "outputs": [],
   "source": [
    "df[\"duration\"] = df.groupby(\"case:concept:name\")[\"date_milliseconds\"].shift(-1) - df[\"date_milliseconds\"]\n",
    "\n",
    "#df[\"duration\"] = df[\"duration\"] / (1000 * 60 * 60)  # Convert milliseconds to hours\n"
   ]
  },
  {
   "cell_type": "code",
   "execution_count": 13,
   "metadata": {},
   "outputs": [
    {
     "data": {
      "text/html": [
       "<div>\n",
       "<style scoped>\n",
       "    .dataframe tbody tr th:only-of-type {\n",
       "        vertical-align: middle;\n",
       "    }\n",
       "\n",
       "    .dataframe tbody tr th {\n",
       "        vertical-align: top;\n",
       "    }\n",
       "\n",
       "    .dataframe thead th {\n",
       "        text-align: right;\n",
       "    }\n",
       "</style>\n",
       "<table border=\"1\" class=\"dataframe\">\n",
       "  <thead>\n",
       "    <tr style=\"text-align: right;\">\n",
       "      <th></th>\n",
       "      <th>org:resource</th>\n",
       "      <th>concept:name</th>\n",
       "      <th>time:timestamp</th>\n",
       "      <th>case:concept:name</th>\n",
       "      <th>case:AMOUNT_REQ</th>\n",
       "      <th>concept:name_eng</th>\n",
       "      <th>position</th>\n",
       "      <th>next_activity</th>\n",
       "      <th>date</th>\n",
       "      <th>date_milliseconds</th>\n",
       "      <th>duration</th>\n",
       "    </tr>\n",
       "  </thead>\n",
       "  <tbody>\n",
       "    <tr>\n",
       "      <th>0</th>\n",
       "      <td>112</td>\n",
       "      <td>A_SUBMITTED</td>\n",
       "      <td>2011-10-01 00:38:44.546000+00:00</td>\n",
       "      <td>173688</td>\n",
       "      <td>20000</td>\n",
       "      <td>A_SUBMITTED</td>\n",
       "      <td>1</td>\n",
       "      <td>A_PARTLYSUBMITTED</td>\n",
       "      <td>2011-10-01 00:38:44.546000+00:00</td>\n",
       "      <td>1317429524546</td>\n",
       "      <td>334.0</td>\n",
       "    </tr>\n",
       "    <tr>\n",
       "      <th>1</th>\n",
       "      <td>112</td>\n",
       "      <td>A_PARTLYSUBMITTED</td>\n",
       "      <td>2011-10-01 00:38:44.880000+00:00</td>\n",
       "      <td>173688</td>\n",
       "      <td>20000</td>\n",
       "      <td>A_PARTLYSUBMITTED</td>\n",
       "      <td>2</td>\n",
       "      <td>A_PREACCEPTED</td>\n",
       "      <td>2011-10-01 00:38:44.880000+00:00</td>\n",
       "      <td>1317429524880</td>\n",
       "      <td>53026.0</td>\n",
       "    </tr>\n",
       "    <tr>\n",
       "      <th>2</th>\n",
       "      <td>112</td>\n",
       "      <td>A_PREACCEPTED</td>\n",
       "      <td>2011-10-01 00:39:37.906000+00:00</td>\n",
       "      <td>173688</td>\n",
       "      <td>20000</td>\n",
       "      <td>A_PREACCEPTED</td>\n",
       "      <td>3</td>\n",
       "      <td>W_Completeren aanvraag</td>\n",
       "      <td>2011-10-01 00:39:37.906000+00:00</td>\n",
       "      <td>1317429577906</td>\n",
       "      <td>969.0</td>\n",
       "    </tr>\n",
       "    <tr>\n",
       "      <th>3</th>\n",
       "      <td>112</td>\n",
       "      <td>W_Completeren aanvraag</td>\n",
       "      <td>2011-10-01 00:39:38.875000+00:00</td>\n",
       "      <td>173688</td>\n",
       "      <td>20000</td>\n",
       "      <td>W_Complete request</td>\n",
       "      <td>4</td>\n",
       "      <td>W_Completeren aanvraag</td>\n",
       "      <td>2011-10-01 00:39:38.875000+00:00</td>\n",
       "      <td>1317429578875</td>\n",
       "      <td>39427562.0</td>\n",
       "    </tr>\n",
       "    <tr>\n",
       "      <th>4</th>\n",
       "      <td>NaN</td>\n",
       "      <td>W_Completeren aanvraag</td>\n",
       "      <td>2011-10-01 11:36:46.437000+00:00</td>\n",
       "      <td>173688</td>\n",
       "      <td>20000</td>\n",
       "      <td>W_Complete request</td>\n",
       "      <td>5</td>\n",
       "      <td>A_ACCEPTED</td>\n",
       "      <td>2011-10-01 11:36:46.437000+00:00</td>\n",
       "      <td>1317469006437</td>\n",
       "      <td>356871.0</td>\n",
       "    </tr>\n",
       "    <tr>\n",
       "      <th>5</th>\n",
       "      <td>10862</td>\n",
       "      <td>A_ACCEPTED</td>\n",
       "      <td>2011-10-01 11:42:43.308000+00:00</td>\n",
       "      <td>173688</td>\n",
       "      <td>20000</td>\n",
       "      <td>A_ACCEPTED</td>\n",
       "      <td>6</td>\n",
       "      <td>O_SELECTED</td>\n",
       "      <td>2011-10-01 11:42:43.308000+00:00</td>\n",
       "      <td>1317469363308</td>\n",
       "      <td>145935.0</td>\n",
       "    </tr>\n",
       "    <tr>\n",
       "      <th>6</th>\n",
       "      <td>10862</td>\n",
       "      <td>O_SELECTED</td>\n",
       "      <td>2011-10-01 11:45:09.243000+00:00</td>\n",
       "      <td>173688</td>\n",
       "      <td>20000</td>\n",
       "      <td>O_SELECTED</td>\n",
       "      <td>7</td>\n",
       "      <td>A_FINALIZED</td>\n",
       "      <td>2011-10-01 11:45:09.243000+00:00</td>\n",
       "      <td>1317469509243</td>\n",
       "      <td>0.0</td>\n",
       "    </tr>\n",
       "    <tr>\n",
       "      <th>7</th>\n",
       "      <td>10862</td>\n",
       "      <td>A_FINALIZED</td>\n",
       "      <td>2011-10-01 11:45:09.243000+00:00</td>\n",
       "      <td>173688</td>\n",
       "      <td>20000</td>\n",
       "      <td>A_FINALIZED</td>\n",
       "      <td>8</td>\n",
       "      <td>O_CREATED</td>\n",
       "      <td>2011-10-01 11:45:09.243000+00:00</td>\n",
       "      <td>1317469509243</td>\n",
       "      <td>1954.0</td>\n",
       "    </tr>\n",
       "    <tr>\n",
       "      <th>8</th>\n",
       "      <td>10862</td>\n",
       "      <td>O_CREATED</td>\n",
       "      <td>2011-10-01 11:45:11.197000+00:00</td>\n",
       "      <td>173688</td>\n",
       "      <td>20000</td>\n",
       "      <td>O_CREATED</td>\n",
       "      <td>9</td>\n",
       "      <td>O_SENT</td>\n",
       "      <td>2011-10-01 11:45:11.197000+00:00</td>\n",
       "      <td>1317469511197</td>\n",
       "      <td>183.0</td>\n",
       "    </tr>\n",
       "    <tr>\n",
       "      <th>9</th>\n",
       "      <td>10862</td>\n",
       "      <td>O_SENT</td>\n",
       "      <td>2011-10-01 11:45:11.380000+00:00</td>\n",
       "      <td>173688</td>\n",
       "      <td>20000</td>\n",
       "      <td>O_SENT</td>\n",
       "      <td>10</td>\n",
       "      <td>W_Nabellen offertes</td>\n",
       "      <td>2011-10-01 11:45:11.380000+00:00</td>\n",
       "      <td>1317469511380</td>\n",
       "      <td>174.0</td>\n",
       "    </tr>\n",
       "  </tbody>\n",
       "</table>\n",
       "</div>"
      ],
      "text/plain": [
       "  org:resource            concept:name                   time:timestamp  \\\n",
       "0          112             A_SUBMITTED 2011-10-01 00:38:44.546000+00:00   \n",
       "1          112       A_PARTLYSUBMITTED 2011-10-01 00:38:44.880000+00:00   \n",
       "2          112           A_PREACCEPTED 2011-10-01 00:39:37.906000+00:00   \n",
       "3          112  W_Completeren aanvraag 2011-10-01 00:39:38.875000+00:00   \n",
       "4          NaN  W_Completeren aanvraag 2011-10-01 11:36:46.437000+00:00   \n",
       "5        10862              A_ACCEPTED 2011-10-01 11:42:43.308000+00:00   \n",
       "6        10862              O_SELECTED 2011-10-01 11:45:09.243000+00:00   \n",
       "7        10862             A_FINALIZED 2011-10-01 11:45:09.243000+00:00   \n",
       "8        10862               O_CREATED 2011-10-01 11:45:11.197000+00:00   \n",
       "9        10862                  O_SENT 2011-10-01 11:45:11.380000+00:00   \n",
       "\n",
       "  case:concept:name case:AMOUNT_REQ    concept:name_eng  position  \\\n",
       "0            173688           20000         A_SUBMITTED         1   \n",
       "1            173688           20000   A_PARTLYSUBMITTED         2   \n",
       "2            173688           20000       A_PREACCEPTED         3   \n",
       "3            173688           20000  W_Complete request         4   \n",
       "4            173688           20000  W_Complete request         5   \n",
       "5            173688           20000          A_ACCEPTED         6   \n",
       "6            173688           20000          O_SELECTED         7   \n",
       "7            173688           20000         A_FINALIZED         8   \n",
       "8            173688           20000           O_CREATED         9   \n",
       "9            173688           20000              O_SENT        10   \n",
       "\n",
       "            next_activity                             date  date_milliseconds  \\\n",
       "0       A_PARTLYSUBMITTED 2011-10-01 00:38:44.546000+00:00      1317429524546   \n",
       "1           A_PREACCEPTED 2011-10-01 00:38:44.880000+00:00      1317429524880   \n",
       "2  W_Completeren aanvraag 2011-10-01 00:39:37.906000+00:00      1317429577906   \n",
       "3  W_Completeren aanvraag 2011-10-01 00:39:38.875000+00:00      1317429578875   \n",
       "4              A_ACCEPTED 2011-10-01 11:36:46.437000+00:00      1317469006437   \n",
       "5              O_SELECTED 2011-10-01 11:42:43.308000+00:00      1317469363308   \n",
       "6             A_FINALIZED 2011-10-01 11:45:09.243000+00:00      1317469509243   \n",
       "7               O_CREATED 2011-10-01 11:45:09.243000+00:00      1317469509243   \n",
       "8                  O_SENT 2011-10-01 11:45:11.197000+00:00      1317469511197   \n",
       "9     W_Nabellen offertes 2011-10-01 11:45:11.380000+00:00      1317469511380   \n",
       "\n",
       "     duration  \n",
       "0       334.0  \n",
       "1     53026.0  \n",
       "2       969.0  \n",
       "3  39427562.0  \n",
       "4    356871.0  \n",
       "5    145935.0  \n",
       "6         0.0  \n",
       "7      1954.0  \n",
       "8       183.0  \n",
       "9       174.0  "
      ]
     },
     "execution_count": 13,
     "metadata": {},
     "output_type": "execute_result"
    }
   ],
   "source": [
    "df.head(10)"
   ]
  },
  {
   "cell_type": "code",
   "execution_count": 14,
   "metadata": {},
   "outputs": [],
   "source": [
    "# finding the average duration for each position\n",
    "position_dict_time = {}\n",
    "for j in range(1, 176):\n",
    "    time = []\n",
    "    for i in (df[df['position'] == j]).index:\n",
    "        time.append(df[\"duration\"].iloc[i])\n",
    "    if len(time) > 0:\n",
    "        position_dict_time[j] = sum(time)/len(time)"
   ]
  },
  {
   "cell_type": "code",
   "execution_count": 15,
   "metadata": {},
   "outputs": [],
   "source": [
    "# adding the average duration to each position\n",
    "\n",
    "df['predicted_next_timestamp_milliseconds'] = df['date_milliseconds'] + df['position'].map(lambda x: position_dict_time[x]).fillna(0)\n",
    "#df[\"duration\"] = df['position'].map(lambda x: position_dict_time[x]).fillna(0) "
   ]
  },
  {
   "cell_type": "code",
   "execution_count": 16,
   "metadata": {},
   "outputs": [],
   "source": [
    "df['predicted_next_timestamp'] = df['predicted_next_timestamp_milliseconds'].apply(lambda x: '%d' % x)"
   ]
  },
  {
   "cell_type": "code",
   "execution_count": 17,
   "metadata": {},
   "outputs": [
    {
     "name": "stderr",
     "output_type": "stream",
     "text": [
      "C:\\Users\\Aahaan\\AppData\\Local\\Temp\\ipykernel_4540\\1815087631.py:2: FutureWarning: The behavior of 'to_datetime' with 'unit' when parsing strings is deprecated. In a future version, strings will be parsed as datetime strings, matching the behavior without a 'unit'. To retain the old behavior, explicitly cast ints or floats to numeric type before calling to_datetime.\n",
      "  df['predicted_next_timestamp'] = pd.to_datetime(df['predicted_next_timestamp'], unit='ms')\n"
     ]
    }
   ],
   "source": [
    "# convert the predicted_timestamp to datetime\n",
    "df['predicted_next_timestamp'] = pd.to_datetime(df['predicted_next_timestamp'], unit='ms')"
   ]
  },
  {
   "cell_type": "code",
   "execution_count": 18,
   "metadata": {},
   "outputs": [],
   "source": [
    "df['next_timestamp'] = df.groupby('case:concept:name')['time:timestamp'].shift(-1).fillna(0)\n",
    "df['next_timestamp_milliseconds'] = df.groupby('case:concept:name')['date_milliseconds'].shift(-1).fillna(0)"
   ]
  },
  {
   "cell_type": "code",
   "execution_count": 19,
   "metadata": {},
   "outputs": [],
   "source": [
    "df['next_timestamp_milliseconds'] = df['next_timestamp_milliseconds'].apply(lambda x: '%d' % x)\n",
    "df['predicted_next_timestamp_milliseconds'] = df['predicted_next_timestamp_milliseconds'].apply(lambda x: '%d' % x)"
   ]
  },
  {
   "cell_type": "code",
   "execution_count": 20,
   "metadata": {},
   "outputs": [],
   "source": [
    "df[\"time_since_start\"] = df.groupby('case:concept:name')[\"duration\"].cumsum().shift(1).fillna(0)\n",
    "\n",
    "df[\"time_since_start\"] = df[\"time_since_start\"] / (1000*60*60)"
   ]
  },
  {
   "cell_type": "code",
   "execution_count": 21,
   "metadata": {},
   "outputs": [],
   "source": [
    "df[\"duration\"] = df[\"duration\"].fillna(0)"
   ]
  },
  {
   "cell_type": "code",
   "execution_count": 22,
   "metadata": {},
   "outputs": [],
   "source": [
    "df[\"date_hours\"] = df[\"date_milliseconds\"] / (1000*60*60)"
   ]
  },
  {
   "cell_type": "code",
   "execution_count": null,
   "metadata": {},
   "outputs": [],
   "source": []
  },
  {
   "cell_type": "code",
   "execution_count": 23,
   "metadata": {},
   "outputs": [],
   "source": [
    "def nearest_upper_multiple(x, z = 24):\n",
    "    # Calculate the remainder when x is divided by z\n",
    "    remainder = x % z\n",
    "    \n",
    "    # If remainder is zero, x is already a multiple of z\n",
    "    if remainder == 0:\n",
    "        return x\n",
    "    \n",
    "    # Otherwise, calculate the nearest upper multiple\n",
    "    return x + z - remainder\n",
    "\n",
    "df[\"nearest_midnight\"] = df[\"date_hours\"].apply(lambda x: nearest_upper_multiple(x))"
   ]
  },
  {
   "cell_type": "code",
   "execution_count": 24,
   "metadata": {},
   "outputs": [],
   "source": [
    "df[\"time_until_midnight\"] = df[\"nearest_midnight\"] - df[\"date_hours\"]"
   ]
  },
  {
   "cell_type": "code",
   "execution_count": 25,
   "metadata": {},
   "outputs": [],
   "source": [
    "df[\"hours_of_the_day\"] = 24 - df[\"time_until_midnight\"]"
   ]
  },
  {
   "cell_type": "code",
   "execution_count": 26,
   "metadata": {},
   "outputs": [],
   "source": [
    "df[\"month\"] = df[\"date\"].dt.month"
   ]
  },
  {
   "cell_type": "code",
   "execution_count": 27,
   "metadata": {},
   "outputs": [],
   "source": [
    "month_conversion_dict = {1: \"January\",\n",
    "                         2: \"February\",\n",
    "                         3: \"March\",\n",
    "                         4: \"April\",\n",
    "                         5: \"May\",\n",
    "                         6: \"June\",\n",
    "                         7: \"July\",\n",
    "                         8: \"August\",\n",
    "                         9: \"September\",\n",
    "                         10: \"October\",\n",
    "                         11: \"November\",\n",
    "                         12: \"December\"}"
   ]
  },
  {
   "cell_type": "code",
   "execution_count": 28,
   "metadata": {},
   "outputs": [],
   "source": [
    "df[\"month_as_string\"] = df[\"month\"].map(month_conversion_dict)"
   ]
  },
  {
   "cell_type": "code",
   "execution_count": 29,
   "metadata": {},
   "outputs": [],
   "source": [
    "df[\"day\"] = df['date'].dt.dayofweek"
   ]
  },
  {
   "cell_type": "code",
   "execution_count": 30,
   "metadata": {},
   "outputs": [],
   "source": [
    "day_conversion_dict = {0: \"Monday\",\n",
    "                       1: \"Tuesday\",\n",
    "                       2: \"Wednesday\",\n",
    "                       3: \"Thursday\",\n",
    "                       4: \"Friday\",\n",
    "                       5: \"Saturday\",\n",
    "                       6: \"Sunday\"}"
   ]
  },
  {
   "cell_type": "code",
   "execution_count": 31,
   "metadata": {},
   "outputs": [],
   "source": [
    "df[\"day_as_string\"] = df[\"day\"].map(day_conversion_dict)"
   ]
  },
  {
   "cell_type": "code",
   "execution_count": 32,
   "metadata": {},
   "outputs": [],
   "source": [
    "df[\"time_elapsed_since_previous_event\"] = df[\"date_milliseconds\"] - df.groupby(\"case:concept:name\")[\"date_milliseconds\"].shift(1)"
   ]
  },
  {
   "cell_type": "code",
   "execution_count": 33,
   "metadata": {},
   "outputs": [],
   "source": [
    "df[\"time_elapsed_since_previous_event\"] = df[\"time_elapsed_since_previous_event\"].fillna(0)"
   ]
  },
  {
   "cell_type": "code",
   "execution_count": 34,
   "metadata": {},
   "outputs": [],
   "source": [
    "df[\"next_timestamp_milliseconds\"] = df[\"next_timestamp_milliseconds\"].astype(float)\n",
    "\n",
    "df[\"next_timestamp_hours\"] = df[\"next_timestamp_milliseconds\"] / (1000*60*60)"
   ]
  },
  {
   "cell_type": "code",
   "execution_count": 35,
   "metadata": {},
   "outputs": [
    {
     "data": {
      "text/plain": [
       "'\\n\\nencoder = OneHotEncoder()\\n\\n# Fit and transform the data to one-hot encoded format\\nencoded_array_month = encoder.fit_transform(df[[\"month_as_string\"]]).toarray()\\n\\n# Get the feature names from the encoder\\'s categories_\\nfeature_names = encoder.categories_[0]\\n\\n# Create a new DataFrame with one-hot encoded columns and correct column names\\ndf_encoded = pd.DataFrame(encoded_array, columns=feature_names)\\n\\n# Concatenate the original DataFrame with the one-hot encoded DataFrame\\ndf = pd.concat([df, df_encoded], axis=1)'"
      ]
     },
     "execution_count": 35,
     "metadata": {},
     "output_type": "execute_result"
    }
   ],
   "source": [
    "from sklearn.preprocessing import OneHotEncoder\n",
    "\n",
    "\"\"\"\n",
    "\n",
    "encoder = OneHotEncoder()\n",
    "\n",
    "# Fit and transform the data to one-hot encoded format\n",
    "encoded_array_month = encoder.fit_transform(df[[\"month_as_string\"]]).toarray()\n",
    "\n",
    "# Get the feature names from the encoder's categories_\n",
    "feature_names = encoder.categories_[0]\n",
    "\n",
    "# Create a new DataFrame with one-hot encoded columns and correct column names\n",
    "df_encoded = pd.DataFrame(encoded_array, columns=feature_names)\n",
    "\n",
    "# Concatenate the original DataFrame with the one-hot encoded DataFrame\n",
    "df = pd.concat([df, df_encoded], axis=1)\"\"\""
   ]
  },
  {
   "cell_type": "code",
   "execution_count": 36,
   "metadata": {},
   "outputs": [
    {
     "data": {
      "text/plain": [
       "'encoder = OneHotEncoder()\\n\\n# Fit and transform the data to one-hot encoded format\\nencoded_array = encoder.fit_transform(df[[\"day_as_string\"]]).toarray()\\n\\n# Get the feature names from the encoder\\'s categories_\\nfeature_names = encoder.categories_[0]\\n\\n# Create a new DataFrame with one-hot encoded columns and correct column names\\ndf_encoded = pd.DataFrame(encoded_array, columns=feature_names)\\n\\n# Concatenate the original DataFrame with the one-hot encoded DataFrame\\ndf = pd.concat([df, df_encoded], axis=1)'"
      ]
     },
     "execution_count": 36,
     "metadata": {},
     "output_type": "execute_result"
    }
   ],
   "source": [
    "\"\"\"encoder = OneHotEncoder()\n",
    "\n",
    "# Fit and transform the data to one-hot encoded format\n",
    "encoded_array = encoder.fit_transform(df[[\"day_as_string\"]]).toarray()\n",
    "\n",
    "# Get the feature names from the encoder's categories_\n",
    "feature_names = encoder.categories_[0]\n",
    "\n",
    "# Create a new DataFrame with one-hot encoded columns and correct column names\n",
    "df_encoded = pd.DataFrame(encoded_array, columns=feature_names)\n",
    "\n",
    "# Concatenate the original DataFrame with the one-hot encoded DataFrame\n",
    "df = pd.concat([df, df_encoded], axis=1)\"\"\""
   ]
  },
  {
   "cell_type": "code",
   "execution_count": 37,
   "metadata": {},
   "outputs": [],
   "source": [
    "encoder = OneHotEncoder()\n",
    "\n",
    "encoded_array = encoder.fit_transform(df[[\"concept:name\"]]).toarray()\n",
    "\n",
    "\n",
    "feature_names = encoder.categories_[0]\n",
    "\n",
    "\n",
    "df_encoded = pd.DataFrame(encoded_array, columns=feature_names)\n",
    "\n",
    "\n",
    "df = pd.concat([df, df_encoded], axis=1)"
   ]
  },
  {
   "cell_type": "code",
   "execution_count": 38,
   "metadata": {},
   "outputs": [
    {
     "data": {
      "text/html": [
       "<div>\n",
       "<style scoped>\n",
       "    .dataframe tbody tr th:only-of-type {\n",
       "        vertical-align: middle;\n",
       "    }\n",
       "\n",
       "    .dataframe tbody tr th {\n",
       "        vertical-align: top;\n",
       "    }\n",
       "\n",
       "    .dataframe thead th {\n",
       "        text-align: right;\n",
       "    }\n",
       "</style>\n",
       "<table border=\"1\" class=\"dataframe\">\n",
       "  <thead>\n",
       "    <tr style=\"text-align: right;\">\n",
       "      <th></th>\n",
       "      <th>org:resource</th>\n",
       "      <th>concept:name</th>\n",
       "      <th>time:timestamp</th>\n",
       "      <th>case:concept:name</th>\n",
       "      <th>case:AMOUNT_REQ</th>\n",
       "      <th>concept:name_eng</th>\n",
       "      <th>position</th>\n",
       "      <th>next_activity</th>\n",
       "      <th>date</th>\n",
       "      <th>date_milliseconds</th>\n",
       "      <th>...</th>\n",
       "      <th>O_SELECTED</th>\n",
       "      <th>O_SENT</th>\n",
       "      <th>O_SENT_BACK</th>\n",
       "      <th>W_Afhandelen leads</th>\n",
       "      <th>W_Beoordelen fraude</th>\n",
       "      <th>W_Completeren aanvraag</th>\n",
       "      <th>W_Nabellen incomplete dossiers</th>\n",
       "      <th>W_Nabellen offertes</th>\n",
       "      <th>W_Valideren aanvraag</th>\n",
       "      <th>W_Wijzigen contractgegevens</th>\n",
       "    </tr>\n",
       "  </thead>\n",
       "  <tbody>\n",
       "    <tr>\n",
       "      <th>0</th>\n",
       "      <td>112</td>\n",
       "      <td>A_SUBMITTED</td>\n",
       "      <td>2011-10-01 00:38:44.546000+00:00</td>\n",
       "      <td>173688</td>\n",
       "      <td>20000</td>\n",
       "      <td>A_SUBMITTED</td>\n",
       "      <td>1</td>\n",
       "      <td>A_PARTLYSUBMITTED</td>\n",
       "      <td>2011-10-01 00:38:44.546000+00:00</td>\n",
       "      <td>1317429524546</td>\n",
       "      <td>...</td>\n",
       "      <td>0.0</td>\n",
       "      <td>0.0</td>\n",
       "      <td>0.0</td>\n",
       "      <td>0.0</td>\n",
       "      <td>0.0</td>\n",
       "      <td>0.0</td>\n",
       "      <td>0.0</td>\n",
       "      <td>0.0</td>\n",
       "      <td>0.0</td>\n",
       "      <td>0.0</td>\n",
       "    </tr>\n",
       "    <tr>\n",
       "      <th>1</th>\n",
       "      <td>112</td>\n",
       "      <td>A_PARTLYSUBMITTED</td>\n",
       "      <td>2011-10-01 00:38:44.880000+00:00</td>\n",
       "      <td>173688</td>\n",
       "      <td>20000</td>\n",
       "      <td>A_PARTLYSUBMITTED</td>\n",
       "      <td>2</td>\n",
       "      <td>A_PREACCEPTED</td>\n",
       "      <td>2011-10-01 00:38:44.880000+00:00</td>\n",
       "      <td>1317429524880</td>\n",
       "      <td>...</td>\n",
       "      <td>0.0</td>\n",
       "      <td>0.0</td>\n",
       "      <td>0.0</td>\n",
       "      <td>0.0</td>\n",
       "      <td>0.0</td>\n",
       "      <td>0.0</td>\n",
       "      <td>0.0</td>\n",
       "      <td>0.0</td>\n",
       "      <td>0.0</td>\n",
       "      <td>0.0</td>\n",
       "    </tr>\n",
       "    <tr>\n",
       "      <th>2</th>\n",
       "      <td>112</td>\n",
       "      <td>A_PREACCEPTED</td>\n",
       "      <td>2011-10-01 00:39:37.906000+00:00</td>\n",
       "      <td>173688</td>\n",
       "      <td>20000</td>\n",
       "      <td>A_PREACCEPTED</td>\n",
       "      <td>3</td>\n",
       "      <td>W_Completeren aanvraag</td>\n",
       "      <td>2011-10-01 00:39:37.906000+00:00</td>\n",
       "      <td>1317429577906</td>\n",
       "      <td>...</td>\n",
       "      <td>0.0</td>\n",
       "      <td>0.0</td>\n",
       "      <td>0.0</td>\n",
       "      <td>0.0</td>\n",
       "      <td>0.0</td>\n",
       "      <td>0.0</td>\n",
       "      <td>0.0</td>\n",
       "      <td>0.0</td>\n",
       "      <td>0.0</td>\n",
       "      <td>0.0</td>\n",
       "    </tr>\n",
       "    <tr>\n",
       "      <th>3</th>\n",
       "      <td>112</td>\n",
       "      <td>W_Completeren aanvraag</td>\n",
       "      <td>2011-10-01 00:39:38.875000+00:00</td>\n",
       "      <td>173688</td>\n",
       "      <td>20000</td>\n",
       "      <td>W_Complete request</td>\n",
       "      <td>4</td>\n",
       "      <td>W_Completeren aanvraag</td>\n",
       "      <td>2011-10-01 00:39:38.875000+00:00</td>\n",
       "      <td>1317429578875</td>\n",
       "      <td>...</td>\n",
       "      <td>0.0</td>\n",
       "      <td>0.0</td>\n",
       "      <td>0.0</td>\n",
       "      <td>0.0</td>\n",
       "      <td>0.0</td>\n",
       "      <td>1.0</td>\n",
       "      <td>0.0</td>\n",
       "      <td>0.0</td>\n",
       "      <td>0.0</td>\n",
       "      <td>0.0</td>\n",
       "    </tr>\n",
       "    <tr>\n",
       "      <th>4</th>\n",
       "      <td>NaN</td>\n",
       "      <td>W_Completeren aanvraag</td>\n",
       "      <td>2011-10-01 11:36:46.437000+00:00</td>\n",
       "      <td>173688</td>\n",
       "      <td>20000</td>\n",
       "      <td>W_Complete request</td>\n",
       "      <td>5</td>\n",
       "      <td>A_ACCEPTED</td>\n",
       "      <td>2011-10-01 11:36:46.437000+00:00</td>\n",
       "      <td>1317469006437</td>\n",
       "      <td>...</td>\n",
       "      <td>0.0</td>\n",
       "      <td>0.0</td>\n",
       "      <td>0.0</td>\n",
       "      <td>0.0</td>\n",
       "      <td>0.0</td>\n",
       "      <td>1.0</td>\n",
       "      <td>0.0</td>\n",
       "      <td>0.0</td>\n",
       "      <td>0.0</td>\n",
       "      <td>0.0</td>\n",
       "    </tr>\n",
       "    <tr>\n",
       "      <th>...</th>\n",
       "      <td>...</td>\n",
       "      <td>...</td>\n",
       "      <td>...</td>\n",
       "      <td>...</td>\n",
       "      <td>...</td>\n",
       "      <td>...</td>\n",
       "      <td>...</td>\n",
       "      <td>...</td>\n",
       "      <td>...</td>\n",
       "      <td>...</td>\n",
       "      <td>...</td>\n",
       "      <td>...</td>\n",
       "      <td>...</td>\n",
       "      <td>...</td>\n",
       "      <td>...</td>\n",
       "      <td>...</td>\n",
       "      <td>...</td>\n",
       "      <td>...</td>\n",
       "      <td>...</td>\n",
       "      <td>...</td>\n",
       "      <td>...</td>\n",
       "    </tr>\n",
       "    <tr>\n",
       "      <th>262195</th>\n",
       "      <td>112</td>\n",
       "      <td>A_PARTLYSUBMITTED</td>\n",
       "      <td>2012-02-29 23:51:17.423000+00:00</td>\n",
       "      <td>214376</td>\n",
       "      <td>15000</td>\n",
       "      <td>A_PARTLYSUBMITTED</td>\n",
       "      <td>2</td>\n",
       "      <td>W_Afhandelen leads</td>\n",
       "      <td>2012-02-29 23:51:17.423000+00:00</td>\n",
       "      <td>1330559477423</td>\n",
       "      <td>...</td>\n",
       "      <td>0.0</td>\n",
       "      <td>0.0</td>\n",
       "      <td>0.0</td>\n",
       "      <td>0.0</td>\n",
       "      <td>0.0</td>\n",
       "      <td>0.0</td>\n",
       "      <td>0.0</td>\n",
       "      <td>0.0</td>\n",
       "      <td>0.0</td>\n",
       "      <td>0.0</td>\n",
       "    </tr>\n",
       "    <tr>\n",
       "      <th>262196</th>\n",
       "      <td>112</td>\n",
       "      <td>W_Afhandelen leads</td>\n",
       "      <td>2012-02-29 23:52:01.287000+00:00</td>\n",
       "      <td>214376</td>\n",
       "      <td>15000</td>\n",
       "      <td>W_Handle leads</td>\n",
       "      <td>3</td>\n",
       "      <td>W_Afhandelen leads</td>\n",
       "      <td>2012-02-29 23:52:01.287000+00:00</td>\n",
       "      <td>1330559521287</td>\n",
       "      <td>...</td>\n",
       "      <td>0.0</td>\n",
       "      <td>0.0</td>\n",
       "      <td>0.0</td>\n",
       "      <td>1.0</td>\n",
       "      <td>0.0</td>\n",
       "      <td>0.0</td>\n",
       "      <td>0.0</td>\n",
       "      <td>0.0</td>\n",
       "      <td>0.0</td>\n",
       "      <td>0.0</td>\n",
       "    </tr>\n",
       "    <tr>\n",
       "      <th>262197</th>\n",
       "      <td>11169</td>\n",
       "      <td>W_Afhandelen leads</td>\n",
       "      <td>2012-03-01 09:26:46.736000+00:00</td>\n",
       "      <td>214376</td>\n",
       "      <td>15000</td>\n",
       "      <td>W_Handle leads</td>\n",
       "      <td>4</td>\n",
       "      <td>A_DECLINED</td>\n",
       "      <td>2012-03-01 09:26:46.736000+00:00</td>\n",
       "      <td>1330594006736</td>\n",
       "      <td>...</td>\n",
       "      <td>0.0</td>\n",
       "      <td>0.0</td>\n",
       "      <td>0.0</td>\n",
       "      <td>1.0</td>\n",
       "      <td>0.0</td>\n",
       "      <td>0.0</td>\n",
       "      <td>0.0</td>\n",
       "      <td>0.0</td>\n",
       "      <td>0.0</td>\n",
       "      <td>0.0</td>\n",
       "    </tr>\n",
       "    <tr>\n",
       "      <th>262198</th>\n",
       "      <td>11169</td>\n",
       "      <td>A_DECLINED</td>\n",
       "      <td>2012-03-01 09:27:37.118000+00:00</td>\n",
       "      <td>214376</td>\n",
       "      <td>15000</td>\n",
       "      <td>A_DECLINED</td>\n",
       "      <td>5</td>\n",
       "      <td>W_Afhandelen leads</td>\n",
       "      <td>2012-03-01 09:27:37.118000+00:00</td>\n",
       "      <td>1330594057118</td>\n",
       "      <td>...</td>\n",
       "      <td>0.0</td>\n",
       "      <td>0.0</td>\n",
       "      <td>0.0</td>\n",
       "      <td>0.0</td>\n",
       "      <td>0.0</td>\n",
       "      <td>0.0</td>\n",
       "      <td>0.0</td>\n",
       "      <td>0.0</td>\n",
       "      <td>0.0</td>\n",
       "      <td>0.0</td>\n",
       "    </tr>\n",
       "    <tr>\n",
       "      <th>262199</th>\n",
       "      <td>11169</td>\n",
       "      <td>W_Afhandelen leads</td>\n",
       "      <td>2012-03-01 09:27:41.325000+00:00</td>\n",
       "      <td>214376</td>\n",
       "      <td>15000</td>\n",
       "      <td>W_Handle leads</td>\n",
       "      <td>6</td>\n",
       "      <td>No_Activity</td>\n",
       "      <td>2012-03-01 09:27:41.325000+00:00</td>\n",
       "      <td>1330594061325</td>\n",
       "      <td>...</td>\n",
       "      <td>0.0</td>\n",
       "      <td>0.0</td>\n",
       "      <td>0.0</td>\n",
       "      <td>1.0</td>\n",
       "      <td>0.0</td>\n",
       "      <td>0.0</td>\n",
       "      <td>0.0</td>\n",
       "      <td>0.0</td>\n",
       "      <td>0.0</td>\n",
       "      <td>0.0</td>\n",
       "    </tr>\n",
       "  </tbody>\n",
       "</table>\n",
       "<p>262200 rows × 50 columns</p>\n",
       "</div>"
      ],
      "text/plain": [
       "       org:resource            concept:name                   time:timestamp  \\\n",
       "0               112             A_SUBMITTED 2011-10-01 00:38:44.546000+00:00   \n",
       "1               112       A_PARTLYSUBMITTED 2011-10-01 00:38:44.880000+00:00   \n",
       "2               112           A_PREACCEPTED 2011-10-01 00:39:37.906000+00:00   \n",
       "3               112  W_Completeren aanvraag 2011-10-01 00:39:38.875000+00:00   \n",
       "4               NaN  W_Completeren aanvraag 2011-10-01 11:36:46.437000+00:00   \n",
       "...             ...                     ...                              ...   \n",
       "262195          112       A_PARTLYSUBMITTED 2012-02-29 23:51:17.423000+00:00   \n",
       "262196          112      W_Afhandelen leads 2012-02-29 23:52:01.287000+00:00   \n",
       "262197        11169      W_Afhandelen leads 2012-03-01 09:26:46.736000+00:00   \n",
       "262198        11169              A_DECLINED 2012-03-01 09:27:37.118000+00:00   \n",
       "262199        11169      W_Afhandelen leads 2012-03-01 09:27:41.325000+00:00   \n",
       "\n",
       "       case:concept:name case:AMOUNT_REQ    concept:name_eng  position  \\\n",
       "0                 173688           20000         A_SUBMITTED         1   \n",
       "1                 173688           20000   A_PARTLYSUBMITTED         2   \n",
       "2                 173688           20000       A_PREACCEPTED         3   \n",
       "3                 173688           20000  W_Complete request         4   \n",
       "4                 173688           20000  W_Complete request         5   \n",
       "...                  ...             ...                 ...       ...   \n",
       "262195            214376           15000   A_PARTLYSUBMITTED         2   \n",
       "262196            214376           15000      W_Handle leads         3   \n",
       "262197            214376           15000      W_Handle leads         4   \n",
       "262198            214376           15000          A_DECLINED         5   \n",
       "262199            214376           15000      W_Handle leads         6   \n",
       "\n",
       "                 next_activity                             date  \\\n",
       "0            A_PARTLYSUBMITTED 2011-10-01 00:38:44.546000+00:00   \n",
       "1                A_PREACCEPTED 2011-10-01 00:38:44.880000+00:00   \n",
       "2       W_Completeren aanvraag 2011-10-01 00:39:37.906000+00:00   \n",
       "3       W_Completeren aanvraag 2011-10-01 00:39:38.875000+00:00   \n",
       "4                   A_ACCEPTED 2011-10-01 11:36:46.437000+00:00   \n",
       "...                        ...                              ...   \n",
       "262195      W_Afhandelen leads 2012-02-29 23:51:17.423000+00:00   \n",
       "262196      W_Afhandelen leads 2012-02-29 23:52:01.287000+00:00   \n",
       "262197              A_DECLINED 2012-03-01 09:26:46.736000+00:00   \n",
       "262198      W_Afhandelen leads 2012-03-01 09:27:37.118000+00:00   \n",
       "262199             No_Activity 2012-03-01 09:27:41.325000+00:00   \n",
       "\n",
       "        date_milliseconds  ...  O_SELECTED O_SENT O_SENT_BACK  \\\n",
       "0           1317429524546  ...         0.0    0.0         0.0   \n",
       "1           1317429524880  ...         0.0    0.0         0.0   \n",
       "2           1317429577906  ...         0.0    0.0         0.0   \n",
       "3           1317429578875  ...         0.0    0.0         0.0   \n",
       "4           1317469006437  ...         0.0    0.0         0.0   \n",
       "...                   ...  ...         ...    ...         ...   \n",
       "262195      1330559477423  ...         0.0    0.0         0.0   \n",
       "262196      1330559521287  ...         0.0    0.0         0.0   \n",
       "262197      1330594006736  ...         0.0    0.0         0.0   \n",
       "262198      1330594057118  ...         0.0    0.0         0.0   \n",
       "262199      1330594061325  ...         0.0    0.0         0.0   \n",
       "\n",
       "       W_Afhandelen leads  W_Beoordelen fraude  W_Completeren aanvraag  \\\n",
       "0                     0.0                  0.0                     0.0   \n",
       "1                     0.0                  0.0                     0.0   \n",
       "2                     0.0                  0.0                     0.0   \n",
       "3                     0.0                  0.0                     1.0   \n",
       "4                     0.0                  0.0                     1.0   \n",
       "...                   ...                  ...                     ...   \n",
       "262195                0.0                  0.0                     0.0   \n",
       "262196                1.0                  0.0                     0.0   \n",
       "262197                1.0                  0.0                     0.0   \n",
       "262198                0.0                  0.0                     0.0   \n",
       "262199                1.0                  0.0                     0.0   \n",
       "\n",
       "        W_Nabellen incomplete dossiers  W_Nabellen offertes  \\\n",
       "0                                  0.0                  0.0   \n",
       "1                                  0.0                  0.0   \n",
       "2                                  0.0                  0.0   \n",
       "3                                  0.0                  0.0   \n",
       "4                                  0.0                  0.0   \n",
       "...                                ...                  ...   \n",
       "262195                             0.0                  0.0   \n",
       "262196                             0.0                  0.0   \n",
       "262197                             0.0                  0.0   \n",
       "262198                             0.0                  0.0   \n",
       "262199                             0.0                  0.0   \n",
       "\n",
       "        W_Valideren aanvraag  W_Wijzigen contractgegevens  \n",
       "0                        0.0                          0.0  \n",
       "1                        0.0                          0.0  \n",
       "2                        0.0                          0.0  \n",
       "3                        0.0                          0.0  \n",
       "4                        0.0                          0.0  \n",
       "...                      ...                          ...  \n",
       "262195                   0.0                          0.0  \n",
       "262196                   0.0                          0.0  \n",
       "262197                   0.0                          0.0  \n",
       "262198                   0.0                          0.0  \n",
       "262199                   0.0                          0.0  \n",
       "\n",
       "[262200 rows x 50 columns]"
      ]
     },
     "execution_count": 38,
     "metadata": {},
     "output_type": "execute_result"
    }
   ],
   "source": [
    "df"
   ]
  },
  {
   "cell_type": "code",
   "execution_count": 39,
   "metadata": {},
   "outputs": [],
   "source": [
    "one_hot_encode_activity_list = list(df_encoded.columns)\n",
    "linear_regression_extra_predictors_list = [\"position\", \"time_until_midnight\", \"month\", \"day\", \"time_elapsed_since_previous_event\", \"case:AMOUNT_REQ\", \"time_since_start\", \"next_timestamp_hours\", \"duration\", \"case:concept:name\"]\n",
    "one_hot_encode_activity_list.extend(linear_regression_extra_predictors_list)\n",
    "\n",
    "one_hot_encode_activity_list\n",
    "\n",
    "\n",
    "df_linear_regression = df[one_hot_encode_activity_list]"
   ]
  },
  {
   "cell_type": "code",
   "execution_count": 40,
   "metadata": {},
   "outputs": [],
   "source": [
    "df_linear_regression = df_linear_regression[df_linear_regression[\"next_timestamp_hours\"] != 0]"
   ]
  },
  {
   "cell_type": "code",
   "execution_count": null,
   "metadata": {},
   "outputs": [],
   "source": []
  },
  {
   "cell_type": "code",
   "execution_count": 41,
   "metadata": {},
   "outputs": [],
   "source": [
    "from sklearn.model_selection import train_test_split\n",
    "\n",
    "X = df_linear_regression[['A_ACCEPTED', 'A_ACTIVATED', 'A_APPROVED', 'A_CANCELLED', 'A_DECLINED',\n",
    "       'A_FINALIZED', 'A_PARTLYSUBMITTED', 'A_PREACCEPTED', 'A_REGISTERED',\n",
    "       'A_SUBMITTED', 'O_ACCEPTED', 'O_CANCELLED', 'O_CREATED', 'O_DECLINED',\n",
    "       'O_SELECTED', 'O_SENT', 'O_SENT_BACK', 'W_Afhandelen leads',\n",
    "       'W_Beoordelen fraude', 'W_Completeren aanvraag',\n",
    "       'W_Nabellen incomplete dossiers', 'W_Nabellen offertes',\n",
    "       'W_Valideren aanvraag', 'W_Wijzigen contractgegevens', 'position',\n",
    "       'time_until_midnight', 'month', 'day',\n",
    "       'time_elapsed_since_previous_event', 'case:AMOUNT_REQ',\n",
    "       'time_since_start']]\n",
    "y = df_linear_regression[\"next_timestamp_hours\"]\n",
    "\n",
    "extra_var = df_linear_regression[[\"position\", 'A_ACCEPTED', 'A_ACTIVATED', 'A_APPROVED', 'A_CANCELLED', 'A_DECLINED',\n",
    "       'A_FINALIZED', 'A_PARTLYSUBMITTED', 'A_PREACCEPTED', 'A_REGISTERED',\n",
    "       'A_SUBMITTED', 'O_ACCEPTED', 'O_CANCELLED', 'O_CREATED', 'O_DECLINED',\n",
    "       'O_SELECTED', 'O_SENT', 'O_SENT_BACK', 'W_Afhandelen leads',\n",
    "       'W_Beoordelen fraude', 'W_Completeren aanvraag',\n",
    "       'W_Nabellen incomplete dossiers', 'W_Nabellen offertes',\n",
    "       'W_Valideren aanvraag', 'W_Wijzigen contractgegevens']]\n",
    "\n",
    "# Split the data into training and testing sets (80% train, 20% test)\n",
    "X_train, X_test, y_train, y_test, extra_var_train, extra_var_test = train_test_split(X, y, extra_var, test_size=0.2, random_state=42)\n"
   ]
  },
  {
   "cell_type": "code",
   "execution_count": 42,
   "metadata": {},
   "outputs": [],
   "source": [
    "from sklearn.linear_model import LinearRegression\n",
    "from sklearn.model_selection import train_test_split\n",
    "from sklearn.metrics import mean_squared_error, r2_score\n",
    "\n",
    "model = LinearRegression()\n",
    "\n",
    "\n",
    "model.fit(X_train, y_train)\n",
    "\n",
    "\n",
    "y_pred = model.predict(X_test)\n",
    "\n"
   ]
  },
  {
   "cell_type": "code",
   "execution_count": 107,
   "metadata": {},
   "outputs": [
    {
     "name": "stdout",
     "output_type": "stream",
     "text": [
      "MAE in hours is 197.45841680826607\n",
      "MAE in days is 8.227434033677753\n"
     ]
    }
   ],
   "source": [
    "results_df_main_variables = pd.DataFrame({'Position': extra_var_test[\"position\"], 'Actual': y_test, 'Predicted': y_pred})\n",
    "\n",
    "results_df_misc_variables = extra_var_test[['A_ACCEPTED', 'A_ACTIVATED', 'A_APPROVED', 'A_CANCELLED', 'A_DECLINED',\n",
    "       'A_FINALIZED', 'A_PARTLYSUBMITTED', 'A_PREACCEPTED', 'A_REGISTERED',\n",
    "       'A_SUBMITTED', 'O_ACCEPTED', 'O_CANCELLED', 'O_CREATED', 'O_DECLINED',\n",
    "       'O_SELECTED', 'O_SENT', 'O_SENT_BACK', 'W_Afhandelen leads',\n",
    "       'W_Beoordelen fraude', 'W_Completeren aanvraag',\n",
    "       'W_Nabellen incomplete dossiers', 'W_Nabellen offertes',\n",
    "       'W_Valideren aanvraag', 'W_Wijzigen contractgegevens']]\n",
    "\n",
    "\n",
    "results_df = pd.concat([results_df_main_variables, results_df_misc_variables], axis = 1)\n",
    "\n",
    "results_df[results_df[\"Actual\"] != 0]\n",
    "\n",
    "\n",
    "results_df = results_df.groupby(\"Position\")[[\"Predicted\", \"Actual\"]].mean()\n",
    "\n",
    "\n",
    "\n",
    "from sklearn.metrics import mean_absolute_error\n",
    "\n",
    "error = mean_absolute_error(results_df[[\"Actual\"]], results_df[[\"Predicted\"]])\n",
    "\n",
    "\n",
    "results_df[\"Predicted\"] = pd.to_datetime(results_df[\"Predicted\"], unit = \"h\")\n",
    "\n",
    "results_df[\"Actual\"] = pd.to_datetime(results_df[\"Actual\"], unit = \"h\")\n",
    "\n",
    "#decoded_df = results_df[['A_ACCEPTED', 'A_ACTIVATED', 'A_APPROVED', 'A_CANCELLED', 'A_DECLINED',\n",
    "#       'A_FINALIZED', 'A_PARTLYSUBMITTED', 'A_PREACCEPTED', 'A_REGISTERED',\n",
    "#       'A_SUBMITTED', 'O_ACCEPTED', 'O_CANCELLED', 'O_CREATED', 'O_DECLINED',\n",
    "#       'O_SELECTED', 'O_SENT', 'O_SENT_BACK', 'W_Afhandelen leads',\n",
    "#       'W_Beoordelen fraude', 'W_Completeren aanvraag',\n",
    "#       'W_Nabellen incomplete dossiers', 'W_Nabellen offertes',\n",
    "#       'W_Valideren aanvraag', 'W_Wijzigen contractgegevens']].idxmax(axis=1)\n",
    "\n",
    "#decoded_df\n",
    "\n",
    "\n",
    "print(f'MAE in hours is {error}')\n",
    "print(f'MAE in days is {error/24}')\n",
    "\n",
    "    \n"
   ]
  },
  {
   "cell_type": "code",
   "execution_count": 108,
   "metadata": {},
   "outputs": [
    {
     "data": {
      "text/html": [
       "<div>\n",
       "<style scoped>\n",
       "    .dataframe tbody tr th:only-of-type {\n",
       "        vertical-align: middle;\n",
       "    }\n",
       "\n",
       "    .dataframe tbody tr th {\n",
       "        vertical-align: top;\n",
       "    }\n",
       "\n",
       "    .dataframe thead th {\n",
       "        text-align: right;\n",
       "    }\n",
       "</style>\n",
       "<table border=\"1\" class=\"dataframe\">\n",
       "  <thead>\n",
       "    <tr style=\"text-align: right;\">\n",
       "      <th></th>\n",
       "      <th>Predicted</th>\n",
       "      <th>Actual</th>\n",
       "    </tr>\n",
       "    <tr>\n",
       "      <th>Position</th>\n",
       "      <th></th>\n",
       "      <th></th>\n",
       "    </tr>\n",
       "  </thead>\n",
       "  <tbody>\n",
       "    <tr>\n",
       "      <th>1</th>\n",
       "      <td>2011-12-17 05:43:55.727011584</td>\n",
       "      <td>2011-12-17 15:20:19.217379072</td>\n",
       "    </tr>\n",
       "    <tr>\n",
       "      <th>2</th>\n",
       "      <td>2011-12-17 21:59:09.224694784</td>\n",
       "      <td>2011-12-18 11:12:54.916807424</td>\n",
       "    </tr>\n",
       "    <tr>\n",
       "      <th>3</th>\n",
       "      <td>2011-12-19 21:40:52.610042880</td>\n",
       "      <td>2011-12-20 01:12:05.605646592</td>\n",
       "    </tr>\n",
       "    <tr>\n",
       "      <th>4</th>\n",
       "      <td>2011-12-18 17:16:29.862802432</td>\n",
       "      <td>2011-12-19 01:00:53.233988096</td>\n",
       "    </tr>\n",
       "    <tr>\n",
       "      <th>5</th>\n",
       "      <td>2011-12-18 01:36:33.238098432</td>\n",
       "      <td>2011-12-17 06:33:15.223543552</td>\n",
       "    </tr>\n",
       "    <tr>\n",
       "      <th>...</th>\n",
       "      <td>...</td>\n",
       "      <td>...</td>\n",
       "    </tr>\n",
       "    <tr>\n",
       "      <th>161</th>\n",
       "      <td>2012-02-29 08:12:57.093290496</td>\n",
       "      <td>2012-01-10 19:25:14.828999936</td>\n",
       "    </tr>\n",
       "    <tr>\n",
       "      <th>162</th>\n",
       "      <td>2012-03-07 20:43:57.840572928</td>\n",
       "      <td>2012-01-17 20:18:54.092000000</td>\n",
       "    </tr>\n",
       "    <tr>\n",
       "      <th>163</th>\n",
       "      <td>2012-03-07 22:40:51.965961472</td>\n",
       "      <td>2012-01-19 10:19:27.671000064</td>\n",
       "    </tr>\n",
       "    <tr>\n",
       "      <th>166</th>\n",
       "      <td>2012-03-03 23:37:57.305026560</td>\n",
       "      <td>2012-02-05 14:09:16.712499968</td>\n",
       "    </tr>\n",
       "    <tr>\n",
       "      <th>167</th>\n",
       "      <td>2012-03-03 19:30:38.531441152</td>\n",
       "      <td>2012-01-17 10:07:30.586000128</td>\n",
       "    </tr>\n",
       "  </tbody>\n",
       "</table>\n",
       "<p>161 rows × 2 columns</p>\n",
       "</div>"
      ],
      "text/plain": [
       "                             Predicted                        Actual\n",
       "Position                                                            \n",
       "1        2011-12-17 05:43:55.727011584 2011-12-17 15:20:19.217379072\n",
       "2        2011-12-17 21:59:09.224694784 2011-12-18 11:12:54.916807424\n",
       "3        2011-12-19 21:40:52.610042880 2011-12-20 01:12:05.605646592\n",
       "4        2011-12-18 17:16:29.862802432 2011-12-19 01:00:53.233988096\n",
       "5        2011-12-18 01:36:33.238098432 2011-12-17 06:33:15.223543552\n",
       "...                                ...                           ...\n",
       "161      2012-02-29 08:12:57.093290496 2012-01-10 19:25:14.828999936\n",
       "162      2012-03-07 20:43:57.840572928 2012-01-17 20:18:54.092000000\n",
       "163      2012-03-07 22:40:51.965961472 2012-01-19 10:19:27.671000064\n",
       "166      2012-03-03 23:37:57.305026560 2012-02-05 14:09:16.712499968\n",
       "167      2012-03-03 19:30:38.531441152 2012-01-17 10:07:30.586000128\n",
       "\n",
       "[161 rows x 2 columns]"
      ]
     },
     "execution_count": 108,
     "metadata": {},
     "output_type": "execute_result"
    }
   ],
   "source": [
    "results_df"
   ]
  },
  {
   "cell_type": "code",
   "execution_count": 109,
   "metadata": {},
   "outputs": [
    {
     "ename": "AttributeError",
     "evalue": "'ARIMA' object has no attribute 'coef_'",
     "output_type": "error",
     "traceback": [
      "\u001b[1;31m---------------------------------------------------------------------------\u001b[0m",
      "\u001b[1;31mAttributeError\u001b[0m                            Traceback (most recent call last)",
      "Cell \u001b[1;32mIn[109], line 1\u001b[0m\n\u001b[1;32m----> 1\u001b[0m feature_importances \u001b[38;5;241m=\u001b[39m pd\u001b[38;5;241m.\u001b[39mSeries(\u001b[43mmodel\u001b[49m\u001b[38;5;241;43m.\u001b[39;49m\u001b[43mcoef_\u001b[49m, index\u001b[38;5;241m=\u001b[39mX\u001b[38;5;241m.\u001b[39mcolumns)\n\u001b[0;32m      3\u001b[0m feature_importances \u001b[38;5;241m=\u001b[39m pd\u001b[38;5;241m.\u001b[39mDataFrame(feature_importances, columns \u001b[38;5;241m=\u001b[39m [\u001b[38;5;124m\"\u001b[39m\u001b[38;5;124mCoefficient\u001b[39m\u001b[38;5;124m\"\u001b[39m])\n\u001b[0;32m      5\u001b[0m feature_importances\u001b[38;5;241m.\u001b[39msort_values(by \u001b[38;5;241m=\u001b[39m [\u001b[38;5;124m\"\u001b[39m\u001b[38;5;124mCoefficient\u001b[39m\u001b[38;5;124m\"\u001b[39m], inplace \u001b[38;5;241m=\u001b[39m \u001b[38;5;28;01mTrue\u001b[39;00m, ascending \u001b[38;5;241m=\u001b[39m \u001b[38;5;28;01mFalse\u001b[39;00m)\n",
      "\u001b[1;31mAttributeError\u001b[0m: 'ARIMA' object has no attribute 'coef_'"
     ]
    }
   ],
   "source": [
    "\n",
    "feature_importances = pd.Series(model.coef_, index=X.columns)\n",
    "\n",
    "feature_importances = pd.DataFrame(feature_importances, columns = [\"Coefficient\"])\n",
    "\n",
    "feature_importances.sort_values(by = [\"Coefficient\"], inplace = True, ascending = False)\n",
    "\n",
    "feature_importances = feature_importances.drop_duplicates()\n",
    "\n",
    "feature_importances = feature_importances[feature_importances.index != \"W_Wijzigen contractgegevens\"]\n",
    "\n",
    "feature_importances = feature_importances[feature_importances.index != \"month\"]\n",
    "\n",
    "\n",
    "\n",
    "\n",
    "\"\"\"\n",
    "ax = feature_importances.plot(kind='bar', figsize=(20, 10))\n",
    "\n",
    "ax.set_xlabel('Feature', fontsize=16)  \n",
    "ax.set_ylabel('Coefficient', fontsize=16) \n",
    "ax.set_title('Feature Importances (Coefficients) for Next Timestamp Prediction', fontsize=20)\n",
    "ax.axhline(0, color='black', linewidth = 0.5)  # Horizontal line at y=0\n",
    "#ax.axvline(0, color='black', linewidth=0.5)  # Vertical line at x=0\n",
    "\n",
    "\n",
    "ax\n",
    "\n",
    "\"\"\""
   ]
  },
  {
   "cell_type": "code",
   "execution_count": 110,
   "metadata": {},
   "outputs": [
    {
     "data": {
      "text/html": [
       "<div>\n",
       "<style scoped>\n",
       "    .dataframe tbody tr th:only-of-type {\n",
       "        vertical-align: middle;\n",
       "    }\n",
       "\n",
       "    .dataframe tbody tr th {\n",
       "        vertical-align: top;\n",
       "    }\n",
       "\n",
       "    .dataframe thead th {\n",
       "        text-align: right;\n",
       "    }\n",
       "</style>\n",
       "<table border=\"1\" class=\"dataframe\">\n",
       "  <thead>\n",
       "    <tr style=\"text-align: right;\">\n",
       "      <th></th>\n",
       "      <th>Coefficient</th>\n",
       "    </tr>\n",
       "  </thead>\n",
       "  <tbody>\n",
       "    <tr>\n",
       "      <th>day</th>\n",
       "      <td>1.878200e+01</td>\n",
       "    </tr>\n",
       "    <tr>\n",
       "      <th>position</th>\n",
       "      <td>1.712694e+00</td>\n",
       "    </tr>\n",
       "    <tr>\n",
       "      <th>time_since_start</th>\n",
       "      <td>3.357482e-01</td>\n",
       "    </tr>\n",
       "    <tr>\n",
       "      <th>case:AMOUNT_REQ</th>\n",
       "      <td>1.268298e-03</td>\n",
       "    </tr>\n",
       "    <tr>\n",
       "      <th>time_elapsed_since_previous_event</th>\n",
       "      <td>-8.847564e-09</td>\n",
       "    </tr>\n",
       "    <tr>\n",
       "      <th>time_until_midnight</th>\n",
       "      <td>-8.293396e-01</td>\n",
       "    </tr>\n",
       "    <tr>\n",
       "      <th>W_Valideren aanvraag</th>\n",
       "      <td>-5.051121e+05</td>\n",
       "    </tr>\n",
       "    <tr>\n",
       "      <th>O_DECLINED</th>\n",
       "      <td>-5.051129e+05</td>\n",
       "    </tr>\n",
       "    <tr>\n",
       "      <th>W_Nabellen incomplete dossiers</th>\n",
       "      <td>-5.051154e+05</td>\n",
       "    </tr>\n",
       "    <tr>\n",
       "      <th>W_Nabellen offertes</th>\n",
       "      <td>-5.051168e+05</td>\n",
       "    </tr>\n",
       "    <tr>\n",
       "      <th>O_ACCEPTED</th>\n",
       "      <td>-5.051223e+05</td>\n",
       "    </tr>\n",
       "    <tr>\n",
       "      <th>A_APPROVED</th>\n",
       "      <td>-5.051238e+05</td>\n",
       "    </tr>\n",
       "    <tr>\n",
       "      <th>A_ACTIVATED</th>\n",
       "      <td>-5.051258e+05</td>\n",
       "    </tr>\n",
       "    <tr>\n",
       "      <th>A_REGISTERED</th>\n",
       "      <td>-5.051294e+05</td>\n",
       "    </tr>\n",
       "    <tr>\n",
       "      <th>O_SENT_BACK</th>\n",
       "      <td>-5.051321e+05</td>\n",
       "    </tr>\n",
       "    <tr>\n",
       "      <th>W_Completeren aanvraag</th>\n",
       "      <td>-5.051504e+05</td>\n",
       "    </tr>\n",
       "    <tr>\n",
       "      <th>A_CANCELLED</th>\n",
       "      <td>-5.051559e+05</td>\n",
       "    </tr>\n",
       "    <tr>\n",
       "      <th>O_CANCELLED</th>\n",
       "      <td>-5.051595e+05</td>\n",
       "    </tr>\n",
       "    <tr>\n",
       "      <th>W_Beoordelen fraude</th>\n",
       "      <td>-5.051655e+05</td>\n",
       "    </tr>\n",
       "    <tr>\n",
       "      <th>A_DECLINED</th>\n",
       "      <td>-5.051753e+05</td>\n",
       "    </tr>\n",
       "    <tr>\n",
       "      <th>O_SELECTED</th>\n",
       "      <td>-5.051784e+05</td>\n",
       "    </tr>\n",
       "    <tr>\n",
       "      <th>A_SUBMITTED</th>\n",
       "      <td>-5.051786e+05</td>\n",
       "    </tr>\n",
       "    <tr>\n",
       "      <th>A_PARTLYSUBMITTED</th>\n",
       "      <td>-5.051810e+05</td>\n",
       "    </tr>\n",
       "    <tr>\n",
       "      <th>A_PREACCEPTED</th>\n",
       "      <td>-5.051852e+05</td>\n",
       "    </tr>\n",
       "    <tr>\n",
       "      <th>O_SENT</th>\n",
       "      <td>-5.051880e+05</td>\n",
       "    </tr>\n",
       "    <tr>\n",
       "      <th>O_CREATED</th>\n",
       "      <td>-5.051913e+05</td>\n",
       "    </tr>\n",
       "    <tr>\n",
       "      <th>W_Afhandelen leads</th>\n",
       "      <td>-5.051932e+05</td>\n",
       "    </tr>\n",
       "    <tr>\n",
       "      <th>A_FINALIZED</th>\n",
       "      <td>-5.051933e+05</td>\n",
       "    </tr>\n",
       "    <tr>\n",
       "      <th>A_ACCEPTED</th>\n",
       "      <td>-5.051933e+05</td>\n",
       "    </tr>\n",
       "  </tbody>\n",
       "</table>\n",
       "</div>"
      ],
      "text/plain": [
       "                                    Coefficient\n",
       "day                                1.878200e+01\n",
       "position                           1.712694e+00\n",
       "time_since_start                   3.357482e-01\n",
       "case:AMOUNT_REQ                    1.268298e-03\n",
       "time_elapsed_since_previous_event -8.847564e-09\n",
       "time_until_midnight               -8.293396e-01\n",
       "W_Valideren aanvraag              -5.051121e+05\n",
       "O_DECLINED                        -5.051129e+05\n",
       "W_Nabellen incomplete dossiers    -5.051154e+05\n",
       "W_Nabellen offertes               -5.051168e+05\n",
       "O_ACCEPTED                        -5.051223e+05\n",
       "A_APPROVED                        -5.051238e+05\n",
       "A_ACTIVATED                       -5.051258e+05\n",
       "A_REGISTERED                      -5.051294e+05\n",
       "O_SENT_BACK                       -5.051321e+05\n",
       "W_Completeren aanvraag            -5.051504e+05\n",
       "A_CANCELLED                       -5.051559e+05\n",
       "O_CANCELLED                       -5.051595e+05\n",
       "W_Beoordelen fraude               -5.051655e+05\n",
       "A_DECLINED                        -5.051753e+05\n",
       "O_SELECTED                        -5.051784e+05\n",
       "A_SUBMITTED                       -5.051786e+05\n",
       "A_PARTLYSUBMITTED                 -5.051810e+05\n",
       "A_PREACCEPTED                     -5.051852e+05\n",
       "O_SENT                            -5.051880e+05\n",
       "O_CREATED                         -5.051913e+05\n",
       "W_Afhandelen leads                -5.051932e+05\n",
       "A_FINALIZED                       -5.051933e+05\n",
       "A_ACCEPTED                        -5.051933e+05"
      ]
     },
     "execution_count": 110,
     "metadata": {},
     "output_type": "execute_result"
    }
   ],
   "source": [
    "feature_importances"
   ]
  },
  {
   "cell_type": "code",
   "execution_count": 111,
   "metadata": {},
   "outputs": [
    {
     "data": {
      "text/plain": [
       "Text(0, 0.5, 'Next Timestamp')"
      ]
     },
     "execution_count": 111,
     "metadata": {},
     "output_type": "execute_result"
    },
    {
     "data": {
      "image/png": "[encoded data removed]",
      "text/plain": [
       "<Figure size 640x480 with 1 Axes>"
      ]
     },
     "metadata": {},
     "output_type": "display_data"
    }
   ],
   "source": [
    "ax = results_df.plot(kind = \"line\", title = \"Comparing Actual Next Timestamps to Predicted Next Timestamps\")\n",
    "ax.set_xlabel(\"Position\")\n",
    "ax.set_ylabel(\"Next Timestamp\")\n"
   ]
  },
  {
   "cell_type": "code",
   "execution_count": 49,
   "metadata": {},
   "outputs": [
    {
     "data": {
      "text/html": [
       "<div>\n",
       "<style scoped>\n",
       "    .dataframe tbody tr th:only-of-type {\n",
       "        vertical-align: middle;\n",
       "    }\n",
       "\n",
       "    .dataframe tbody tr th {\n",
       "        vertical-align: top;\n",
       "    }\n",
       "\n",
       "    .dataframe thead th {\n",
       "        text-align: right;\n",
       "    }\n",
       "</style>\n",
       "<table border=\"1\" class=\"dataframe\">\n",
       "  <thead>\n",
       "    <tr style=\"text-align: right;\">\n",
       "      <th></th>\n",
       "      <th>Position</th>\n",
       "      <th>Actual</th>\n",
       "      <th>Predicted</th>\n",
       "      <th>A_ACCEPTED</th>\n",
       "      <th>A_ACTIVATED</th>\n",
       "      <th>A_APPROVED</th>\n",
       "      <th>A_CANCELLED</th>\n",
       "      <th>A_DECLINED</th>\n",
       "      <th>A_FINALIZED</th>\n",
       "      <th>A_PARTLYSUBMITTED</th>\n",
       "      <th>...</th>\n",
       "      <th>O_SELECTED</th>\n",
       "      <th>O_SENT</th>\n",
       "      <th>O_SENT_BACK</th>\n",
       "      <th>W_Afhandelen leads</th>\n",
       "      <th>W_Beoordelen fraude</th>\n",
       "      <th>W_Completeren aanvraag</th>\n",
       "      <th>W_Nabellen incomplete dossiers</th>\n",
       "      <th>W_Nabellen offertes</th>\n",
       "      <th>W_Valideren aanvraag</th>\n",
       "      <th>W_Wijzigen contractgegevens</th>\n",
       "    </tr>\n",
       "  </thead>\n",
       "  <tbody>\n",
       "    <tr>\n",
       "      <th>195274</th>\n",
       "      <td>24</td>\n",
       "      <td>2012-02-24 09:15:35.424999936</td>\n",
       "      <td>2012-02-07 10:13:41.278784000</td>\n",
       "      <td>0.0</td>\n",
       "      <td>0.0</td>\n",
       "      <td>0.0</td>\n",
       "      <td>1.0</td>\n",
       "      <td>0.0</td>\n",
       "      <td>0.0</td>\n",
       "      <td>0.0</td>\n",
       "      <td>...</td>\n",
       "      <td>0.0</td>\n",
       "      <td>0.0</td>\n",
       "      <td>0.0</td>\n",
       "      <td>0.0</td>\n",
       "      <td>0.0</td>\n",
       "      <td>0.0</td>\n",
       "      <td>0.0</td>\n",
       "      <td>0.0</td>\n",
       "      <td>0.0</td>\n",
       "      <td>0.0</td>\n",
       "    </tr>\n",
       "    <tr>\n",
       "      <th>63404</th>\n",
       "      <td>89</td>\n",
       "      <td>2011-12-22 09:41:05.542000128</td>\n",
       "      <td>2011-12-05 01:16:30.638846464</td>\n",
       "      <td>0.0</td>\n",
       "      <td>0.0</td>\n",
       "      <td>0.0</td>\n",
       "      <td>0.0</td>\n",
       "      <td>0.0</td>\n",
       "      <td>0.0</td>\n",
       "      <td>0.0</td>\n",
       "      <td>...</td>\n",
       "      <td>0.0</td>\n",
       "      <td>0.0</td>\n",
       "      <td>0.0</td>\n",
       "      <td>0.0</td>\n",
       "      <td>0.0</td>\n",
       "      <td>0.0</td>\n",
       "      <td>1.0</td>\n",
       "      <td>0.0</td>\n",
       "      <td>0.0</td>\n",
       "      <td>0.0</td>\n",
       "    </tr>\n",
       "    <tr>\n",
       "      <th>212393</th>\n",
       "      <td>38</td>\n",
       "      <td>2012-02-21 10:03:36.973999872</td>\n",
       "      <td>2012-02-02 17:15:47.264537088</td>\n",
       "      <td>0.0</td>\n",
       "      <td>0.0</td>\n",
       "      <td>0.0</td>\n",
       "      <td>0.0</td>\n",
       "      <td>0.0</td>\n",
       "      <td>0.0</td>\n",
       "      <td>0.0</td>\n",
       "      <td>...</td>\n",
       "      <td>0.0</td>\n",
       "      <td>0.0</td>\n",
       "      <td>0.0</td>\n",
       "      <td>0.0</td>\n",
       "      <td>0.0</td>\n",
       "      <td>0.0</td>\n",
       "      <td>1.0</td>\n",
       "      <td>0.0</td>\n",
       "      <td>0.0</td>\n",
       "      <td>0.0</td>\n",
       "    </tr>\n",
       "    <tr>\n",
       "      <th>171542</th>\n",
       "      <td>9</td>\n",
       "      <td>2012-01-13 18:10:39.755000064</td>\n",
       "      <td>2012-02-03 05:18:33.731769344</td>\n",
       "      <td>0.0</td>\n",
       "      <td>0.0</td>\n",
       "      <td>0.0</td>\n",
       "      <td>0.0</td>\n",
       "      <td>0.0</td>\n",
       "      <td>0.0</td>\n",
       "      <td>0.0</td>\n",
       "      <td>...</td>\n",
       "      <td>0.0</td>\n",
       "      <td>0.0</td>\n",
       "      <td>0.0</td>\n",
       "      <td>0.0</td>\n",
       "      <td>0.0</td>\n",
       "      <td>1.0</td>\n",
       "      <td>0.0</td>\n",
       "      <td>0.0</td>\n",
       "      <td>0.0</td>\n",
       "      <td>0.0</td>\n",
       "    </tr>\n",
       "    <tr>\n",
       "      <th>135979</th>\n",
       "      <td>30</td>\n",
       "      <td>2011-12-30 16:19:45.120000000</td>\n",
       "      <td>2011-11-19 11:01:28.650252288</td>\n",
       "      <td>0.0</td>\n",
       "      <td>0.0</td>\n",
       "      <td>0.0</td>\n",
       "      <td>0.0</td>\n",
       "      <td>0.0</td>\n",
       "      <td>0.0</td>\n",
       "      <td>0.0</td>\n",
       "      <td>...</td>\n",
       "      <td>0.0</td>\n",
       "      <td>0.0</td>\n",
       "      <td>0.0</td>\n",
       "      <td>0.0</td>\n",
       "      <td>0.0</td>\n",
       "      <td>0.0</td>\n",
       "      <td>0.0</td>\n",
       "      <td>0.0</td>\n",
       "      <td>1.0</td>\n",
       "      <td>0.0</td>\n",
       "    </tr>\n",
       "    <tr>\n",
       "      <th>...</th>\n",
       "      <td>...</td>\n",
       "      <td>...</td>\n",
       "      <td>...</td>\n",
       "      <td>...</td>\n",
       "      <td>...</td>\n",
       "      <td>...</td>\n",
       "      <td>...</td>\n",
       "      <td>...</td>\n",
       "      <td>...</td>\n",
       "      <td>...</td>\n",
       "      <td>...</td>\n",
       "      <td>...</td>\n",
       "      <td>...</td>\n",
       "      <td>...</td>\n",
       "      <td>...</td>\n",
       "      <td>...</td>\n",
       "      <td>...</td>\n",
       "      <td>...</td>\n",
       "      <td>...</td>\n",
       "      <td>...</td>\n",
       "      <td>...</td>\n",
       "    </tr>\n",
       "    <tr>\n",
       "      <th>208289</th>\n",
       "      <td>11</td>\n",
       "      <td>2012-02-01 12:31:51.644000000</td>\n",
       "      <td>2012-01-26 05:53:20.261348352</td>\n",
       "      <td>0.0</td>\n",
       "      <td>0.0</td>\n",
       "      <td>0.0</td>\n",
       "      <td>0.0</td>\n",
       "      <td>0.0</td>\n",
       "      <td>0.0</td>\n",
       "      <td>0.0</td>\n",
       "      <td>...</td>\n",
       "      <td>0.0</td>\n",
       "      <td>0.0</td>\n",
       "      <td>0.0</td>\n",
       "      <td>0.0</td>\n",
       "      <td>0.0</td>\n",
       "      <td>0.0</td>\n",
       "      <td>0.0</td>\n",
       "      <td>1.0</td>\n",
       "      <td>0.0</td>\n",
       "      <td>0.0</td>\n",
       "    </tr>\n",
       "    <tr>\n",
       "      <th>230910</th>\n",
       "      <td>30</td>\n",
       "      <td>2012-03-08 10:51:03.582999808</td>\n",
       "      <td>2012-01-28 22:51:47.655539968</td>\n",
       "      <td>0.0</td>\n",
       "      <td>0.0</td>\n",
       "      <td>0.0</td>\n",
       "      <td>0.0</td>\n",
       "      <td>0.0</td>\n",
       "      <td>0.0</td>\n",
       "      <td>0.0</td>\n",
       "      <td>...</td>\n",
       "      <td>0.0</td>\n",
       "      <td>0.0</td>\n",
       "      <td>0.0</td>\n",
       "      <td>0.0</td>\n",
       "      <td>0.0</td>\n",
       "      <td>0.0</td>\n",
       "      <td>0.0</td>\n",
       "      <td>1.0</td>\n",
       "      <td>0.0</td>\n",
       "      <td>0.0</td>\n",
       "    </tr>\n",
       "    <tr>\n",
       "      <th>18451</th>\n",
       "      <td>3</td>\n",
       "      <td>2011-10-12 09:22:46.224000000</td>\n",
       "      <td>2011-11-24 12:07:44.815279360</td>\n",
       "      <td>0.0</td>\n",
       "      <td>0.0</td>\n",
       "      <td>0.0</td>\n",
       "      <td>0.0</td>\n",
       "      <td>0.0</td>\n",
       "      <td>0.0</td>\n",
       "      <td>0.0</td>\n",
       "      <td>...</td>\n",
       "      <td>0.0</td>\n",
       "      <td>0.0</td>\n",
       "      <td>0.0</td>\n",
       "      <td>1.0</td>\n",
       "      <td>0.0</td>\n",
       "      <td>0.0</td>\n",
       "      <td>0.0</td>\n",
       "      <td>0.0</td>\n",
       "      <td>0.0</td>\n",
       "      <td>0.0</td>\n",
       "    </tr>\n",
       "    <tr>\n",
       "      <th>190601</th>\n",
       "      <td>13</td>\n",
       "      <td>2012-01-24 14:51:34.300999936</td>\n",
       "      <td>2012-01-31 06:11:30.003136000</td>\n",
       "      <td>0.0</td>\n",
       "      <td>0.0</td>\n",
       "      <td>0.0</td>\n",
       "      <td>0.0</td>\n",
       "      <td>0.0</td>\n",
       "      <td>0.0</td>\n",
       "      <td>0.0</td>\n",
       "      <td>...</td>\n",
       "      <td>0.0</td>\n",
       "      <td>0.0</td>\n",
       "      <td>0.0</td>\n",
       "      <td>0.0</td>\n",
       "      <td>0.0</td>\n",
       "      <td>1.0</td>\n",
       "      <td>0.0</td>\n",
       "      <td>0.0</td>\n",
       "      <td>0.0</td>\n",
       "      <td>0.0</td>\n",
       "    </tr>\n",
       "    <tr>\n",
       "      <th>144814</th>\n",
       "      <td>20</td>\n",
       "      <td>2011-12-29 18:48:51.636999936</td>\n",
       "      <td>2011-11-15 04:34:57.073406720</td>\n",
       "      <td>0.0</td>\n",
       "      <td>0.0</td>\n",
       "      <td>0.0</td>\n",
       "      <td>0.0</td>\n",
       "      <td>0.0</td>\n",
       "      <td>0.0</td>\n",
       "      <td>0.0</td>\n",
       "      <td>...</td>\n",
       "      <td>0.0</td>\n",
       "      <td>0.0</td>\n",
       "      <td>0.0</td>\n",
       "      <td>0.0</td>\n",
       "      <td>0.0</td>\n",
       "      <td>0.0</td>\n",
       "      <td>0.0</td>\n",
       "      <td>1.0</td>\n",
       "      <td>0.0</td>\n",
       "      <td>0.0</td>\n",
       "    </tr>\n",
       "  </tbody>\n",
       "</table>\n",
       "<p>49823 rows × 27 columns</p>\n",
       "</div>"
      ],
      "text/plain": [
       "        Position                        Actual                     Predicted  \\\n",
       "195274        24 2012-02-24 09:15:35.424999936 2012-02-07 10:13:41.278784000   \n",
       "63404         89 2011-12-22 09:41:05.542000128 2011-12-05 01:16:30.638846464   \n",
       "212393        38 2012-02-21 10:03:36.973999872 2012-02-02 17:15:47.264537088   \n",
       "171542         9 2012-01-13 18:10:39.755000064 2012-02-03 05:18:33.731769344   \n",
       "135979        30 2011-12-30 16:19:45.120000000 2011-11-19 11:01:28.650252288   \n",
       "...          ...                           ...                           ...   \n",
       "208289        11 2012-02-01 12:31:51.644000000 2012-01-26 05:53:20.261348352   \n",
       "230910        30 2012-03-08 10:51:03.582999808 2012-01-28 22:51:47.655539968   \n",
       "18451          3 2011-10-12 09:22:46.224000000 2011-11-24 12:07:44.815279360   \n",
       "190601        13 2012-01-24 14:51:34.300999936 2012-01-31 06:11:30.003136000   \n",
       "144814        20 2011-12-29 18:48:51.636999936 2011-11-15 04:34:57.073406720   \n",
       "\n",
       "        A_ACCEPTED  A_ACTIVATED  A_APPROVED  A_CANCELLED  A_DECLINED  \\\n",
       "195274         0.0          0.0         0.0          1.0         0.0   \n",
       "63404          0.0          0.0         0.0          0.0         0.0   \n",
       "212393         0.0          0.0         0.0          0.0         0.0   \n",
       "171542         0.0          0.0         0.0          0.0         0.0   \n",
       "135979         0.0          0.0         0.0          0.0         0.0   \n",
       "...            ...          ...         ...          ...         ...   \n",
       "208289         0.0          0.0         0.0          0.0         0.0   \n",
       "230910         0.0          0.0         0.0          0.0         0.0   \n",
       "18451          0.0          0.0         0.0          0.0         0.0   \n",
       "190601         0.0          0.0         0.0          0.0         0.0   \n",
       "144814         0.0          0.0         0.0          0.0         0.0   \n",
       "\n",
       "        A_FINALIZED  A_PARTLYSUBMITTED  ...  O_SELECTED  O_SENT  O_SENT_BACK  \\\n",
       "195274          0.0                0.0  ...         0.0     0.0          0.0   \n",
       "63404           0.0                0.0  ...         0.0     0.0          0.0   \n",
       "212393          0.0                0.0  ...         0.0     0.0          0.0   \n",
       "171542          0.0                0.0  ...         0.0     0.0          0.0   \n",
       "135979          0.0                0.0  ...         0.0     0.0          0.0   \n",
       "...             ...                ...  ...         ...     ...          ...   \n",
       "208289          0.0                0.0  ...         0.0     0.0          0.0   \n",
       "230910          0.0                0.0  ...         0.0     0.0          0.0   \n",
       "18451           0.0                0.0  ...         0.0     0.0          0.0   \n",
       "190601          0.0                0.0  ...         0.0     0.0          0.0   \n",
       "144814          0.0                0.0  ...         0.0     0.0          0.0   \n",
       "\n",
       "        W_Afhandelen leads  W_Beoordelen fraude  W_Completeren aanvraag  \\\n",
       "195274                 0.0                  0.0                     0.0   \n",
       "63404                  0.0                  0.0                     0.0   \n",
       "212393                 0.0                  0.0                     0.0   \n",
       "171542                 0.0                  0.0                     1.0   \n",
       "135979                 0.0                  0.0                     0.0   \n",
       "...                    ...                  ...                     ...   \n",
       "208289                 0.0                  0.0                     0.0   \n",
       "230910                 0.0                  0.0                     0.0   \n",
       "18451                  1.0                  0.0                     0.0   \n",
       "190601                 0.0                  0.0                     1.0   \n",
       "144814                 0.0                  0.0                     0.0   \n",
       "\n",
       "        W_Nabellen incomplete dossiers  W_Nabellen offertes  \\\n",
       "195274                             0.0                  0.0   \n",
       "63404                              1.0                  0.0   \n",
       "212393                             1.0                  0.0   \n",
       "171542                             0.0                  0.0   \n",
       "135979                             0.0                  0.0   \n",
       "...                                ...                  ...   \n",
       "208289                             0.0                  1.0   \n",
       "230910                             0.0                  1.0   \n",
       "18451                              0.0                  0.0   \n",
       "190601                             0.0                  0.0   \n",
       "144814                             0.0                  1.0   \n",
       "\n",
       "        W_Valideren aanvraag  W_Wijzigen contractgegevens  \n",
       "195274                   0.0                          0.0  \n",
       "63404                    0.0                          0.0  \n",
       "212393                   0.0                          0.0  \n",
       "171542                   0.0                          0.0  \n",
       "135979                   1.0                          0.0  \n",
       "...                      ...                          ...  \n",
       "208289                   0.0                          0.0  \n",
       "230910                   0.0                          0.0  \n",
       "18451                    0.0                          0.0  \n",
       "190601                   0.0                          0.0  \n",
       "144814                   0.0                          0.0  \n",
       "\n",
       "[49823 rows x 27 columns]"
      ]
     },
     "execution_count": 49,
     "metadata": {},
     "output_type": "execute_result"
    }
   ],
   "source": [
    "results_df"
   ]
  },
  {
   "cell_type": "code",
   "execution_count": 50,
   "metadata": {},
   "outputs": [],
   "source": [
    "#df.to_csv(\"2012_preprocessed.csv\")"
   ]
  },
  {
   "cell_type": "code",
   "execution_count": 51,
   "metadata": {},
   "outputs": [
    {
     "data": {
      "image/png": "[encoded data removed]",
      "text/plain": [
       "<Figure size 640x480 with 1 Axes>"
      ]
     },
     "metadata": {},
     "output_type": "display_data"
    }
   ],
   "source": [
    "# Plot the time series\n",
    "df.set_index(\"position\", inplace = True)\n",
    "plt.plot(df[\"duration\"])\n",
    "plt.title(\"Position vs Duration\")\n",
    "plt.xlabel(\"Position\")\n",
    "plt.ylabel(\"Duration Between Processes\")\n",
    "plt.show()\n",
    "df.reset_index(inplace = True)"
   ]
  },
  {
   "cell_type": "markdown",
   "metadata": {},
   "source": [
    "The plot indicates a potential time trend"
   ]
  },
  {
   "cell_type": "code",
   "execution_count": 52,
   "metadata": {},
   "outputs": [
    {
     "data": {
      "text/plain": [
       "'\\nadf_test = adfuller(df[\"duration\"])\\n\\nprint(\\'ADF Statistic: %f\\' % adf_test[0])\\nprint(\\'p-value: %f\\' % adf_test[1])\\n'"
      ]
     },
     "execution_count": 52,
     "metadata": {},
     "output_type": "execute_result"
    }
   ],
   "source": [
    "\"\"\"\n",
    "adf_test = adfuller(df[\"duration\"])\n",
    "\n",
    "print('ADF Statistic: %f' % adf_test[0])\n",
    "print('p-value: %f' % adf_test[1])\n",
    "\"\"\"\n"
   ]
  },
  {
   "cell_type": "code",
   "execution_count": 53,
   "metadata": {},
   "outputs": [
    {
     "data": {
      "text/plain": [
       "\"\\n\\nfor key, value in adf_test[4].items():\\n    print('Critial Values:')\\n    print(f'   {key}, {value}')\\n\\n\""
      ]
     },
     "execution_count": 53,
     "metadata": {},
     "output_type": "execute_result"
    }
   ],
   "source": [
    "\"\"\"\n",
    "\n",
    "for key, value in adf_test[4].items():\n",
    "    print('Critial Values:')\n",
    "    print(f'   {key}, {value}')\n",
    "\n",
    "\"\"\""
   ]
  },
  {
   "cell_type": "code",
   "execution_count": 54,
   "metadata": {},
   "outputs": [],
   "source": [
    "#print('Number of Lags Used: %f' % adf_test[2])"
   ]
  },
  {
   "cell_type": "code",
   "execution_count": 55,
   "metadata": {},
   "outputs": [],
   "source": [
    "#plot_acf(df[\"duration\"], lags=62)\n",
    "#plt.show()"
   ]
  },
  {
   "cell_type": "code",
   "execution_count": 56,
   "metadata": {},
   "outputs": [],
   "source": [
    "#plot_pacf(df[\"duration\"], lags=62)\n",
    "#plt.show()"
   ]
  },
  {
   "cell_type": "code",
   "execution_count": 57,
   "metadata": {},
   "outputs": [],
   "source": [
    "#Fit the ARIMA(1,0,1) model\n",
    "\n",
    "model = ARIMA(df[\"duration\"], order=(1, 0, 1))\n",
    "model_fit = model.fit()"
   ]
  },
  {
   "cell_type": "code",
   "execution_count": 58,
   "metadata": {},
   "outputs": [
    {
     "name": "stdout",
     "output_type": "stream",
     "text": [
      "                               SARIMAX Results                                \n",
      "==============================================================================\n",
      "Dep. Variable:               duration   No. Observations:               262200\n",
      "Model:                 ARIMA(1, 0, 1)   Log Likelihood            -5296512.432\n",
      "Date:                Thu, 04 Apr 2024   AIC                       10593032.864\n",
      "Time:                        10:54:20   BIC                       10593074.771\n",
      "Sample:                             0   HQIC                      10593045.055\n",
      "                             - 262200                                         \n",
      "Covariance Type:                  opg                                         \n",
      "==============================================================================\n",
      "                 coef    std err          z      P>|z|      [0.025      0.975]\n",
      "------------------------------------------------------------------------------\n",
      "const       3.718e+07   2.34e-11   1.59e+18      0.000    3.72e+07    3.72e+07\n",
      "ar.L1         -0.8811      0.004   -245.483      0.000      -0.888      -0.874\n",
      "ma.L1          0.7905      0.004    175.785      0.000       0.782       0.799\n",
      "sigma2      2.103e+16   7.38e-19   2.85e+34      0.000     2.1e+16     2.1e+16\n",
      "===================================================================================\n",
      "Ljung-Box (L1) (Q):                1100.08   Jarque-Bera (JB):         147267105.76\n",
      "Prob(Q):                              0.00   Prob(JB):                         0.00\n",
      "Heteroskedasticity (H):               0.85   Skew:                             7.27\n",
      "Prob(H) (two-sided):                  0.00   Kurtosis:                       118.19\n",
      "===================================================================================\n",
      "\n",
      "Warnings:\n",
      "[1] Covariance matrix calculated using the outer product of gradients (complex-step).\n",
      "[2] Covariance matrix is singular or near-singular, with condition number 1.21e+47. Standard errors may be unstable.\n"
     ]
    }
   ],
   "source": [
    "print(model_fit.summary())"
   ]
  },
  {
   "cell_type": "code",
   "execution_count": 59,
   "metadata": {},
   "outputs": [
    {
     "data": {
      "image/png": "[encoded data removed]",
      "text/plain": [
       "<Figure size 640x480 with 2 Axes>"
      ]
     },
     "metadata": {},
     "output_type": "display_data"
    }
   ],
   "source": [
    "residuals = pd.DataFrame(model_fit.resid)\n",
    "fig, ax = plt.subplots(1,2)\n",
    "residuals.plot(title=\"Residuals\", ax=ax[0])\n",
    "residuals.plot(kind='kde', title='Density', ax=ax[1])\n",
    "plt.show()"
   ]
  },
  {
   "cell_type": "code",
   "execution_count": 60,
   "metadata": {},
   "outputs": [],
   "source": [
    "predictions = model_fit.predict()"
   ]
  },
  {
   "cell_type": "code",
   "execution_count": 61,
   "metadata": {},
   "outputs": [
    {
     "data": {
      "text/plain": [
       "'\\nplt.figure(figsize=(10, 6))\\nplt.plot(df[\"duration\"], label=\\'Actual Data\\', color=\\'blue\\')\\nplt.plot(predictions, label=\\'Predictions\\', color=\\'red\\')\\nplt.xlabel(\\'Time\\')\\nplt.ylabel(\\'Values\\')\\nplt.title(\\'Actual Data vs. ARIMA Predictions\\')\\nplt.legend()\\nplt.show()\\n'"
      ]
     },
     "execution_count": 61,
     "metadata": {},
     "output_type": "execute_result"
    }
   ],
   "source": [
    "\"\"\"\n",
    "plt.figure(figsize=(10, 6))\n",
    "plt.plot(df[\"duration\"], label='Actual Data', color='blue')\n",
    "plt.plot(predictions, label='Predictions', color='red')\n",
    "plt.xlabel('Time')\n",
    "plt.ylabel('Values')\n",
    "plt.title('Actual Data vs. ARIMA Predictions')\n",
    "plt.legend()\n",
    "plt.show()\n",
    "\"\"\""
   ]
  },
  {
   "cell_type": "code",
   "execution_count": 62,
   "metadata": {},
   "outputs": [
    {
     "data": {
      "text/plain": [
       "209760.0"
      ]
     },
     "execution_count": 62,
     "metadata": {},
     "output_type": "execute_result"
    }
   ],
   "source": [
    "len(df)*0.8"
   ]
  },
  {
   "cell_type": "code",
   "execution_count": 63,
   "metadata": {},
   "outputs": [
    {
     "data": {
      "text/plain": [
       "33"
      ]
     },
     "execution_count": 63,
     "metadata": {},
     "output_type": "execute_result"
    }
   ],
   "source": [
    "x = pd.DataFrame(df.groupby(df.index)[\"duration\"].count())\n",
    "\n",
    "x.iloc[0:33][\"duration\"].sum()"
   ]
  },
  {
   "cell_type": "code",
   "execution_count": 64,
   "metadata": {},
   "outputs": [],
   "source": [
    "filtered_df = df[(df.index >= 0) & (df.index <= 33)]\n",
    "filtered_df_2 = df[(df.index > 33)]\n",
    "\n",
    "train = pd.DataFrame(filtered_df[\"duration\"])\n",
    "test = pd.DataFrame(filtered_df_2[\"duration\"])"
   ]
  },
  {
   "cell_type": "code",
   "execution_count": 65,
   "metadata": {},
   "outputs": [],
   "source": [
    "# Build Model\n",
    "# model = ARIMA(train, order=(3,2,1))  \n",
    "model = ARIMA(train, order=(1, 0, 1))  \n",
    "fitted = model.fit()\n",
    "\n",
    "# Training prediction\n",
    "predictions = fitted.predict()\n",
    "\n",
    "# Forecast\n",
    "forecast = fitted.forecast(steps=len(test), index = test.index)\n",
    "\n"
   ]
  },
  {
   "cell_type": "code",
   "execution_count": 66,
   "metadata": {},
   "outputs": [
    {
     "data": {
      "text/plain": [
       "\"\\n\\n# Plot\\nplt.figure(figsize=(12,5), dpi=100)\\nplt.plot(train, label='training')\\nplt.plot(test, label='actual')\\nplt.plot(predictions, label='prediction')\\nplt.title('Predictions (Training) vs Actual')\\nplt.legend(loc='upper left', fontsize=8)\\nplt.show()\\n\\n\""
      ]
     },
     "execution_count": 66,
     "metadata": {},
     "output_type": "execute_result"
    }
   ],
   "source": [
    "\"\"\"\n",
    "\n",
    "# Plot\n",
    "plt.figure(figsize=(12,5), dpi=100)\n",
    "plt.plot(train, label='training')\n",
    "plt.plot(test, label='actual')\n",
    "plt.plot(predictions, label='prediction')\n",
    "plt.title('Predictions (Training) vs Actual')\n",
    "plt.legend(loc='upper left', fontsize=8)\n",
    "plt.show()\n",
    "\n",
    "\"\"\""
   ]
  },
  {
   "cell_type": "code",
   "execution_count": 67,
   "metadata": {},
   "outputs": [
    {
     "data": {
      "text/plain": [
       "\"\\n\\n# Plot\\nplt.figure(figsize=(12,5), dpi=100)\\nplt.plot(train, label='training')\\nplt.plot(test, label='actual')\\nplt.plot(forecast, label='forecast')\\nplt.title('Forecast (Testing) vs Actual')\\nplt.legend(loc='upper left', fontsize=8)\\nplt.show()\\n\\n\""
      ]
     },
     "execution_count": 67,
     "metadata": {},
     "output_type": "execute_result"
    }
   ],
   "source": [
    "\"\"\"\n",
    "\n",
    "# Plot\n",
    "plt.figure(figsize=(12,5), dpi=100)\n",
    "plt.plot(train, label='training')\n",
    "plt.plot(test, label='actual')\n",
    "plt.plot(forecast, label='forecast')\n",
    "plt.title('Forecast (Testing) vs Actual')\n",
    "plt.legend(loc='upper left', fontsize=8)\n",
    "plt.show()\n",
    "\n",
    "\"\"\""
   ]
  },
  {
   "cell_type": "code",
   "execution_count": 68,
   "metadata": {},
   "outputs": [],
   "source": [
    "#  Automatically evaluates the best model based on the AIC\n",
    "\n",
    "# Caution the code takes about 10 minutes to execute\n",
    "\n",
    "#from statsmodels.tsa.arima_model import ARIMA\n",
    "#import pmdarima as pm\n",
    "\n",
    "#model = pm.auto_arima(df[\"duration\"], start_p=1, start_q=1,\n",
    "#                      test='adf',       # use adftest to find optimal 'd'\n",
    "#                      max_p=3, max_q=3, # maximum p and q\n",
    "#                      m=1,              # frequency of series\n",
    "#                      d=None,           # let model determine 'd'\n",
    "#                      seasonal=False,   # No Seasonality\n",
    "#                      start_P=0, \n",
    "#                      D=0, \n",
    "#                      trace=True,\n",
    "#                      error_action='ignore',  \n",
    "#                      suppress_warnings=True, \n",
    "#                      stepwise=True)\n",
    "\n",
    "#print(model.summary())"
   ]
  },
  {
   "cell_type": "code",
   "execution_count": 69,
   "metadata": {},
   "outputs": [
    {
     "data": {
      "text/plain": [
       "'\\n\\nfrom sklearn.metrics import mean_squared_error\\nfrom sklearn.metrics import mean_absolute_percentage_error\\n\\nmse_test = mean_squared_error(test, forecast)\\nmape_test = mean_absolute_percentage_error(test, forecast)\\n\\nprint(\"The mean squared error is: %f\" %mse_test)\\nprint(\"The mean absolute percentage error is: %f\" %mape_test)\\n\\n'"
      ]
     },
     "execution_count": 69,
     "metadata": {},
     "output_type": "execute_result"
    }
   ],
   "source": [
    "\"\"\"\n",
    "\n",
    "from sklearn.metrics import mean_squared_error\n",
    "from sklearn.metrics import mean_absolute_percentage_error\n",
    "\n",
    "mse_test = mean_squared_error(test, forecast)\n",
    "mape_test = mean_absolute_percentage_error(test, forecast)\n",
    "\n",
    "print(\"The mean squared error is: %f\" %mse_test)\n",
    "print(\"The mean absolute percentage error is: %f\" %mape_test)\n",
    "\n",
    "\"\"\""
   ]
  },
  {
   "cell_type": "code",
   "execution_count": 70,
   "metadata": {},
   "outputs": [],
   "source": [
    "# Evaluating variance\n",
    "##variance = np.var(forecast)\n",
    "\n",
    "# Evaluating SSE\n",
    "#SSE = np.mean((np.mean(forecast) - test)** 2)  \n",
    "  # O/P : 85.03300391390214\n",
    "\n",
    "# Evaluating Variance\n",
    "#bias = SSE - variance\n",
    "  # O/P : 28.482148757577583\n",
    "\n",
    "#print(variance)\n",
    "#print(SSE)\n",
    "#print(bias)"
   ]
  },
  {
   "cell_type": "code",
   "execution_count": 71,
   "metadata": {},
   "outputs": [],
   "source": [
    "#from arch import arch_model\n",
    "\n",
    "# Define model\n",
    "##model = arch_model(train, mean='Zero', vol='ARCH', p=15)\n",
    "# Fit model\n",
    "##model_fit = model.fit()\n",
    "# Forecast the test set\n",
    "#yhat = model_fit.forecast(horizon=n_test)\n",
    "\n",
    "\n"
   ]
  },
  {
   "cell_type": "code",
   "execution_count": 72,
   "metadata": {},
   "outputs": [],
   "source": [
    "#import pm4py\n",
    "\n",
    "#if __name__ == \"__main__\":\n",
    "#    log = pm4py.read_xes('BPI_Challenge_2012.xes')\n"
   ]
  },
  {
   "cell_type": "code",
   "execution_count": 73,
   "metadata": {},
   "outputs": [],
   "source": [
    "#map = pm4py.discover_heuristics_net(log)\n",
    "#pm4py.view_heuristics_net(map)"
   ]
  },
  {
   "cell_type": "code",
   "execution_count": 74,
   "metadata": {},
   "outputs": [],
   "source": [
    "#df"
   ]
  },
  {
   "cell_type": "code",
   "execution_count": 75,
   "metadata": {},
   "outputs": [],
   "source": [
    "#from sklearn.preprocessing import OneHotEncoder\n",
    "\n",
    "#enc = OneHotEncoder(handle_unknown='ignore')\n",
    "\n",
    "#enc.fit(df[[\"concept:name\"]])\n",
    "\n",
    "#array = enc.transform(df[[\"concept:name\"]]).toarray()\n",
    "\n",
    "#df_one_hot = pd.DataFrame(array, columns = enc.get_feature_names_out())"
   ]
  },
  {
   "cell_type": "code",
   "execution_count": 76,
   "metadata": {},
   "outputs": [],
   "source": [
    "#df = df.merge(df_one_hot, left_index = True, right_index = True)\n",
    "#df"
   ]
  },
  {
   "cell_type": "code",
   "execution_count": 77,
   "metadata": {},
   "outputs": [],
   "source": [
    "#from sklearn.linear_model import LinearRegression\n",
    "#from sklearn.model_selection import train_test_split\n",
    "#from sklearn.metrics import mean_squared_error\n",
    "\n",
    "#X = df[[enc.get_feature_names_out()]]\n",
    "#y = df[\"Duration\"]\n",
    "\n",
    "\n"
   ]
  },
  {
   "cell_type": "code",
   "execution_count": 78,
   "metadata": {},
   "outputs": [],
   "source": [
    "#X_train, X_test, y_train, y_test = train_test_split(X, y, test_size=0.2, random_state=42)\n",
    "\n",
    "# Train linear regression model\n",
    "#model = LinearRegression()\n",
    "#model.fit(X_train, y_train)\n",
    "\n",
    "# Make predictions on the testing set\n",
    "#y_pred = model.predict(X_test)\n",
    "\n",
    "# Evaluate model\n",
    "#mse = mean_squared_error(y_test, y_pred)\n",
    "#print(\"Mean Squared Error:\", mse)"
   ]
  },
  {
   "cell_type": "code",
   "execution_count": 79,
   "metadata": {},
   "outputs": [],
   "source": [
    "#import duckdb"
   ]
  },
  {
   "cell_type": "code",
   "execution_count": 80,
   "metadata": {},
   "outputs": [],
   "source": [
    "#df"
   ]
  },
  {
   "cell_type": "code",
   "execution_count": 81,
   "metadata": {},
   "outputs": [],
   "source": [
    "df_time_series = df.groupby(\"position\")[[\"duration\"]].mean()"
   ]
  },
  {
   "cell_type": "code",
   "execution_count": 82,
   "metadata": {},
   "outputs": [
    {
     "name": "stderr",
     "output_type": "stream",
     "text": [
      "c:\\Users\\Aahaan\\AppData\\Local\\Programs\\Python\\Python39\\lib\\site-packages\\statsmodels\\tsa\\statespace\\sarimax.py:966: UserWarning: Non-stationary starting autoregressive parameters found. Using zeros as starting parameters.\n",
      "  warn('Non-stationary starting autoregressive parameters'\n",
      "c:\\Users\\Aahaan\\AppData\\Local\\Programs\\Python\\Python39\\lib\\site-packages\\statsmodels\\tsa\\statespace\\sarimax.py:978: UserWarning: Non-invertible starting MA parameters found. Using zeros as starting parameters.\n",
      "  warn('Non-invertible starting MA parameters found.'\n"
     ]
    },
    {
     "name": "stdout",
     "output_type": "stream",
     "text": [
      "Mean Absolute Error (MAE): 14442587.40742222\n"
     ]
    }
   ],
   "source": [
    "from sklearn.model_selection import TimeSeriesSplit\n",
    "from sklearn.metrics import mean_absolute_error\n",
    "\n",
    "# Define ARIMA parameters\n",
    "p = 1  # AR order\n",
    "d = 0  # Integrated order (differencing)\n",
    "q = 1  # MA order\n",
    "\n",
    "# Initialize TimeSeriesSplit cross-validator\n",
    "tscv = TimeSeriesSplit(n_splits=5)\n",
    "\n",
    "\n",
    "\n",
    "def evaluate_arima_model(train, test, order):\n",
    "    history = list(train[\"duration\"])\n",
    "    predictions = []\n",
    "    for t in range(len(test)):\n",
    "        model = ARIMA(history, order=order)\n",
    "        model_fit = model.fit()\n",
    "        yhat = model_fit.forecast()[0]\n",
    "        predictions.append(yhat)\n",
    "        history.append(test.iloc[t][\"duration\"])\n",
    "    error = mean_absolute_error(test[\"duration\"], predictions)\n",
    "    return error\n",
    "\n",
    "# Perform k-fold cross-validation with ARIMA model using MAE\n",
    "errors = []\n",
    "for train_idx, test_idx in tscv.split(df_time_series):\n",
    "    train, test = df_time_series.iloc[train_idx], df_time_series.iloc[test_idx]\n",
    "    error = evaluate_arima_model(train, test, order=(p, d, q))\n",
    "    errors.append(error)\n",
    "\n",
    "# Calculate mean absolute error across folds\n",
    "mean_error = np.mean(errors)\n",
    "print(\"Mean Absolute Error (MAE):\", mean_error)"
   ]
  },
  {
   "cell_type": "code",
   "execution_count": 83,
   "metadata": {},
   "outputs": [
    {
     "name": "stdout",
     "output_type": "stream",
     "text": [
      "The mean average error in hours is 4.011829835395061\n"
     ]
    }
   ],
   "source": [
    "mean_mae_hours = mean_error / (1000*60*60)\n",
    "print(f'The mean average error in hours is {mean_mae_hours}')"
   ]
  },
  {
   "cell_type": "code",
   "execution_count": 84,
   "metadata": {},
   "outputs": [
    {
     "data": {
      "text/plain": [
       "<Axes: xlabel='position'>"
      ]
     },
     "execution_count": 84,
     "metadata": {},
     "output_type": "execute_result"
    },
    {
     "data": {
      "image/png": "[encoded data removed]",
      "text/plain": [
       "<Figure size 640x480 with 1 Axes>"
      ]
     },
     "metadata": {},
     "output_type": "display_data"
    }
   ],
   "source": [
    "df_time_series.plot()"
   ]
  },
  {
   "cell_type": "code",
   "execution_count": 85,
   "metadata": {},
   "outputs": [
    {
     "data": {
      "text/plain": [
       "'\\n\\nfrom sklearn.model_selection import TimeSeriesSplit\\nfrom sklearn.metrics import mean_absolute_error\\n\\n\\n# Define ARIMA parameters\\np = 1  # AR order\\nd = 0  # Integrated order (differencing)\\nq = 1  # MA order\\n\\n# Initialize TimeSeriesSplit cross-validator\\ntscv = TimeSeriesSplit(n_splits=5)\\n\\n# Initialize dictionary to store MAE for each variable combination\\nmae_dict = {}\\n\\n# Define a function to evaluate ARIMA model using cross-validation with MAE\\ndef evaluate_arima_model(train, test, order, variables):\\n    history = list(train[\"duration\"])\\n    predictions = []\\n    for t in range(len(test)):\\n        model = ARIMA(history, order=order)\\n        model_fit = model.fit()\\n        yhat = model_fit.forecast()[0]\\n        predictions.append(yhat)\\n        history.append(test.iloc[t][\"duration\"])\\n    error = mean_absolute_error(test[\"duration\"], predictions)\\n    mae_dict[tuple(variables)] = mae_dict.get(tuple(variables), []) + [error]\\n    return error\\n\\n# Perform k-fold cross-validation with ARIMA model using MAE for different feature combinations\\nfor train_idx, test_idx in tscv.split(df):\\n    train, test = df.iloc[train_idx], df.iloc[test_idx]\\n    # Generate all possible feature combinations\\n    features = df.columns.drop([\\'date\\',])  # Exclude date and target value columns\\n    for r in range(1, len(features) + 1):\\n        for combo in combinations(features, r):\\n            error = evaluate_arima_model(train, test, order=(p, d, q), variables=combo)\\n\\n# Calculate mean MAE for each feature combination\\nmean_mae_dict = {variables: np.mean(errors) for variables, errors in mae_dict.items()}\\nprint(\"Mean Absolute Error (MAE) for each feature combination:\")\\nfor variables, mean_mae in mean_mae_dict.items():\\n    print(f\"Variables: {variables}, Mean MAE: {mean_mae}\")\\n    \\n'"
      ]
     },
     "execution_count": 85,
     "metadata": {},
     "output_type": "execute_result"
    }
   ],
   "source": [
    "\"\"\"\n",
    "\n",
    "from sklearn.model_selection import TimeSeriesSplit\n",
    "from sklearn.metrics import mean_absolute_error\n",
    "\n",
    "\n",
    "# Define ARIMA parameters\n",
    "p = 1  # AR order\n",
    "d = 0  # Integrated order (differencing)\n",
    "q = 1  # MA order\n",
    "\n",
    "# Initialize TimeSeriesSplit cross-validator\n",
    "tscv = TimeSeriesSplit(n_splits=5)\n",
    "\n",
    "# Initialize dictionary to store MAE for each variable combination\n",
    "mae_dict = {}\n",
    "\n",
    "# Define a function to evaluate ARIMA model using cross-validation with MAE\n",
    "def evaluate_arima_model(train, test, order, variables):\n",
    "    history = list(train[\"duration\"])\n",
    "    predictions = []\n",
    "    for t in range(len(test)):\n",
    "        model = ARIMA(history, order=order)\n",
    "        model_fit = model.fit()\n",
    "        yhat = model_fit.forecast()[0]\n",
    "        predictions.append(yhat)\n",
    "        history.append(test.iloc[t][\"duration\"])\n",
    "    error = mean_absolute_error(test[\"duration\"], predictions)\n",
    "    mae_dict[tuple(variables)] = mae_dict.get(tuple(variables), []) + [error]\n",
    "    return error\n",
    "\n",
    "# Perform k-fold cross-validation with ARIMA model using MAE for different feature combinations\n",
    "for train_idx, test_idx in tscv.split(df):\n",
    "    train, test = df.iloc[train_idx], df.iloc[test_idx]\n",
    "    # Generate all possible feature combinations\n",
    "    features = df.columns.drop(['date',])  # Exclude date and target value columns\n",
    "    for r in range(1, len(features) + 1):\n",
    "        for combo in combinations(features, r):\n",
    "            error = evaluate_arima_model(train, test, order=(p, d, q), variables=combo)\n",
    "\n",
    "# Calculate mean MAE for each feature combination\n",
    "mean_mae_dict = {variables: np.mean(errors) for variables, errors in mae_dict.items()}\n",
    "print(\"Mean Absolute Error (MAE) for each feature combination:\")\n",
    "for variables, mean_mae in mean_mae_dict.items():\n",
    "    print(f\"Variables: {variables}, Mean MAE: {mean_mae}\")\n",
    "    \n",
    "\"\"\"\n"
   ]
  },
  {
   "cell_type": "code",
   "execution_count": 86,
   "metadata": {},
   "outputs": [
    {
     "data": {
      "text/plain": [
       "4.011829835395061"
      ]
     },
     "execution_count": 86,
     "metadata": {},
     "output_type": "execute_result"
    }
   ],
   "source": [
    "mean_mae_hours = mean_error / (1000*60*60)\n",
    "mean_mae_hours"
   ]
  },
  {
   "cell_type": "code",
   "execution_count": 87,
   "metadata": {},
   "outputs": [],
   "source": [
    "#log_2018 = pm4py.read_xes(\"BPI Challenge 2018.xes\")\n",
    "#df_2018 = pm4py.convert_to_dataframe(log_2018)"
   ]
  },
  {
   "cell_type": "code",
   "execution_count": 88,
   "metadata": {},
   "outputs": [],
   "source": [
    "#df_2018"
   ]
  },
  {
   "cell_type": "code",
   "execution_count": 89,
   "metadata": {},
   "outputs": [],
   "source": [
    "#df_time_series"
   ]
  },
  {
   "cell_type": "code",
   "execution_count": 90,
   "metadata": {},
   "outputs": [],
   "source": [
    "df_linear_regression = df_linear_regression.sort_values(by=['case:concept:name', 'position'])"
   ]
  },
  {
   "cell_type": "code",
   "execution_count": 91,
   "metadata": {},
   "outputs": [],
   "source": [
    "df_linear_regression.set_index(\"case:concept:name\", inplace = True)"
   ]
  },
  {
   "cell_type": "code",
   "execution_count": 92,
   "metadata": {},
   "outputs": [],
   "source": [
    "from sklearn.preprocessing import MinMaxScaler\n",
    "\n",
    "scaler = MinMaxScaler()\n",
    "\n",
    "df_linear_regression[\"month\"] = scaler.fit_transform(df_linear_regression[[\"month\"]])\n",
    "\n"
   ]
  },
  {
   "cell_type": "code",
   "execution_count": 93,
   "metadata": {},
   "outputs": [],
   "source": [
    "df_linear_regression[\"day\"] = scaler.fit_transform(df_linear_regression[[\"day\"]])\n",
    "df_linear_regression[\"time_until_midnight\"] = scaler.fit_transform(df_linear_regression[[\"time_until_midnight\"]])\n",
    "df_linear_regression[\"time_elapsed_since_previous_event\"] = scaler.fit_transform(df_linear_regression[[\"time_elapsed_since_previous_event\"]])\n",
    "df_linear_regression[\"time_since_start\"] = scaler.fit_transform(df_linear_regression[[\"time_since_start\"]])"
   ]
  },
  {
   "cell_type": "code",
   "execution_count": 94,
   "metadata": {},
   "outputs": [],
   "source": [
    "df_linear_regression[\"case:AMOUNT_REQ\"] = scaler.fit_transform(df_linear_regression[[\"case:AMOUNT_REQ\"]])"
   ]
  },
  {
   "cell_type": "code",
   "execution_count": 95,
   "metadata": {},
   "outputs": [],
   "source": [
    "df_linear_regression.reset_index(inplace = True)"
   ]
  },
  {
   "cell_type": "code",
   "execution_count": 96,
   "metadata": {},
   "outputs": [],
   "source": [
    "df_lstm = df_linear_regression[[\"case:concept:name\", \"month\", \"day\", \"time_until_midnight\", \"time_elapsed_since_previous_event\", \"time_since_start\", \"case:AMOUNT_REQ\"]]"
   ]
  },
  {
   "cell_type": "code",
   "execution_count": null,
   "metadata": {},
   "outputs": [],
   "source": []
  },
  {
   "cell_type": "code",
   "execution_count": 97,
   "metadata": {},
   "outputs": [
    {
     "data": {
      "text/plain": [
       "'\\nimport numpy as np\\nimport tensorflow as tf\\n\\n# Define the LSTM model with masking\\nclass MaskedLSTMModel(tf.keras.Model):\\n    def __init__(self, lstm_units):\\n        super(MaskedLSTMModel, self).__init__()\\n        self.lstm = tf.keras.layers.LSTM(lstm_units, return_sequences=True, return_state=True)\\n        self.dense = tf.keras.layers.Dense(1)  # Output layer for predicting one timestamp value\\n\\n    def call(self, inputs, training=None):\\n        mask = self.compute_mask(inputs)\\n        lstm_output, final_memory_state, _ = self.lstm(inputs, mask=mask)\\n        output = self.dense(lstm_output)\\n        return output\\n\\n    def compute_mask(self, inputs):\\n        return tf.reduce_any(tf.not_equal(inputs, 0.0), axis=-1)  # Assuming 0.0 is the padding value\\n\\n# Example usage\\nlstm_units = 64  # Number of LSTM units\\n\\nmodel = MaskedLSTMModel(lstm_units)\\n\\n# Generate random variable-length input data (example)\\ninput_data = df_lstm\\n\\n# Forward pass through the model (with masking)\\noutput = model(input_data)\\n\\n# Print model summary and check output shape\\nmodel.summary()\\nprint(\"Input data shape:\", input_data.shape)\\nprint(\"Output shape (predictions):\", output.shape)\\n\\n'"
      ]
     },
     "execution_count": 97,
     "metadata": {},
     "output_type": "execute_result"
    }
   ],
   "source": [
    "\"\"\"\n",
    "import numpy as np\n",
    "import tensorflow as tf\n",
    "\n",
    "# Define the LSTM model with masking\n",
    "class MaskedLSTMModel(tf.keras.Model):\n",
    "    def __init__(self, lstm_units):\n",
    "        super(MaskedLSTMModel, self).__init__()\n",
    "        self.lstm = tf.keras.layers.LSTM(lstm_units, return_sequences=True, return_state=True)\n",
    "        self.dense = tf.keras.layers.Dense(1)  # Output layer for predicting one timestamp value\n",
    "\n",
    "    def call(self, inputs, training=None):\n",
    "        mask = self.compute_mask(inputs)\n",
    "        lstm_output, final_memory_state, _ = self.lstm(inputs, mask=mask)\n",
    "        output = self.dense(lstm_output)\n",
    "        return output\n",
    "\n",
    "    def compute_mask(self, inputs):\n",
    "        return tf.reduce_any(tf.not_equal(inputs, 0.0), axis=-1)  # Assuming 0.0 is the padding value\n",
    "\n",
    "# Example usage\n",
    "lstm_units = 64  # Number of LSTM units\n",
    "\n",
    "model = MaskedLSTMModel(lstm_units)\n",
    "\n",
    "# Generate random variable-length input data (example)\n",
    "input_data = df_lstm\n",
    "\n",
    "# Forward pass through the model (with masking)\n",
    "output = model(input_data)\n",
    "\n",
    "# Print model summary and check output shape\n",
    "model.summary()\n",
    "print(\"Input data shape:\", input_data.shape)\n",
    "print(\"Output shape (predictions):\", output.shape)\n",
    "\n",
    "\"\"\"\n",
    "\n"
   ]
  },
  {
   "cell_type": "code",
   "execution_count": 98,
   "metadata": {},
   "outputs": [],
   "source": [
    "#df_lstm.groupby(\"case:concept:name\").count()[\"month\"]"
   ]
  },
  {
   "cell_type": "code",
   "execution_count": 99,
   "metadata": {},
   "outputs": [
    {
     "data": {
      "text/plain": [
       "'\\n\\nimport pandas as pd\\nimport numpy as np\\nfrom scipy.sparse import dok_matrix\\n\\n# Generate sample data (replace this with your actual data loading code)\\nnp.random.seed(0)\\ndata = pd.DataFrame({\\n    \\'duration\\': np.random.randint(1, 50, 100)  # Sample numeric data for \\'duration\\'\\n})\\n\\ndef create_transition_matrix(data, order):\\n    # Create transition matrix based on the specified order\\n    num_states = len(np.unique(data))\\n    transition_matrix = dok_matrix((num_states,) * (order + 1), dtype=np.int32)\\n    \\n    state_idx_map = {state: idx for idx, state in enumerate(np.unique(data))}\\n    states = data.values\\n    for i in range(len(states) - order):\\n        current_state = tuple(state_idx_map[states[i + j]] for j in range(order))\\n        next_state = state_idx_map[states[i + order]]\\n        transition_matrix[current_state, next_state] += 1\\n    \\n    # Normalize transition matrix to probabilities\\n    row_sums = transition_matrix.sum(axis=1)\\n    transition_matrix = transition_matrix / row_sums[:, np.newaxis]\\n    \\n    return transition_matrix, state_idx_map\\n\\ndef predict_next_state(transition_matrix, state_idx_map, current_state):\\n    # Predict the next state based on the transition matrix\\n    if current_state in state_idx_map:\\n        current_state_idx = state_idx_map[current_state]\\n        next_state_probs = transition_matrix[current_state_idx].toarray().flatten()\\n        next_state_idx = np.argmax(next_state_probs)\\n        next_state = next(key for key, value in state_idx_map.items() if value == next_state_idx)\\n        return next_state\\n    else:\\n        return None\\n\\ndef generate_sequence(data, order, sequence_length):\\n    # Generate a sequence of predicted states\\n    transition_matrix, state_idx_map = create_transition_matrix(data, order)\\n    last_observed_states = tuple(data.iloc[-order:])\\n    predicted_sequence = []\\n    for _ in range(sequence_length):\\n        next_state = predict_next_state(transition_matrix, state_idx_map, last_observed_states)\\n        if next_state is not None:\\n            predicted_sequence.append(next_state)\\n            last_observed_states = (*last_observed_states[1:], next_state)\\n        else:\\n            break\\n    return predicted_sequence\\n\\n# Example usage\\norder = 2  # Choose the order of the Markov chain\\nsequence_length = 10  # Length of the predicted sequence\\npredicted_sequence = generate_sequence(data[\\'duration\\'], order, sequence_length)\\nprint(\"Predicted Sequence:\", predicted_sequence)\\n\\n'"
      ]
     },
     "execution_count": 99,
     "metadata": {},
     "output_type": "execute_result"
    }
   ],
   "source": [
    "\"\"\"\n",
    "\n",
    "import pandas as pd\n",
    "import numpy as np\n",
    "from scipy.sparse import dok_matrix\n",
    "\n",
    "# Generate sample data (replace this with your actual data loading code)\n",
    "np.random.seed(0)\n",
    "data = pd.DataFrame({\n",
    "    'duration': np.random.randint(1, 50, 100)  # Sample numeric data for 'duration'\n",
    "})\n",
    "\n",
    "def create_transition_matrix(data, order):\n",
    "    # Create transition matrix based on the specified order\n",
    "    num_states = len(np.unique(data))\n",
    "    transition_matrix = dok_matrix((num_states,) * (order + 1), dtype=np.int32)\n",
    "    \n",
    "    state_idx_map = {state: idx for idx, state in enumerate(np.unique(data))}\n",
    "    states = data.values\n",
    "    for i in range(len(states) - order):\n",
    "        current_state = tuple(state_idx_map[states[i + j]] for j in range(order))\n",
    "        next_state = state_idx_map[states[i + order]]\n",
    "        transition_matrix[current_state, next_state] += 1\n",
    "    \n",
    "    # Normalize transition matrix to probabilities\n",
    "    row_sums = transition_matrix.sum(axis=1)\n",
    "    transition_matrix = transition_matrix / row_sums[:, np.newaxis]\n",
    "    \n",
    "    return transition_matrix, state_idx_map\n",
    "\n",
    "def predict_next_state(transition_matrix, state_idx_map, current_state):\n",
    "    # Predict the next state based on the transition matrix\n",
    "    if current_state in state_idx_map:\n",
    "        current_state_idx = state_idx_map[current_state]\n",
    "        next_state_probs = transition_matrix[current_state_idx].toarray().flatten()\n",
    "        next_state_idx = np.argmax(next_state_probs)\n",
    "        next_state = next(key for key, value in state_idx_map.items() if value == next_state_idx)\n",
    "        return next_state\n",
    "    else:\n",
    "        return None\n",
    "\n",
    "def generate_sequence(data, order, sequence_length):\n",
    "    # Generate a sequence of predicted states\n",
    "    transition_matrix, state_idx_map = create_transition_matrix(data, order)\n",
    "    last_observed_states = tuple(data.iloc[-order:])\n",
    "    predicted_sequence = []\n",
    "    for _ in range(sequence_length):\n",
    "        next_state = predict_next_state(transition_matrix, state_idx_map, last_observed_states)\n",
    "        if next_state is not None:\n",
    "            predicted_sequence.append(next_state)\n",
    "            last_observed_states = (*last_observed_states[1:], next_state)\n",
    "        else:\n",
    "            break\n",
    "    return predicted_sequence\n",
    "\n",
    "# Example usage\n",
    "order = 2  # Choose the order of the Markov chain\n",
    "sequence_length = 10  # Length of the predicted sequence\n",
    "predicted_sequence = generate_sequence(data['duration'], order, sequence_length)\n",
    "print(\"Predicted Sequence:\", predicted_sequence)\n",
    "\n",
    "\"\"\"\n"
   ]
  },
  {
   "cell_type": "code",
   "execution_count": 100,
   "metadata": {},
   "outputs": [],
   "source": [
    "#data = df[[\"case:concept:name\", \"position\", \"concept:name\"]]"
   ]
  },
  {
   "cell_type": "code",
   "execution_count": 101,
   "metadata": {},
   "outputs": [
    {
     "data": {
      "text/plain": [
       "'\\n\\nfrom scipy.sparse import dok_matrix\\nfrom scipy.sparse import csr_matrix\\n\\n\\ndef create_transition_matrix(sequence_data, order):\\n    # Create transition matrix based on the specified order for a single sequence\\n    num_states = len(np.unique(sequence_data[\"concept:name\"]))\\n    transition_matrix = np.zeros((num_states ** order, num_states), dtype=np.int32)\\n\\n    state_idx_map = {state: idx for idx, state in enumerate(np.unique(sequence_data[\"concept:name\"]))}\\n    states = sequence_data[\"concept:name\"].values\\n    for i in range(len(states) - order):\\n        current_state_idx = tuple(state_idx_map[states[i + j]] for j in range(order))\\n        next_state_idx = state_idx_map[states[i + order]]\\n        transition_matrix[current_state_idx, next_state_idx] += 1\\n\\n    # Convert transition matrix to CSR format for efficient matrix operations\\n    return csr_matrix(transition_matrix), state_idx_map\\n\\ndef predict_next_state(transition_matrix, state_idx_map, current_state):\\n    # Predict the next state based on the transition matrix and current state\\n    if current_state in state_idx_map:\\n        current_state_idx = state_idx_map[current_state]\\n        next_state_probs = transition_matrix[current_state_idx].toarray().flatten()\\n        next_state_idx = np.argmax(next_state_probs)\\n        next_state = next(key for key, value in state_idx_map.items() if value == next_state_idx)\\n        return next_state\\n    else:\\n        return None\\n\\ndef generate_predictions(test_sequence, transition_matrix, state_idx_map, order, sequence_length):\\n    # Generate predictions for a testing sequence using the Markov chain model\\n    predicted_sequence = []\\n    last_observed_states = tuple(test_sequence[-order:])\\n    for _ in range(sequence_length):\\n        next_state = predict_next_state(transition_matrix, state_idx_map, last_observed_states)\\n        if next_state is not None:\\n            predicted_sequence.append(next_state)\\n            last_observed_states = (*last_observed_states[1:], next_state)\\n        else:\\n            break\\n    return predicted_sequence\\n\\n# Example usage\\norder = 2  # Choose the order of the Markov chain\\nsequence_length = 5  # Length of the predicted sequence\\n\\n# Create transition matrix for a single sequence (example using first sequence)\\nsequence_id = 173688\\nsequence_data = data[data[\"case:concept:name\"] == sequence_id]\\ntransition_matrix, state_idx_map = create_transition_matrix(sequence_data, order)\\n\\n# Define a testing sequence (replace this with your actual testing sequence)\\ntesting_sequence = [\"A_SUBMITTED\"]  # Example initial testing sequence\\n\\n# Generate predictions for the testing sequence\\npredicted_sequence = generate_predictions(testing_sequence, transition_matrix, state_idx_map, order, sequence_length)\\nprint(\"Testing Sequence:\", testing_sequence)\\nprint(\"Predicted Sequence:\", predicted_sequence)\\n\\n'"
      ]
     },
     "execution_count": 101,
     "metadata": {},
     "output_type": "execute_result"
    }
   ],
   "source": [
    "\"\"\"\n",
    "\n",
    "from scipy.sparse import dok_matrix\n",
    "from scipy.sparse import csr_matrix\n",
    "\n",
    "\n",
    "def create_transition_matrix(sequence_data, order):\n",
    "    # Create transition matrix based on the specified order for a single sequence\n",
    "    num_states = len(np.unique(sequence_data[\"concept:name\"]))\n",
    "    transition_matrix = np.zeros((num_states ** order, num_states), dtype=np.int32)\n",
    "\n",
    "    state_idx_map = {state: idx for idx, state in enumerate(np.unique(sequence_data[\"concept:name\"]))}\n",
    "    states = sequence_data[\"concept:name\"].values\n",
    "    for i in range(len(states) - order):\n",
    "        current_state_idx = tuple(state_idx_map[states[i + j]] for j in range(order))\n",
    "        next_state_idx = state_idx_map[states[i + order]]\n",
    "        transition_matrix[current_state_idx, next_state_idx] += 1\n",
    "\n",
    "    # Convert transition matrix to CSR format for efficient matrix operations\n",
    "    return csr_matrix(transition_matrix), state_idx_map\n",
    "\n",
    "def predict_next_state(transition_matrix, state_idx_map, current_state):\n",
    "    # Predict the next state based on the transition matrix and current state\n",
    "    if current_state in state_idx_map:\n",
    "        current_state_idx = state_idx_map[current_state]\n",
    "        next_state_probs = transition_matrix[current_state_idx].toarray().flatten()\n",
    "        next_state_idx = np.argmax(next_state_probs)\n",
    "        next_state = next(key for key, value in state_idx_map.items() if value == next_state_idx)\n",
    "        return next_state\n",
    "    else:\n",
    "        return None\n",
    "\n",
    "def generate_predictions(test_sequence, transition_matrix, state_idx_map, order, sequence_length):\n",
    "    # Generate predictions for a testing sequence using the Markov chain model\n",
    "    predicted_sequence = []\n",
    "    last_observed_states = tuple(test_sequence[-order:])\n",
    "    for _ in range(sequence_length):\n",
    "        next_state = predict_next_state(transition_matrix, state_idx_map, last_observed_states)\n",
    "        if next_state is not None:\n",
    "            predicted_sequence.append(next_state)\n",
    "            last_observed_states = (*last_observed_states[1:], next_state)\n",
    "        else:\n",
    "            break\n",
    "    return predicted_sequence\n",
    "\n",
    "# Example usage\n",
    "order = 2  # Choose the order of the Markov chain\n",
    "sequence_length = 5  # Length of the predicted sequence\n",
    "\n",
    "# Create transition matrix for a single sequence (example using first sequence)\n",
    "sequence_id = 173688\n",
    "sequence_data = data[data[\"case:concept:name\"] == sequence_id]\n",
    "transition_matrix, state_idx_map = create_transition_matrix(sequence_data, order)\n",
    "\n",
    "# Define a testing sequence (replace this with your actual testing sequence)\n",
    "testing_sequence = [\"A_SUBMITTED\"]  # Example initial testing sequence\n",
    "\n",
    "# Generate predictions for the testing sequence\n",
    "predicted_sequence = generate_predictions(testing_sequence, transition_matrix, state_idx_map, order, sequence_length)\n",
    "print(\"Testing Sequence:\", testing_sequence)\n",
    "print(\"Predicted Sequence:\", predicted_sequence)\n",
    "\n",
    "\"\"\""
   ]
  },
  {
   "cell_type": "markdown",
   "metadata": {},
   "source": [
    "#### Recursive Suffix Prediction Model:"
   ]
  },
  {
   "cell_type": "code",
   "execution_count": 102,
   "metadata": {},
   "outputs": [
    {
     "name": "stdout",
     "output_type": "stream",
     "text": [
      "0.020121851851851853\n",
      "0.022771666666666666\n",
      "0.027564064814814816\n",
      "0.031185977623456793\n",
      "0.03580974652777778\n",
      "0.03985881209008488\n",
      "0.04438507499169453\n",
      "0.04862886152243281\n",
      "0.05310239576971185\n",
      "0.05743688885881899\n",
      "0.06188276709241308\n",
      "0.06626011246169569\n",
      "0.0706917219938826\n",
      "0.07508951099083272\n",
      "0.07951383078606832\n",
      "0.08392144280637862\n",
      "0.0883420617252169\n",
      "0.09275441927850248\n",
      "0.09717316729217168\n"
     ]
    }
   ],
   "source": [
    "import math\n",
    "\n",
    "timestamp_array = []\n",
    "\n",
    "mean_positions = df_linear_regression.groupby(\"case:concept:name\")[\"position\"].max()\n",
    "\n",
    "mean_positions = math.ceil(mean_positions.mean())\n",
    "\n",
    "\n",
    "# Prfix timestamps in milliseconds\n",
    "\n",
    "initial_array = [334.0, 53026.0, 969.0]\n",
    "\n",
    "# List to store averages\n",
    "averages_list = []\n",
    "\n",
    "\n",
    "for i in range(1, mean_positions):\n",
    "    # Calculate the average of the initial array\n",
    "    avg_array = sum(initial_array) / len(initial_array)\n",
    "    \n",
    "    # Calculate the average of the average and the previous element\n",
    "    if i == 1:\n",
    "        avg_prev = avg_array  # For the first iteration, use the average of the array itself\n",
    "    else:\n",
    "        avg_prev = (avg_array + initial_array[-2]) / 2\n",
    "    \n",
    "    # Append the average of the array and the previous element to the initial array\n",
    "    initial_array.append(avg_prev)\n",
    "    \n",
    "    # Append the extended array to the list\n",
    "    averages_list.append(initial_array.copy())\n",
    "\n",
    "# Print the timestamps of all events in the trace. The timestamp here is the time elapsed since the beginning of the process.\n",
    "for array in averages_list:\n",
    "    print(np.sum(array) / (1000*60*60))\n",
    "\n"
   ]
  },
  {
   "cell_type": "code",
   "execution_count": 103,
   "metadata": {},
   "outputs": [
    {
     "data": {
      "text/plain": [
       "'\\nprefix_length = 2\\n\\ndf_test = df_linear_regression[df_linear_regression[\"position\"] == prefix_length][[\"position\",\"time_since_start\", \"duration\"]]\\n'"
      ]
     },
     "execution_count": 103,
     "metadata": {},
     "output_type": "execute_result"
    }
   ],
   "source": [
    "\"\"\"\n",
    "prefix_length = 2\n",
    "\n",
    "df_test = df_linear_regression[df_linear_regression[\"position\"] == prefix_length][[\"position\",\"time_since_start\", \"duration\"]]\n",
    "\"\"\""
   ]
  },
  {
   "cell_type": "code",
   "execution_count": 104,
   "metadata": {},
   "outputs": [
    {
     "data": {
      "text/plain": [
       "'\\n\\nnum_iterations = 10\\n\\nfor i in range(0, num_iterations):\\n    \\n    if i == 0:\\n        prev_column_name = \"duration\"\\n        prev_time_since_start = \"time_since_start\"\\n    \\n    else:\\n        prev_column_name = f\\'duration_{i}\\'\\n        prev_time_since_start = f\\'time_since_start_{i}\\'\\n    \\n    new_column_name = f\\'duration_{i + 1}\\'\\n    new_time_since_start = f\\'time_since_start{i + 1}\\'\\n\\n    df_test[new_time_since_start] = \\n\\n\\n\\n\\n    df_test[new_column_name] = df_test[prev_column_name] = time_since_start[1000]\\n\\n'"
      ]
     },
     "execution_count": 104,
     "metadata": {},
     "output_type": "execute_result"
    }
   ],
   "source": [
    "\"\"\"\n",
    "\n",
    "num_iterations = 10\n",
    "\n",
    "for i in range(0, num_iterations):\n",
    "    \n",
    "    if i == 0:\n",
    "        prev_column_name = \"duration\"\n",
    "        prev_time_since_start = \"time_since_start\"\n",
    "    \n",
    "    else:\n",
    "        prev_column_name = f'duration_{i}'\n",
    "        prev_time_since_start = f'time_since_start_{i}'\n",
    "    \n",
    "    new_column_name = f'duration_{i + 1}'\n",
    "    new_time_since_start = f'time_since_start{i + 1}'\n",
    "\n",
    "    df_test[new_time_since_start] = \n",
    "\n",
    "\n",
    "\n",
    "\n",
    "    df_test[new_column_name] = df_test[prev_column_name] = time_since_start[1000]\n",
    "\n",
    "\"\"\"\n"
   ]
  },
  {
   "cell_type": "code",
   "execution_count": 105,
   "metadata": {},
   "outputs": [
    {
     "data": {
      "text/plain": [
       "\"\\n\\nnum_iterations = 10\\n\\n\\n\\n# Perform recursive calculation for new columns\\nfor i in range(num_iterations):\\n    prev_column_name = f'duration_{i}' if i > 0 else 'duration'  # Handle first iteration\\n    prev_time_since_start = f'time_since_start_{i}' if i > 0 else 'time_since_start'  # Handle first iteration\\n\\n    if i > 0:\\n\\n        df_test[f'duration_{i}'] = (df_test[f'time_since_start_{i}'] / i)\\n    \\n    \\n    # Calculate the average of previous time_since_start and previous duration\\n    df_test[f'avg_time_since_start_{i+1}'] = (df_test[prev_time_since_start] + df_test[f'duration_{i + 1}']) / (i+1)\\n    \\n    # Calculate the new duration\\n    \\n    \\n    # Update the time_since_start for the next iteration\\n    df_test[f'time_since_start_{i+1}'] = df_test[f'avg_time_since_start_{i+1}']\\n\\n\\ndf_test\\n\\n\""
      ]
     },
     "execution_count": 105,
     "metadata": {},
     "output_type": "execute_result"
    }
   ],
   "source": [
    "\"\"\"\n",
    "\n",
    "num_iterations = 10\n",
    "\n",
    "\n",
    "\n",
    "# Perform recursive calculation for new columns\n",
    "for i in range(num_iterations):\n",
    "    prev_column_name = f'duration_{i}' if i > 0 else 'duration'  # Handle first iteration\n",
    "    prev_time_since_start = f'time_since_start_{i}' if i > 0 else 'time_since_start'  # Handle first iteration\n",
    "\n",
    "    if i > 0:\n",
    "\n",
    "        df_test[f'duration_{i}'] = (df_test[f'time_since_start_{i}'] / i)\n",
    "    \n",
    "    \n",
    "    # Calculate the average of previous time_since_start and previous duration\n",
    "    df_test[f'avg_time_since_start_{i+1}'] = (df_test[prev_time_since_start] + df_test[f'duration_{i + 1}']) / (i+1)\n",
    "    \n",
    "    # Calculate the new duration\n",
    "    \n",
    "    \n",
    "    # Update the time_since_start for the next iteration\n",
    "    df_test[f'time_since_start_{i+1}'] = df_test[f'avg_time_since_start_{i+1}']\n",
    "\n",
    "\n",
    "df_test\n",
    "\n",
    "\"\"\""
   ]
  },
  {
   "cell_type": "code",
   "execution_count": null,
   "metadata": {},
   "outputs": [],
   "source": []
  }
 ],
 "metadata": {
  "kernelspec": {
   "display_name": "Python 3",
   "language": "python",
   "name": "python3"
  },
  "language_info": {
   "codemirror_mode": {
    "name": "ipython",
    "version": 3
   },
   "file_extension": ".py",
   "mimetype": "text/x-python",
   "name": "python",
   "nbconvert_exporter": "python",
   "pygments_lexer": "ipython3",
   "version": "3.9.7"
  }
 },
 "nbformat": 4,
 "nbformat_minor": 2
}
