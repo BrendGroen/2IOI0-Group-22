{
 "cells": [
  {
   "cell_type": "code",
   "execution_count": 2,
   "metadata": {},
   "outputs": [],
   "source": [
    "import numpy as np\n",
    "import pandas as pd\n",
    "import torch\n",
    "import torch.nn as nn\n",
    "import torch.optim as optim\n",
    "from torch.utils.data import Dataset, DataLoader, TensorDataset\n",
    "from aux_functions import split_data\n",
    "from sklearn.preprocessing import LabelEncoder\n",
    "import torch.optim as optim\n",
    "import torch.nn as nn\n",
    "import torch\n",
    "import tqdm as tqdm\n",
    "from sklearn.decomposition import PCA"
   ]
  },
  {
   "cell_type": "code",
   "execution_count": 38,
   "metadata": {},
   "outputs": [],
   "source": [
    "df = pd.read_csv('data/preprocessed/BPI_Challenge_2012.csv')"
   ]
  },
  {
   "cell_type": "code",
   "execution_count": 39,
   "metadata": {},
   "outputs": [],
   "source": [
    "# Removing the sequences with length of more than 50\n",
    "df = df[df['case:concept:name'].isin(df.groupby('case:concept:name').size()[df.groupby('case:concept:name').size() < 50].index)]"
   ]
  },
  {
   "cell_type": "code",
   "execution_count": 40,
   "metadata": {},
   "outputs": [],
   "source": [
    "encoder = LabelEncoder()\n",
    "\n",
    "# Fit and transform the 'concept:name' column\n",
    "encoded_concept_names = encoder.fit_transform(df['concept:name'])\n",
    "# Adjusting labels to start from 1 instead of 0\n",
    "encoded_concept_names += 1\n",
    "\n",
    "# Fit and transform the 'next_concept:name' column\n",
    "encoded_next_concept_names = encoder.fit_transform(df['next_concept:name'])\n",
    "# Adjusting labels to start from 1 instead of 0\n",
    "encoded_next_concept_names += 1\n",
    "\n",
    "# Assign the encoded values back to the DataFrame\n",
    "df['int:concept:name'] = encoded_concept_names\n",
    "df['int:next_concept:name'] = encoded_next_concept_names"
   ]
  },
  {
   "cell_type": "code",
   "execution_count": 41,
   "metadata": {},
   "outputs": [
    {
     "data": {
      "text/html": [
       "<div>\n",
       "<style scoped>\n",
       "    .dataframe tbody tr th:only-of-type {\n",
       "        vertical-align: middle;\n",
       "    }\n",
       "\n",
       "    .dataframe tbody tr th {\n",
       "        vertical-align: top;\n",
       "    }\n",
       "\n",
       "    .dataframe thead th {\n",
       "        text-align: right;\n",
       "    }\n",
       "</style>\n",
       "<table border=\"1\" class=\"dataframe\">\n",
       "  <thead>\n",
       "    <tr style=\"text-align: right;\">\n",
       "      <th></th>\n",
       "      <th>org:resource</th>\n",
       "      <th>lifecycle:transition</th>\n",
       "      <th>concept:name</th>\n",
       "      <th>time:timestamp</th>\n",
       "      <th>case:REG_DATE</th>\n",
       "      <th>case:concept:name</th>\n",
       "      <th>case:AMOUNT_REQ</th>\n",
       "      <th>position</th>\n",
       "      <th>next_concept:name</th>\n",
       "      <th>next_timestamp</th>\n",
       "      <th>int:concept:name</th>\n",
       "      <th>int:next_concept:name</th>\n",
       "    </tr>\n",
       "  </thead>\n",
       "  <tbody>\n",
       "    <tr>\n",
       "      <th>0</th>\n",
       "      <td>112.0</td>\n",
       "      <td>COMPLETE</td>\n",
       "      <td>A_SUBMITTED</td>\n",
       "      <td>2011-10-01 00:38:44.546000+00:00</td>\n",
       "      <td>2011-10-01 00:38:44.546000+00:00</td>\n",
       "      <td>173688</td>\n",
       "      <td>20000</td>\n",
       "      <td>1</td>\n",
       "      <td>A_PARTLYSUBMITTED</td>\n",
       "      <td>2011-10-01 00:38:44.880000+00:00</td>\n",
       "      <td>10</td>\n",
       "      <td>7</td>\n",
       "    </tr>\n",
       "    <tr>\n",
       "      <th>1</th>\n",
       "      <td>112.0</td>\n",
       "      <td>COMPLETE</td>\n",
       "      <td>A_PARTLYSUBMITTED</td>\n",
       "      <td>2011-10-01 00:38:44.880000+00:00</td>\n",
       "      <td>2011-10-01 00:38:44.546000+00:00</td>\n",
       "      <td>173688</td>\n",
       "      <td>20000</td>\n",
       "      <td>2</td>\n",
       "      <td>A_PREACCEPTED</td>\n",
       "      <td>2011-10-01 00:39:37.906000+00:00</td>\n",
       "      <td>7</td>\n",
       "      <td>8</td>\n",
       "    </tr>\n",
       "    <tr>\n",
       "      <th>2</th>\n",
       "      <td>112.0</td>\n",
       "      <td>COMPLETE</td>\n",
       "      <td>A_PREACCEPTED</td>\n",
       "      <td>2011-10-01 00:39:37.906000+00:00</td>\n",
       "      <td>2011-10-01 00:38:44.546000+00:00</td>\n",
       "      <td>173688</td>\n",
       "      <td>20000</td>\n",
       "      <td>3</td>\n",
       "      <td>W_Completeren aanvraag</td>\n",
       "      <td>2011-10-01 00:39:38.875000+00:00</td>\n",
       "      <td>8</td>\n",
       "      <td>20</td>\n",
       "    </tr>\n",
       "    <tr>\n",
       "      <th>3</th>\n",
       "      <td>112.0</td>\n",
       "      <td>SCHEDULE</td>\n",
       "      <td>W_Completeren aanvraag</td>\n",
       "      <td>2011-10-01 00:39:38.875000+00:00</td>\n",
       "      <td>2011-10-01 00:38:44.546000+00:00</td>\n",
       "      <td>173688</td>\n",
       "      <td>20000</td>\n",
       "      <td>4</td>\n",
       "      <td>W_Completeren aanvraag</td>\n",
       "      <td>2011-10-01 11:36:46.437000+00:00</td>\n",
       "      <td>20</td>\n",
       "      <td>20</td>\n",
       "    </tr>\n",
       "    <tr>\n",
       "      <th>4</th>\n",
       "      <td>112.0</td>\n",
       "      <td>COMPLETE</td>\n",
       "      <td>A_SUBMITTED</td>\n",
       "      <td>2011-10-01 08:08:58.256000+00:00</td>\n",
       "      <td>2011-10-01 08:08:58.256000+00:00</td>\n",
       "      <td>173691</td>\n",
       "      <td>5000</td>\n",
       "      <td>1</td>\n",
       "      <td>A_PARTLYSUBMITTED</td>\n",
       "      <td>2011-10-01 08:09:02.195000+00:00</td>\n",
       "      <td>10</td>\n",
       "      <td>7</td>\n",
       "    </tr>\n",
       "  </tbody>\n",
       "</table>\n",
       "</div>"
      ],
      "text/plain": [
       "   org:resource lifecycle:transition            concept:name   \n",
       "0         112.0             COMPLETE             A_SUBMITTED  \\\n",
       "1         112.0             COMPLETE       A_PARTLYSUBMITTED   \n",
       "2         112.0             COMPLETE           A_PREACCEPTED   \n",
       "3         112.0             SCHEDULE  W_Completeren aanvraag   \n",
       "4         112.0             COMPLETE             A_SUBMITTED   \n",
       "\n",
       "                     time:timestamp                     case:REG_DATE   \n",
       "0  2011-10-01 00:38:44.546000+00:00  2011-10-01 00:38:44.546000+00:00  \\\n",
       "1  2011-10-01 00:38:44.880000+00:00  2011-10-01 00:38:44.546000+00:00   \n",
       "2  2011-10-01 00:39:37.906000+00:00  2011-10-01 00:38:44.546000+00:00   \n",
       "3  2011-10-01 00:39:38.875000+00:00  2011-10-01 00:38:44.546000+00:00   \n",
       "4  2011-10-01 08:08:58.256000+00:00  2011-10-01 08:08:58.256000+00:00   \n",
       "\n",
       "   case:concept:name  case:AMOUNT_REQ  position       next_concept:name   \n",
       "0             173688            20000         1       A_PARTLYSUBMITTED  \\\n",
       "1             173688            20000         2           A_PREACCEPTED   \n",
       "2             173688            20000         3  W_Completeren aanvraag   \n",
       "3             173688            20000         4  W_Completeren aanvraag   \n",
       "4             173691             5000         1       A_PARTLYSUBMITTED   \n",
       "\n",
       "                     next_timestamp  int:concept:name  int:next_concept:name  \n",
       "0  2011-10-01 00:38:44.880000+00:00                10                      7  \n",
       "1  2011-10-01 00:39:37.906000+00:00                 7                      8  \n",
       "2  2011-10-01 00:39:38.875000+00:00                 8                     20  \n",
       "3  2011-10-01 11:36:46.437000+00:00                20                     20  \n",
       "4  2011-10-01 08:09:02.195000+00:00                10                      7  "
      ]
     },
     "execution_count": 41,
     "metadata": {},
     "output_type": "execute_result"
    }
   ],
   "source": [
    "df.head()"
   ]
  },
  {
   "cell_type": "code",
   "execution_count": 42,
   "metadata": {},
   "outputs": [
    {
     "data": {
      "text/html": [
       "<div>\n",
       "<style scoped>\n",
       "    .dataframe tbody tr th:only-of-type {\n",
       "        vertical-align: middle;\n",
       "    }\n",
       "\n",
       "    .dataframe tbody tr th {\n",
       "        vertical-align: top;\n",
       "    }\n",
       "\n",
       "    .dataframe thead th {\n",
       "        text-align: right;\n",
       "    }\n",
       "</style>\n",
       "<table border=\"1\" class=\"dataframe\">\n",
       "  <thead>\n",
       "    <tr style=\"text-align: right;\">\n",
       "      <th></th>\n",
       "      <th>int:concept:name</th>\n",
       "      <th>case:concept:name</th>\n",
       "      <th>position</th>\n",
       "      <th>int:next_concept:name</th>\n",
       "    </tr>\n",
       "  </thead>\n",
       "  <tbody>\n",
       "    <tr>\n",
       "      <th>0</th>\n",
       "      <td>10</td>\n",
       "      <td>173688</td>\n",
       "      <td>1</td>\n",
       "      <td>7</td>\n",
       "    </tr>\n",
       "    <tr>\n",
       "      <th>1</th>\n",
       "      <td>7</td>\n",
       "      <td>173688</td>\n",
       "      <td>2</td>\n",
       "      <td>8</td>\n",
       "    </tr>\n",
       "    <tr>\n",
       "      <th>2</th>\n",
       "      <td>8</td>\n",
       "      <td>173688</td>\n",
       "      <td>3</td>\n",
       "      <td>20</td>\n",
       "    </tr>\n",
       "    <tr>\n",
       "      <th>3</th>\n",
       "      <td>20</td>\n",
       "      <td>173688</td>\n",
       "      <td>4</td>\n",
       "      <td>20</td>\n",
       "    </tr>\n",
       "    <tr>\n",
       "      <th>4</th>\n",
       "      <td>10</td>\n",
       "      <td>173691</td>\n",
       "      <td>1</td>\n",
       "      <td>7</td>\n",
       "    </tr>\n",
       "  </tbody>\n",
       "</table>\n",
       "</div>"
      ],
      "text/plain": [
       "   int:concept:name  case:concept:name  position  int:next_concept:name\n",
       "0                10             173688         1                      7\n",
       "1                 7             173688         2                      8\n",
       "2                 8             173688         3                     20\n",
       "3                20             173688         4                     20\n",
       "4                10             173691         1                      7"
      ]
     },
     "execution_count": 42,
     "metadata": {},
     "output_type": "execute_result"
    }
   ],
   "source": [
    "columns_to_keep = ['int:concept:name', 'case:concept:name', 'position','int:next_concept:name']\n",
    "df = df[columns_to_keep]\n",
    "df.head()"
   ]
  },
  {
   "cell_type": "code",
   "execution_count": 43,
   "metadata": {},
   "outputs": [
    {
     "name": "stdout",
     "output_type": "stream",
     "text": [
      "Original size: 189269\n",
      "Train size: 137633\n",
      "Test size: 30467\n",
      "Ratio: 0.8187566924449732\n",
      "Dropped cases in both sets: 647\n",
      "Dropped rows from dataset: 21169\n"
     ]
    }
   ],
   "source": [
    "train, test = split_data(df, 0.8)"
   ]
  },
  {
   "cell_type": "code",
   "execution_count": 44,
   "metadata": {},
   "outputs": [
    {
     "data": {
      "text/html": [
       "<div>\n",
       "<style scoped>\n",
       "    .dataframe tbody tr th:only-of-type {\n",
       "        vertical-align: middle;\n",
       "    }\n",
       "\n",
       "    .dataframe tbody tr th {\n",
       "        vertical-align: top;\n",
       "    }\n",
       "\n",
       "    .dataframe thead th {\n",
       "        text-align: right;\n",
       "    }\n",
       "</style>\n",
       "<table border=\"1\" class=\"dataframe\">\n",
       "  <thead>\n",
       "    <tr style=\"text-align: right;\">\n",
       "      <th></th>\n",
       "      <th>int:concept:name</th>\n",
       "      <th>case:concept:name</th>\n",
       "      <th>position</th>\n",
       "      <th>int:next_concept:name</th>\n",
       "    </tr>\n",
       "  </thead>\n",
       "  <tbody>\n",
       "    <tr>\n",
       "      <th>0</th>\n",
       "      <td>10</td>\n",
       "      <td>173688</td>\n",
       "      <td>1</td>\n",
       "      <td>7</td>\n",
       "    </tr>\n",
       "    <tr>\n",
       "      <th>1</th>\n",
       "      <td>7</td>\n",
       "      <td>173688</td>\n",
       "      <td>2</td>\n",
       "      <td>8</td>\n",
       "    </tr>\n",
       "    <tr>\n",
       "      <th>2</th>\n",
       "      <td>8</td>\n",
       "      <td>173688</td>\n",
       "      <td>3</td>\n",
       "      <td>20</td>\n",
       "    </tr>\n",
       "    <tr>\n",
       "      <th>3</th>\n",
       "      <td>20</td>\n",
       "      <td>173688</td>\n",
       "      <td>4</td>\n",
       "      <td>20</td>\n",
       "    </tr>\n",
       "    <tr>\n",
       "      <th>4</th>\n",
       "      <td>10</td>\n",
       "      <td>173691</td>\n",
       "      <td>1</td>\n",
       "      <td>7</td>\n",
       "    </tr>\n",
       "  </tbody>\n",
       "</table>\n",
       "</div>"
      ],
      "text/plain": [
       "   int:concept:name  case:concept:name  position  int:next_concept:name\n",
       "0                10             173688         1                      7\n",
       "1                 7             173688         2                      8\n",
       "2                 8             173688         3                     20\n",
       "3                20             173688         4                     20\n",
       "4                10             173691         1                      7"
      ]
     },
     "execution_count": 44,
     "metadata": {},
     "output_type": "execute_result"
    }
   ],
   "source": [
    "train.head()"
   ]
  },
  {
   "cell_type": "code",
   "execution_count": 45,
   "metadata": {},
   "outputs": [],
   "source": [
    "# Generating all the possible prefixes and suffixes of different length in the train set\n",
    "prefixes = []\n",
    "suffixes = []\n",
    "for case in train['case:concept:name'].unique():\n",
    "    case_df = train[train['case:concept:name'] == case]\n",
    "    for i in range(1, len(case_df)):\n",
    "        prefixes.append(case_df.iloc[:i].values)\n",
    "        suffixes.append(list(case_df.iloc[i:]['int:concept:name'].values))"
   ]
  },
  {
   "cell_type": "code",
   "execution_count": 46,
   "metadata": {},
   "outputs": [],
   "source": [
    "# Generating all the possible prefixes and suffixes of different length in the test set\n",
    "prefixes_test = []\n",
    "suffixes_test = []\n",
    "for case in test['case:concept:name'].unique():\n",
    "    case_df = test[test['case:concept:name'] == case]\n",
    "    for i in range(1, len(case_df)):\n",
    "        prefixes_test.append(case_df.iloc[:i].values)\n",
    "        suffixes_test.append(list(case_df.iloc[i:]['int:concept:name'].values))"
   ]
  },
  {
   "cell_type": "code",
   "execution_count": 47,
   "metadata": {},
   "outputs": [],
   "source": [
    "# Add padding to the prefix nd suffix to make every sequence of the same length (the length of the longest sequence) TRAIN\n",
    "# We add the padding before the sequence in prefixes and after the sequence in suffixes\n",
    "max_length = df['case:concept:name'].value_counts().max()\n",
    "padding_dim = len(prefixes[0][0])\n",
    "for i in range(len(prefixes)):\n",
    "    padding_prefix = np.zeros((max_length - len(prefixes[i]), padding_dim))\n",
    "    padding_suffix = [0] * (max_length - len(suffixes[i]))\n",
    "    prefixes[i] = np.concatenate([padding_prefix, prefixes[i]], axis=0)\n",
    "    suffixes[i] = np.concatenate([suffixes[i], padding_suffix], axis=0)"
   ]
  },
  {
   "cell_type": "code",
   "execution_count": 48,
   "metadata": {},
   "outputs": [],
   "source": [
    "# Add padding to the prefix nd suffix to make every sequence of the same length (the length of the longest sequence) TEST\n",
    "# We add the padding before the sequence in prefixes and after the sequence in suffixes\n",
    "max_length = df['case:concept:name'].value_counts().max()\n",
    "padding_dim = len(prefixes_test[0][0])\n",
    "for i in range(len(prefixes_test)):\n",
    "    padding_prefix = np.zeros((max_length - len(prefixes_test[i]), padding_dim))\n",
    "    padding_suffix = [0] * (max_length - len(suffixes_test[i]))\n",
    "    prefixes_test[i] = np.concatenate([padding_prefix, prefixes_test[i]], axis=0)\n",
    "    suffixes_test[i] = np.concatenate([suffixes_test[i], padding_suffix], axis=0)"
   ]
  },
  {
   "cell_type": "code",
   "execution_count": 49,
   "metadata": {},
   "outputs": [],
   "source": [
    "class LSDM(nn.Module):\n",
    "    def __init__(self, input_dim, hidden_dim, output_dim):\n",
    "        super(LSDM, self).__init__()\n",
    "        self.lstm = nn.LSTM(input_dim, hidden_dim, batch_first=True)\n",
    "        self.fc = nn.Linear(hidden_dim, output_dim)\n",
    "        \n",
    "    def forward(self, x):\n",
    "        _, (h_n, _) = self.lstm(x)\n",
    "        out = self.fc(h_n.squeeze(0))\n",
    "        return out"
   ]
  },
  {
   "cell_type": "code",
   "execution_count": 50,
   "metadata": {},
   "outputs": [],
   "source": [
    "# Define the dimensions\n",
    "input_dim = len(prefixes[0][0])  \n",
    "hidden_dim = 64  \n",
    "output_dim = len(suffixes[0])  "
   ]
  },
  {
   "cell_type": "code",
   "execution_count": 61,
   "metadata": {},
   "outputs": [],
   "source": [
    "# Initialize the model\n",
    "model = LSDM(input_dim, hidden_dim, output_dim)"
   ]
  },
  {
   "cell_type": "code",
   "execution_count": 62,
   "metadata": {},
   "outputs": [],
   "source": [
    "prefixes_array = np.array(prefixes, dtype=np.float32)"
   ]
  },
  {
   "cell_type": "code",
   "execution_count": 63,
   "metadata": {},
   "outputs": [],
   "source": [
    "# Convert data to PyTorch tensors\n",
    "prefixes_tensor = torch.tensor(prefixes_array, dtype=torch.float32)\n",
    "suffixes_tensor = torch.tensor(suffixes, dtype=torch.float32)"
   ]
  },
  {
   "cell_type": "code",
   "execution_count": 64,
   "metadata": {},
   "outputs": [],
   "source": [
    "# Define loss function and optimizer\n",
    "criterion = nn.MSELoss()\n",
    "optimizer = optim.Adam(model.parameters(), lr=0.01)"
   ]
  },
  {
   "cell_type": "code",
   "execution_count": 20,
   "metadata": {},
   "outputs": [],
   "source": [
    "# choosing random index from the training set for prefix and suffix\n",
    "nr = 20000\n",
    "\n",
    "indices = np.random.choice(len(prefixes_tensor), nr, replace=False)\n",
    "prefixes_tensor = prefixes_tensor[indices]\n",
    "suffixes_tensor = suffixes_tensor[indices]"
   ]
  },
  {
   "cell_type": "code",
   "execution_count": 65,
   "metadata": {},
   "outputs": [
    {
     "name": "stdout",
     "output_type": "stream",
     "text": [
      "Epoch [1/10], Loss: 102.2620\n",
      "Epoch [2/10], Loss: 100.6635\n",
      "Epoch [3/10], Loss: 99.0441\n",
      "Epoch [4/10], Loss: 97.1870\n",
      "Epoch [5/10], Loss: 94.6997\n",
      "Epoch [6/10], Loss: 92.4473\n",
      "Epoch [7/10], Loss: 90.3308\n"
     ]
    }
   ],
   "source": [
    "# Train the model\n",
    "num_epochs = 10  \n",
    "for epoch in range(num_epochs):\n",
    "    model.train()\n",
    "    optimizer.zero_grad()\n",
    "    outputs = model(prefixes_tensor)\n",
    "    loss = criterion(outputs, suffixes_tensor)\n",
    "    loss.backward()\n",
    "    optimizer.step()\n",
    "    \n",
    "    # Update the progress bar\n",
    "    print(f'Epoch [{epoch+1}/{num_epochs}], Loss: {loss.item():.4f}')"
   ]
  },
  {
   "cell_type": "code",
   "execution_count": 56,
   "metadata": {},
   "outputs": [],
   "source": [
    "prefixes_array_test = np.array(prefixes_test, dtype=np.float32)"
   ]
  },
  {
   "cell_type": "code",
   "execution_count": 57,
   "metadata": {},
   "outputs": [],
   "source": [
    "# Convert data to PyTorch tensors\n",
    "prefixes_test_tensor = torch.tensor(prefixes_array_test, dtype=torch.float32)\n",
    "suffixes_test_tensor = torch.tensor(suffixes_test, dtype=torch.float32)"
   ]
  },
  {
   "cell_type": "code",
   "execution_count": 24,
   "metadata": {},
   "outputs": [],
   "source": [
    "# choosing 500 random index from the test set for prefix and suffix\n",
    "indices = np.random.choice(len(prefixes_test_tensor), 500, replace=False)\n",
    "prefixes_test_tensor = prefixes_test_tensor[indices]\n",
    "suffixes_test_tensor = suffixes_test_tensor[indices]"
   ]
  },
  {
   "cell_type": "code",
   "execution_count": 58,
   "metadata": {},
   "outputs": [
    {
     "name": "stdout",
     "output_type": "stream",
     "text": [
      "Test Loss: 98.6042\n"
     ]
    }
   ],
   "source": [
    "# Set the model to evaluation mode\n",
    "model.eval()\n",
    "\n",
    "# Run the test data through the model\n",
    "with torch.no_grad():\n",
    "    test_outputs = model(prefixes_test_tensor)\n",
    "    test_loss = criterion(test_outputs, suffixes_test_tensor)\n",
    "\n",
    "print(f'Test Loss: {test_loss.item():.4f}')"
   ]
  },
  {
   "cell_type": "code",
   "execution_count": 59,
   "metadata": {},
   "outputs": [
    {
     "data": {
      "text/plain": [
       "tensor([ 0.0465,  0.5284, -0.1307,  0.3941,  0.0530,  0.2033,  0.2470,  0.3656,\n",
       "        -0.0095,  0.2798,  0.3342, -0.3009,  0.1436,  0.5425, -0.0419, -0.0944,\n",
       "         0.2524, -0.4799,  0.2196,  0.0043,  0.1589,  0.0708, -0.1666,  0.3103,\n",
       "         0.3014,  0.0726,  0.2342, -0.2479,  0.0186, -0.0561, -0.3284, -0.1079,\n",
       "         0.1096,  0.3358,  0.3075, -0.3311,  0.2057,  0.0297,  0.1145, -0.1634,\n",
       "         0.2706,  0.0905, -0.0461, -0.2444, -0.1352,  0.2445,  0.1020,  0.0734,\n",
       "         0.1531])"
      ]
     },
     "execution_count": 59,
     "metadata": {},
     "output_type": "execute_result"
    }
   ],
   "source": [
    "test_outputs[0]"
   ]
  },
  {
   "cell_type": "code",
   "execution_count": 30,
   "metadata": {},
   "outputs": [
    {
     "data": {
      "text/plain": [
       "<AxesSubplot: >"
      ]
     },
     "execution_count": 30,
     "metadata": {},
     "output_type": "execute_result"
    },
    {
     "data": {
      "image/png": "[encoded data removed]",
      "text/plain": [
       "<Figure size 432x288 with 1 Axes>"
      ]
     },
     "metadata": {
      "needs_background": "light"
     },
     "output_type": "display_data"
    }
   ],
   "source": [
    "df.groupby('case:concept:name').size().sort_values(ascending=False)\n",
    "# plotting frequency of the number of events in each case\n",
    "df.groupby('case:concept:name').size().hist(bins=100)\n"
   ]
  }
 ],
 "metadata": {
  "kernelspec": {
   "display_name": "Python 3",
   "language": "python",
   "name": "python3"
  },
  "language_info": {
   "codemirror_mode": {
    "name": "ipython",
    "version": 3
   },
   "file_extension": ".py",
   "mimetype": "text/x-python",
   "name": "python",
   "nbconvert_exporter": "python",
   "pygments_lexer": "ipython3",
   "version": "3.9.7"
  }
 },
 "nbformat": 4,
 "nbformat_minor": 2
}
