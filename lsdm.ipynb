{
 "cells": [
  {
   "cell_type": "code",
   "execution_count": 1,
   "metadata": {},
   "outputs": [],
   "source": [
    "import numpy as np\n",
    "import pandas as pd\n",
    "import torch\n",
    "import torch.nn as nn\n",
    "import torch.optim as optim\n",
    "from torch.utils.data import Dataset, DataLoader, TensorDataset\n",
    "from aux_functions import split_data\n",
    "# from aux_functions import compute_levensthein_distance\n",
    "from sklearn.preprocessing import LabelEncoder\n",
    "import torch.optim as optim\n",
    "import torch.nn as nn\n",
    "import torch\n",
    "import tqdm as tqdm\n",
    "from sklearn.decomposition import PCA\n",
    "from torch.masked import masked_tensor"
   ]
  },
  {
   "cell_type": "code",
   "execution_count": 46,
   "metadata": {},
   "outputs": [],
   "source": [
    "def compute_levensthein_distance(predicted, actual):\n",
    "    \"\"\"\n",
    "    calculating the distance between the two lists of activities\n",
    "    :param predicted: list of activities\n",
    "    :param actual: list of activities\n",
    "    :return: distance between the two lists\n",
    "    \"\"\"\n",
    "    # if the actual list is empty, return the length of the predicted list\n",
    "    if len(actual) == 0:\n",
    "        return len(predicted)\n",
    "\n",
    "    # if the predicted list is empty, return the length of the actual list\n",
    "    if len(predicted) == 0:\n",
    "        return len(actual)\n",
    "\n",
    "    # creating a matrix with the size of the two lists\n",
    "    matrix = [[0 for _ in range(len(actual) + 1)] for _ in range(len(predicted) + 1)]\n",
    "\n",
    "    # filling the first row and the first column of the matrix\n",
    "    for i in range(len(predicted) + 1):\n",
    "        matrix[i][0] = i\n",
    "    for j in range(len(actual) + 1):\n",
    "        matrix[0][j] = j\n",
    "\n",
    "    # filling the matrix\n",
    "    for i in range(1, len(predicted) + 1):\n",
    "        for j in range(1, len(actual) + 1):\n",
    "            if predicted[i - 1] == actual[j - 1]:\n",
    "                matrix[i][j] = matrix[i - 1][j - 1]\n",
    "            else:\n",
    "                matrix[i][j] = min(matrix[i - 1][j] + 1, matrix[i][j - 1] + 1, matrix[i - 1][j - 1] + 1)\n",
    "\n",
    "    return matrix[len(predicted)][len(actual)]"
   ]
  },
  {
   "cell_type": "code",
   "execution_count": 3,
   "metadata": {},
   "outputs": [],
   "source": [
    "df = pd.read_csv('data/preprocessed/BPI_Challenge_2012.csv')"
   ]
  },
  {
   "cell_type": "code",
   "execution_count": 4,
   "metadata": {},
   "outputs": [
    {
     "data": {
      "text/html": [
       "<div>\n",
       "<style scoped>\n",
       "    .dataframe tbody tr th:only-of-type {\n",
       "        vertical-align: middle;\n",
       "    }\n",
       "\n",
       "    .dataframe tbody tr th {\n",
       "        vertical-align: top;\n",
       "    }\n",
       "\n",
       "    .dataframe thead th {\n",
       "        text-align: right;\n",
       "    }\n",
       "</style>\n",
       "<table border=\"1\" class=\"dataframe\">\n",
       "  <thead>\n",
       "    <tr style=\"text-align: right;\">\n",
       "      <th></th>\n",
       "      <th>org:resource</th>\n",
       "      <th>lifecycle:transition</th>\n",
       "      <th>concept:name</th>\n",
       "      <th>time:timestamp</th>\n",
       "      <th>case:REG_DATE</th>\n",
       "      <th>case:concept:name</th>\n",
       "      <th>case:AMOUNT_REQ</th>\n",
       "      <th>position</th>\n",
       "      <th>next_concept:name</th>\n",
       "      <th>next_timestamp</th>\n",
       "    </tr>\n",
       "  </thead>\n",
       "  <tbody>\n",
       "    <tr>\n",
       "      <th>0</th>\n",
       "      <td>112.0</td>\n",
       "      <td>COMPLETE</td>\n",
       "      <td>A_SUBMITTED</td>\n",
       "      <td>2011-10-01 00:38:44.546000+00:00</td>\n",
       "      <td>2011-10-01 00:38:44.546000+00:00</td>\n",
       "      <td>173688</td>\n",
       "      <td>20000</td>\n",
       "      <td>1</td>\n",
       "      <td>A_PARTLYSUBMITTED</td>\n",
       "      <td>2011-10-01 00:38:44.880000+00:00</td>\n",
       "    </tr>\n",
       "    <tr>\n",
       "      <th>1</th>\n",
       "      <td>112.0</td>\n",
       "      <td>COMPLETE</td>\n",
       "      <td>A_PARTLYSUBMITTED</td>\n",
       "      <td>2011-10-01 00:38:44.880000+00:00</td>\n",
       "      <td>2011-10-01 00:38:44.546000+00:00</td>\n",
       "      <td>173688</td>\n",
       "      <td>20000</td>\n",
       "      <td>2</td>\n",
       "      <td>A_PREACCEPTED</td>\n",
       "      <td>2011-10-01 00:39:37.906000+00:00</td>\n",
       "    </tr>\n",
       "    <tr>\n",
       "      <th>2</th>\n",
       "      <td>112.0</td>\n",
       "      <td>COMPLETE</td>\n",
       "      <td>A_PREACCEPTED</td>\n",
       "      <td>2011-10-01 00:39:37.906000+00:00</td>\n",
       "      <td>2011-10-01 00:38:44.546000+00:00</td>\n",
       "      <td>173688</td>\n",
       "      <td>20000</td>\n",
       "      <td>3</td>\n",
       "      <td>W_Completeren aanvraag</td>\n",
       "      <td>2011-10-01 00:39:38.875000+00:00</td>\n",
       "    </tr>\n",
       "    <tr>\n",
       "      <th>3</th>\n",
       "      <td>112.0</td>\n",
       "      <td>SCHEDULE</td>\n",
       "      <td>W_Completeren aanvraag</td>\n",
       "      <td>2011-10-01 00:39:38.875000+00:00</td>\n",
       "      <td>2011-10-01 00:38:44.546000+00:00</td>\n",
       "      <td>173688</td>\n",
       "      <td>20000</td>\n",
       "      <td>4</td>\n",
       "      <td>W_Completeren aanvraag</td>\n",
       "      <td>2011-10-01 11:36:46.437000+00:00</td>\n",
       "    </tr>\n",
       "    <tr>\n",
       "      <th>4</th>\n",
       "      <td>112.0</td>\n",
       "      <td>COMPLETE</td>\n",
       "      <td>A_SUBMITTED</td>\n",
       "      <td>2011-10-01 08:08:58.256000+00:00</td>\n",
       "      <td>2011-10-01 08:08:58.256000+00:00</td>\n",
       "      <td>173691</td>\n",
       "      <td>5000</td>\n",
       "      <td>1</td>\n",
       "      <td>A_PARTLYSUBMITTED</td>\n",
       "      <td>2011-10-01 08:09:02.195000+00:00</td>\n",
       "    </tr>\n",
       "  </tbody>\n",
       "</table>\n",
       "</div>"
      ],
      "text/plain": [
       "   org:resource lifecycle:transition            concept:name   \n",
       "0         112.0             COMPLETE             A_SUBMITTED  \\\n",
       "1         112.0             COMPLETE       A_PARTLYSUBMITTED   \n",
       "2         112.0             COMPLETE           A_PREACCEPTED   \n",
       "3         112.0             SCHEDULE  W_Completeren aanvraag   \n",
       "4         112.0             COMPLETE             A_SUBMITTED   \n",
       "\n",
       "                     time:timestamp                     case:REG_DATE   \n",
       "0  2011-10-01 00:38:44.546000+00:00  2011-10-01 00:38:44.546000+00:00  \\\n",
       "1  2011-10-01 00:38:44.880000+00:00  2011-10-01 00:38:44.546000+00:00   \n",
       "2  2011-10-01 00:39:37.906000+00:00  2011-10-01 00:38:44.546000+00:00   \n",
       "3  2011-10-01 00:39:38.875000+00:00  2011-10-01 00:38:44.546000+00:00   \n",
       "4  2011-10-01 08:08:58.256000+00:00  2011-10-01 08:08:58.256000+00:00   \n",
       "\n",
       "   case:concept:name  case:AMOUNT_REQ  position       next_concept:name   \n",
       "0             173688            20000         1       A_PARTLYSUBMITTED  \\\n",
       "1             173688            20000         2           A_PREACCEPTED   \n",
       "2             173688            20000         3  W_Completeren aanvraag   \n",
       "3             173688            20000         4  W_Completeren aanvraag   \n",
       "4             173691             5000         1       A_PARTLYSUBMITTED   \n",
       "\n",
       "                     next_timestamp  \n",
       "0  2011-10-01 00:38:44.880000+00:00  \n",
       "1  2011-10-01 00:39:37.906000+00:00  \n",
       "2  2011-10-01 00:39:38.875000+00:00  \n",
       "3  2011-10-01 11:36:46.437000+00:00  \n",
       "4  2011-10-01 08:09:02.195000+00:00  "
      ]
     },
     "execution_count": 4,
     "metadata": {},
     "output_type": "execute_result"
    }
   ],
   "source": [
    "df.head()"
   ]
  },
  {
   "cell_type": "code",
   "execution_count": 5,
   "metadata": {},
   "outputs": [
    {
     "data": {
      "text/html": [
       "<div>\n",
       "<style scoped>\n",
       "    .dataframe tbody tr th:only-of-type {\n",
       "        vertical-align: middle;\n",
       "    }\n",
       "\n",
       "    .dataframe tbody tr th {\n",
       "        vertical-align: top;\n",
       "    }\n",
       "\n",
       "    .dataframe thead th {\n",
       "        text-align: right;\n",
       "    }\n",
       "</style>\n",
       "<table border=\"1\" class=\"dataframe\">\n",
       "  <thead>\n",
       "    <tr style=\"text-align: right;\">\n",
       "      <th></th>\n",
       "      <th>org:resource</th>\n",
       "      <th>lifecycle:transition</th>\n",
       "      <th>concept:name</th>\n",
       "      <th>time:timestamp</th>\n",
       "      <th>case:REG_DATE</th>\n",
       "      <th>case:concept:name</th>\n",
       "      <th>case:AMOUNT_REQ</th>\n",
       "      <th>position</th>\n",
       "      <th>next_concept:name</th>\n",
       "      <th>next_timestamp</th>\n",
       "    </tr>\n",
       "  </thead>\n",
       "  <tbody>\n",
       "    <tr>\n",
       "      <th>10</th>\n",
       "      <td>112.0</td>\n",
       "      <td>COMPLETE</td>\n",
       "      <td>A_SUBMITTED</td>\n",
       "      <td>2011-10-01 08:11:08.866000+00:00</td>\n",
       "      <td>2011-10-01 08:11:08.865000+00:00</td>\n",
       "      <td>173697</td>\n",
       "      <td>15000</td>\n",
       "      <td>1</td>\n",
       "      <td>A_PARTLYSUBMITTED</td>\n",
       "      <td>2011-10-01 08:11:09.035000+00:00</td>\n",
       "    </tr>\n",
       "    <tr>\n",
       "      <th>11</th>\n",
       "      <td>112.0</td>\n",
       "      <td>COMPLETE</td>\n",
       "      <td>A_PARTLYSUBMITTED</td>\n",
       "      <td>2011-10-01 08:11:09.035000+00:00</td>\n",
       "      <td>2011-10-01 08:11:08.865000+00:00</td>\n",
       "      <td>173697</td>\n",
       "      <td>15000</td>\n",
       "      <td>2</td>\n",
       "      <td>A_DECLINED</td>\n",
       "      <td>2011-10-01 08:11:46.420000+00:00</td>\n",
       "    </tr>\n",
       "    <tr>\n",
       "      <th>14</th>\n",
       "      <td>112.0</td>\n",
       "      <td>COMPLETE</td>\n",
       "      <td>A_DECLINED</td>\n",
       "      <td>2011-10-01 08:11:46.420000+00:00</td>\n",
       "      <td>2011-10-01 08:11:08.865000+00:00</td>\n",
       "      <td>173697</td>\n",
       "      <td>15000</td>\n",
       "      <td>3</td>\n",
       "      <td>No_Activity</td>\n",
       "      <td>NaN</td>\n",
       "    </tr>\n",
       "  </tbody>\n",
       "</table>\n",
       "</div>"
      ],
      "text/plain": [
       "    org:resource lifecycle:transition       concept:name   \n",
       "10         112.0             COMPLETE        A_SUBMITTED  \\\n",
       "11         112.0             COMPLETE  A_PARTLYSUBMITTED   \n",
       "14         112.0             COMPLETE         A_DECLINED   \n",
       "\n",
       "                      time:timestamp                     case:REG_DATE   \n",
       "10  2011-10-01 08:11:08.866000+00:00  2011-10-01 08:11:08.865000+00:00  \\\n",
       "11  2011-10-01 08:11:09.035000+00:00  2011-10-01 08:11:08.865000+00:00   \n",
       "14  2011-10-01 08:11:46.420000+00:00  2011-10-01 08:11:08.865000+00:00   \n",
       "\n",
       "    case:concept:name  case:AMOUNT_REQ  position  next_concept:name   \n",
       "10             173697            15000         1  A_PARTLYSUBMITTED  \\\n",
       "11             173697            15000         2         A_DECLINED   \n",
       "14             173697            15000         3        No_Activity   \n",
       "\n",
       "                      next_timestamp  \n",
       "10  2011-10-01 08:11:09.035000+00:00  \n",
       "11  2011-10-01 08:11:46.420000+00:00  \n",
       "14                               NaN  "
      ]
     },
     "execution_count": 5,
     "metadata": {},
     "output_type": "execute_result"
    }
   ],
   "source": [
    "df[df['case:concept:name'] == 173697]"
   ]
  },
  {
   "cell_type": "code",
   "execution_count": 6,
   "metadata": {},
   "outputs": [],
   "source": [
    "# Removing the sequences with length of more than 50\n",
    "df = df[df['case:concept:name'].isin(df.groupby('case:concept:name').size()[df.groupby('case:concept:name').size() <= 10].index)]"
   ]
  },
  {
   "cell_type": "code",
   "execution_count": 7,
   "metadata": {},
   "outputs": [
    {
     "data": {
      "text/plain": [
       "{0: 'No_Activity',\n",
       " 1: 'A_SUBMITTED',\n",
       " 2: 'A_PARTLYSUBMITTED',\n",
       " 3: 'A_DECLINED',\n",
       " 4: 'A_PREACCEPTED',\n",
       " 5: 'W_Completeren aanvraag',\n",
       " 6: 'W_Afhandelen leads',\n",
       " 7: 'A_CANCELLED',\n",
       " 8: 'W_Beoordelen fraude',\n",
       " 9: 'A_ACCEPTED'}"
      ]
     },
     "execution_count": 7,
     "metadata": {},
     "output_type": "execute_result"
    }
   ],
   "source": [
    "# creating a label encoder\n",
    "le = {}\n",
    "le[0] = 'No_Activity'\n",
    "i = 1 \n",
    "for label in df['concept:name'].unique():\n",
    "    le[i] = label\n",
    "    i += 1\n",
    "le"
   ]
  },
  {
   "cell_type": "code",
   "execution_count": 8,
   "metadata": {},
   "outputs": [
    {
     "data": {
      "text/html": [
       "<div>\n",
       "<style scoped>\n",
       "    .dataframe tbody tr th:only-of-type {\n",
       "        vertical-align: middle;\n",
       "    }\n",
       "\n",
       "    .dataframe tbody tr th {\n",
       "        vertical-align: top;\n",
       "    }\n",
       "\n",
       "    .dataframe thead th {\n",
       "        text-align: right;\n",
       "    }\n",
       "</style>\n",
       "<table border=\"1\" class=\"dataframe\">\n",
       "  <thead>\n",
       "    <tr style=\"text-align: right;\">\n",
       "      <th></th>\n",
       "      <th>org:resource</th>\n",
       "      <th>lifecycle:transition</th>\n",
       "      <th>concept:name</th>\n",
       "      <th>time:timestamp</th>\n",
       "      <th>case:REG_DATE</th>\n",
       "      <th>case:concept:name</th>\n",
       "      <th>case:AMOUNT_REQ</th>\n",
       "      <th>position</th>\n",
       "      <th>next_concept:name</th>\n",
       "      <th>next_timestamp</th>\n",
       "      <th>int:concept:name</th>\n",
       "      <th>int:next_concept:name</th>\n",
       "    </tr>\n",
       "  </thead>\n",
       "  <tbody>\n",
       "    <tr>\n",
       "      <th>10</th>\n",
       "      <td>112.0</td>\n",
       "      <td>COMPLETE</td>\n",
       "      <td>A_SUBMITTED</td>\n",
       "      <td>2011-10-01 08:11:08.866000+00:00</td>\n",
       "      <td>2011-10-01 08:11:08.865000+00:00</td>\n",
       "      <td>173697</td>\n",
       "      <td>15000</td>\n",
       "      <td>1</td>\n",
       "      <td>A_PARTLYSUBMITTED</td>\n",
       "      <td>2011-10-01 08:11:09.035000+00:00</td>\n",
       "      <td>1</td>\n",
       "      <td>2</td>\n",
       "    </tr>\n",
       "    <tr>\n",
       "      <th>11</th>\n",
       "      <td>112.0</td>\n",
       "      <td>COMPLETE</td>\n",
       "      <td>A_PARTLYSUBMITTED</td>\n",
       "      <td>2011-10-01 08:11:09.035000+00:00</td>\n",
       "      <td>2011-10-01 08:11:08.865000+00:00</td>\n",
       "      <td>173697</td>\n",
       "      <td>15000</td>\n",
       "      <td>2</td>\n",
       "      <td>A_DECLINED</td>\n",
       "      <td>2011-10-01 08:11:46.420000+00:00</td>\n",
       "      <td>2</td>\n",
       "      <td>3</td>\n",
       "    </tr>\n",
       "    <tr>\n",
       "      <th>14</th>\n",
       "      <td>112.0</td>\n",
       "      <td>COMPLETE</td>\n",
       "      <td>A_DECLINED</td>\n",
       "      <td>2011-10-01 08:11:46.420000+00:00</td>\n",
       "      <td>2011-10-01 08:11:08.865000+00:00</td>\n",
       "      <td>173697</td>\n",
       "      <td>15000</td>\n",
       "      <td>3</td>\n",
       "      <td>No_Activity</td>\n",
       "      <td>NaN</td>\n",
       "      <td>3</td>\n",
       "      <td>0</td>\n",
       "    </tr>\n",
       "    <tr>\n",
       "      <th>15</th>\n",
       "      <td>112.0</td>\n",
       "      <td>COMPLETE</td>\n",
       "      <td>A_SUBMITTED</td>\n",
       "      <td>2011-10-01 08:15:39.894000+00:00</td>\n",
       "      <td>2011-10-01 08:15:39.894000+00:00</td>\n",
       "      <td>173700</td>\n",
       "      <td>5000</td>\n",
       "      <td>1</td>\n",
       "      <td>A_PARTLYSUBMITTED</td>\n",
       "      <td>2011-10-01 08:15:40.102000+00:00</td>\n",
       "      <td>1</td>\n",
       "      <td>2</td>\n",
       "    </tr>\n",
       "    <tr>\n",
       "      <th>16</th>\n",
       "      <td>112.0</td>\n",
       "      <td>COMPLETE</td>\n",
       "      <td>A_PARTLYSUBMITTED</td>\n",
       "      <td>2011-10-01 08:15:40.102000+00:00</td>\n",
       "      <td>2011-10-01 08:15:39.894000+00:00</td>\n",
       "      <td>173700</td>\n",
       "      <td>5000</td>\n",
       "      <td>2</td>\n",
       "      <td>A_DECLINED</td>\n",
       "      <td>2011-10-01 08:16:21.037000+00:00</td>\n",
       "      <td>2</td>\n",
       "      <td>3</td>\n",
       "    </tr>\n",
       "  </tbody>\n",
       "</table>\n",
       "</div>"
      ],
      "text/plain": [
       "    org:resource lifecycle:transition       concept:name   \n",
       "10         112.0             COMPLETE        A_SUBMITTED  \\\n",
       "11         112.0             COMPLETE  A_PARTLYSUBMITTED   \n",
       "14         112.0             COMPLETE         A_DECLINED   \n",
       "15         112.0             COMPLETE        A_SUBMITTED   \n",
       "16         112.0             COMPLETE  A_PARTLYSUBMITTED   \n",
       "\n",
       "                      time:timestamp                     case:REG_DATE   \n",
       "10  2011-10-01 08:11:08.866000+00:00  2011-10-01 08:11:08.865000+00:00  \\\n",
       "11  2011-10-01 08:11:09.035000+00:00  2011-10-01 08:11:08.865000+00:00   \n",
       "14  2011-10-01 08:11:46.420000+00:00  2011-10-01 08:11:08.865000+00:00   \n",
       "15  2011-10-01 08:15:39.894000+00:00  2011-10-01 08:15:39.894000+00:00   \n",
       "16  2011-10-01 08:15:40.102000+00:00  2011-10-01 08:15:39.894000+00:00   \n",
       "\n",
       "    case:concept:name  case:AMOUNT_REQ  position  next_concept:name   \n",
       "10             173697            15000         1  A_PARTLYSUBMITTED  \\\n",
       "11             173697            15000         2         A_DECLINED   \n",
       "14             173697            15000         3        No_Activity   \n",
       "15             173700             5000         1  A_PARTLYSUBMITTED   \n",
       "16             173700             5000         2         A_DECLINED   \n",
       "\n",
       "                      next_timestamp  int:concept:name  int:next_concept:name  \n",
       "10  2011-10-01 08:11:09.035000+00:00                 1                      2  \n",
       "11  2011-10-01 08:11:46.420000+00:00                 2                      3  \n",
       "14                               NaN                 3                      0  \n",
       "15  2011-10-01 08:15:40.102000+00:00                 1                      2  \n",
       "16  2011-10-01 08:16:21.037000+00:00                 2                      3  "
      ]
     },
     "execution_count": 8,
     "metadata": {},
     "output_type": "execute_result"
    }
   ],
   "source": [
    "# Encoding the activities\n",
    "df['int:concept:name'] = df['concept:name'].apply(lambda x: [k for k, v in le.items() if v == x][0])\n",
    "df['int:next_concept:name'] = df['next_concept:name'].apply(lambda x: [k for k, v in le.items() if v == x][0])\n",
    "df.head()"
   ]
  },
  {
   "cell_type": "code",
   "execution_count": 9,
   "metadata": {},
   "outputs": [],
   "source": [
    "# encoder = LabelEncoder()\n",
    "\n",
    "# # Fit and transform the 'concept:name' column\n",
    "# encoded_concept_names = encoder.fit_transform(df['concept:name'])\n",
    "# # Adjusting labels to start from 1 instead of 0\n",
    "# encoded_concept_names += 1\n",
    "\n",
    "# # Fit and transform the 'next_concept:name' column\n",
    "# encoded_next_concept_names = encoder.fit_transform(df['next_concept:name'])\n",
    "# # Adjusting labels to start from 1 instead of 0\n",
    "# encoded_next_concept_names += 1\n",
    "\n",
    "# # Assign the encoded values back to the DataFrame\n",
    "# df['int:concept:name'] = encoded_concept_names\n",
    "# df['int:next_concept:name'] = encoded_next_concept_names"
   ]
  },
  {
   "cell_type": "code",
   "execution_count": 10,
   "metadata": {},
   "outputs": [],
   "source": [
    "# # one hot encoding the 'concept:name'\n",
    "# concept_name_copy = df['concept:name'].copy()\n",
    "# df = pd.get_dummies(df, columns=['concept:name'], dtype=int)\n",
    "# df['concept:name'] = concept_name_copy\n",
    "# df"
   ]
  },
  {
   "cell_type": "code",
   "execution_count": 11,
   "metadata": {},
   "outputs": [
    {
     "data": {
      "text/html": [
       "<div>\n",
       "<style scoped>\n",
       "    .dataframe tbody tr th:only-of-type {\n",
       "        vertical-align: middle;\n",
       "    }\n",
       "\n",
       "    .dataframe tbody tr th {\n",
       "        vertical-align: top;\n",
       "    }\n",
       "\n",
       "    .dataframe thead th {\n",
       "        text-align: right;\n",
       "    }\n",
       "</style>\n",
       "<table border=\"1\" class=\"dataframe\">\n",
       "  <thead>\n",
       "    <tr style=\"text-align: right;\">\n",
       "      <th></th>\n",
       "      <th>org:resource</th>\n",
       "      <th>concept:name</th>\n",
       "      <th>time:timestamp</th>\n",
       "      <th>case:REG_DATE</th>\n",
       "      <th>case:concept:name</th>\n",
       "      <th>case:AMOUNT_REQ</th>\n",
       "      <th>position</th>\n",
       "      <th>next_concept:name</th>\n",
       "      <th>next_timestamp</th>\n",
       "      <th>int:concept:name</th>\n",
       "      <th>int:next_concept:name</th>\n",
       "      <th>lifecycle:transition_COMPLETE</th>\n",
       "      <th>lifecycle:transition_SCHEDULE</th>\n",
       "      <th>lifecycle:transition_START</th>\n",
       "    </tr>\n",
       "  </thead>\n",
       "  <tbody>\n",
       "    <tr>\n",
       "      <th>10</th>\n",
       "      <td>112.0</td>\n",
       "      <td>A_SUBMITTED</td>\n",
       "      <td>2011-10-01 08:11:08.866000+00:00</td>\n",
       "      <td>2011-10-01 08:11:08.865000+00:00</td>\n",
       "      <td>173697</td>\n",
       "      <td>15000</td>\n",
       "      <td>1</td>\n",
       "      <td>A_PARTLYSUBMITTED</td>\n",
       "      <td>2011-10-01 08:11:09.035000+00:00</td>\n",
       "      <td>1</td>\n",
       "      <td>2</td>\n",
       "      <td>1</td>\n",
       "      <td>0</td>\n",
       "      <td>0</td>\n",
       "    </tr>\n",
       "  </tbody>\n",
       "</table>\n",
       "</div>"
      ],
      "text/plain": [
       "    org:resource concept:name                    time:timestamp   \n",
       "10         112.0  A_SUBMITTED  2011-10-01 08:11:08.866000+00:00  \\\n",
       "\n",
       "                       case:REG_DATE  case:concept:name  case:AMOUNT_REQ   \n",
       "10  2011-10-01 08:11:08.865000+00:00             173697            15000  \\\n",
       "\n",
       "    position  next_concept:name                    next_timestamp   \n",
       "10         1  A_PARTLYSUBMITTED  2011-10-01 08:11:09.035000+00:00  \\\n",
       "\n",
       "    int:concept:name  int:next_concept:name  lifecycle:transition_COMPLETE   \n",
       "10                 1                      2                              1  \\\n",
       "\n",
       "    lifecycle:transition_SCHEDULE  lifecycle:transition_START  \n",
       "10                              0                           0  "
      ]
     },
     "execution_count": 11,
     "metadata": {},
     "output_type": "execute_result"
    }
   ],
   "source": [
    "# one hot encode the 'life_cycle:transition' column\n",
    "df = pd.get_dummies(df, columns=['lifecycle:transition'])\n",
    "df['lifecycle:transition_COMPLETE'] = df['lifecycle:transition_COMPLETE'].astype(int)\n",
    "df['lifecycle:transition_START'] = df['lifecycle:transition_START'].astype(int)\n",
    "df['lifecycle:transition_SCHEDULE'] = df['lifecycle:transition_SCHEDULE'].astype(int)\n",
    "\n",
    "df.head(1)"
   ]
  },
  {
   "cell_type": "code",
   "execution_count": 12,
   "metadata": {},
   "outputs": [
    {
     "data": {
      "text/html": [
       "<div>\n",
       "<style scoped>\n",
       "    .dataframe tbody tr th:only-of-type {\n",
       "        vertical-align: middle;\n",
       "    }\n",
       "\n",
       "    .dataframe tbody tr th {\n",
       "        vertical-align: top;\n",
       "    }\n",
       "\n",
       "    .dataframe thead th {\n",
       "        text-align: right;\n",
       "    }\n",
       "</style>\n",
       "<table border=\"1\" class=\"dataframe\">\n",
       "  <thead>\n",
       "    <tr style=\"text-align: right;\">\n",
       "      <th></th>\n",
       "      <th>int:concept:name</th>\n",
       "      <th>case:concept:name</th>\n",
       "      <th>position</th>\n",
       "      <th>int:next_concept:name</th>\n",
       "      <th>lifecycle:transition_COMPLETE</th>\n",
       "      <th>lifecycle:transition_SCHEDULE</th>\n",
       "      <th>lifecycle:transition_START</th>\n",
       "    </tr>\n",
       "  </thead>\n",
       "  <tbody>\n",
       "    <tr>\n",
       "      <th>10</th>\n",
       "      <td>1</td>\n",
       "      <td>173697</td>\n",
       "      <td>1</td>\n",
       "      <td>2</td>\n",
       "      <td>1</td>\n",
       "      <td>0</td>\n",
       "      <td>0</td>\n",
       "    </tr>\n",
       "    <tr>\n",
       "      <th>11</th>\n",
       "      <td>2</td>\n",
       "      <td>173697</td>\n",
       "      <td>2</td>\n",
       "      <td>3</td>\n",
       "      <td>1</td>\n",
       "      <td>0</td>\n",
       "      <td>0</td>\n",
       "    </tr>\n",
       "    <tr>\n",
       "      <th>14</th>\n",
       "      <td>3</td>\n",
       "      <td>173697</td>\n",
       "      <td>3</td>\n",
       "      <td>0</td>\n",
       "      <td>1</td>\n",
       "      <td>0</td>\n",
       "      <td>0</td>\n",
       "    </tr>\n",
       "    <tr>\n",
       "      <th>15</th>\n",
       "      <td>1</td>\n",
       "      <td>173700</td>\n",
       "      <td>1</td>\n",
       "      <td>2</td>\n",
       "      <td>1</td>\n",
       "      <td>0</td>\n",
       "      <td>0</td>\n",
       "    </tr>\n",
       "    <tr>\n",
       "      <th>16</th>\n",
       "      <td>2</td>\n",
       "      <td>173700</td>\n",
       "      <td>2</td>\n",
       "      <td>3</td>\n",
       "      <td>1</td>\n",
       "      <td>0</td>\n",
       "      <td>0</td>\n",
       "    </tr>\n",
       "  </tbody>\n",
       "</table>\n",
       "</div>"
      ],
      "text/plain": [
       "    int:concept:name  case:concept:name  position  int:next_concept:name   \n",
       "10                 1             173697         1                      2  \\\n",
       "11                 2             173697         2                      3   \n",
       "14                 3             173697         3                      0   \n",
       "15                 1             173700         1                      2   \n",
       "16                 2             173700         2                      3   \n",
       "\n",
       "    lifecycle:transition_COMPLETE  lifecycle:transition_SCHEDULE   \n",
       "10                              1                              0  \\\n",
       "11                              1                              0   \n",
       "14                              1                              0   \n",
       "15                              1                              0   \n",
       "16                              1                              0   \n",
       "\n",
       "    lifecycle:transition_START  \n",
       "10                           0  \n",
       "11                           0  \n",
       "14                           0  \n",
       "15                           0  \n",
       "16                           0  "
      ]
     },
     "execution_count": 12,
     "metadata": {},
     "output_type": "execute_result"
    }
   ],
   "source": [
    "columns_to_keep = ['int:concept:name','case:concept:name', 'position','int:next_concept:name', 'lifecycle:transition_COMPLETE', 'lifecycle:transition_SCHEDULE', 'lifecycle:transition_START']\n",
    "df = df[columns_to_keep]\n",
    "df.head()"
   ]
  },
  {
   "cell_type": "code",
   "execution_count": 13,
   "metadata": {},
   "outputs": [
    {
     "name": "stdout",
     "output_type": "stream",
     "text": [
      "Original size: 31452\n",
      "Train size: 25135\n",
      "Test size: 6263\n",
      "Ratio: 0.8005286960952926\n",
      "Dropped cases in both sets: 8\n",
      "Dropped rows from dataset: 54\n"
     ]
    }
   ],
   "source": [
    "train, test = split_data(df, 0.8)"
   ]
  },
  {
   "cell_type": "code",
   "execution_count": 14,
   "metadata": {},
   "outputs": [
    {
     "data": {
      "text/html": [
       "<div>\n",
       "<style scoped>\n",
       "    .dataframe tbody tr th:only-of-type {\n",
       "        vertical-align: middle;\n",
       "    }\n",
       "\n",
       "    .dataframe tbody tr th {\n",
       "        vertical-align: top;\n",
       "    }\n",
       "\n",
       "    .dataframe thead th {\n",
       "        text-align: right;\n",
       "    }\n",
       "</style>\n",
       "<table border=\"1\" class=\"dataframe\">\n",
       "  <thead>\n",
       "    <tr style=\"text-align: right;\">\n",
       "      <th></th>\n",
       "      <th>int:concept:name</th>\n",
       "      <th>case:concept:name</th>\n",
       "      <th>position</th>\n",
       "      <th>int:next_concept:name</th>\n",
       "      <th>lifecycle:transition_COMPLETE</th>\n",
       "      <th>lifecycle:transition_SCHEDULE</th>\n",
       "      <th>lifecycle:transition_START</th>\n",
       "    </tr>\n",
       "  </thead>\n",
       "  <tbody>\n",
       "    <tr>\n",
       "      <th>10</th>\n",
       "      <td>1</td>\n",
       "      <td>173697</td>\n",
       "      <td>1</td>\n",
       "      <td>2</td>\n",
       "      <td>1</td>\n",
       "      <td>0</td>\n",
       "      <td>0</td>\n",
       "    </tr>\n",
       "    <tr>\n",
       "      <th>11</th>\n",
       "      <td>2</td>\n",
       "      <td>173697</td>\n",
       "      <td>2</td>\n",
       "      <td>3</td>\n",
       "      <td>1</td>\n",
       "      <td>0</td>\n",
       "      <td>0</td>\n",
       "    </tr>\n",
       "    <tr>\n",
       "      <th>14</th>\n",
       "      <td>3</td>\n",
       "      <td>173697</td>\n",
       "      <td>3</td>\n",
       "      <td>0</td>\n",
       "      <td>1</td>\n",
       "      <td>0</td>\n",
       "      <td>0</td>\n",
       "    </tr>\n",
       "    <tr>\n",
       "      <th>15</th>\n",
       "      <td>1</td>\n",
       "      <td>173700</td>\n",
       "      <td>1</td>\n",
       "      <td>2</td>\n",
       "      <td>1</td>\n",
       "      <td>0</td>\n",
       "      <td>0</td>\n",
       "    </tr>\n",
       "    <tr>\n",
       "      <th>16</th>\n",
       "      <td>2</td>\n",
       "      <td>173700</td>\n",
       "      <td>2</td>\n",
       "      <td>3</td>\n",
       "      <td>1</td>\n",
       "      <td>0</td>\n",
       "      <td>0</td>\n",
       "    </tr>\n",
       "  </tbody>\n",
       "</table>\n",
       "</div>"
      ],
      "text/plain": [
       "    int:concept:name  case:concept:name  position  int:next_concept:name   \n",
       "10                 1             173697         1                      2  \\\n",
       "11                 2             173697         2                      3   \n",
       "14                 3             173697         3                      0   \n",
       "15                 1             173700         1                      2   \n",
       "16                 2             173700         2                      3   \n",
       "\n",
       "    lifecycle:transition_COMPLETE  lifecycle:transition_SCHEDULE   \n",
       "10                              1                              0  \\\n",
       "11                              1                              0   \n",
       "14                              1                              0   \n",
       "15                              1                              0   \n",
       "16                              1                              0   \n",
       "\n",
       "    lifecycle:transition_START  \n",
       "10                           0  \n",
       "11                           0  \n",
       "14                           0  \n",
       "15                           0  \n",
       "16                           0  "
      ]
     },
     "execution_count": 14,
     "metadata": {},
     "output_type": "execute_result"
    }
   ],
   "source": [
    "train.head()"
   ]
  },
  {
   "cell_type": "code",
   "execution_count": 15,
   "metadata": {},
   "outputs": [],
   "source": [
    "# Generating all the possible prefixes and suffixes of different length in the train set\n",
    "prefixes = []\n",
    "suffixes = []\n",
    "for case in train['case:concept:name'].unique():\n",
    "    case_df = train[train['case:concept:name'] == case]\n",
    "    for i in range(1, len(case_df)):\n",
    "        prefixes.append(case_df.iloc[:i].values)\n",
    "        suffixes.append(list(case_df.iloc[i:]['int:concept:name'].values))"
   ]
  },
  {
   "cell_type": "code",
   "execution_count": 16,
   "metadata": {},
   "outputs": [],
   "source": [
    "# Generating all the possible prefixes and suffixes of different length in the test set\n",
    "prefixes_test = []\n",
    "suffixes_test = []\n",
    "for case in test['case:concept:name'].unique():\n",
    "    case_df = test[test['case:concept:name'] == case]\n",
    "    for i in range(1, len(case_df)):\n",
    "        prefixes_test.append(case_df.iloc[:i].values)\n",
    "        suffixes_test.append(list(case_df.iloc[i:]['int:concept:name'].values))"
   ]
  },
  {
   "cell_type": "code",
   "execution_count": 17,
   "metadata": {},
   "outputs": [
    {
     "data": {
      "text/plain": [
       "(array([[     1, 173703,      1,      2,      1,      0,      0],\n",
       "        [     2, 173703,      2,      4,      1,      0,      0],\n",
       "        [     4, 173703,      3,      5,      1,      0,      0]],\n",
       "       dtype=int64),\n",
       " [5, 5, 5, 5, 7, 5])"
      ]
     },
     "execution_count": 17,
     "metadata": {},
     "output_type": "execute_result"
    }
   ],
   "source": [
    "prefixes[6], suffixes[6]"
   ]
  },
  {
   "cell_type": "code",
   "execution_count": 18,
   "metadata": {},
   "outputs": [],
   "source": [
    "# Dropping the 'case:concept:name' column and in:next_concept:name column from the train and test suffixes\n",
    "# Which are the 2nd and 4th columns\n",
    "prefixes = [np.delete(prefix, [1,3], axis=1) for prefix in prefixes]\n",
    "prefixes_test = [np.delete(prefix, [1,3], axis=1) for prefix in prefixes_test]"
   ]
  },
  {
   "cell_type": "code",
   "execution_count": 19,
   "metadata": {},
   "outputs": [],
   "source": [
    "# Add padding to the prefix nd suffix to make every sequence of the same length (the length of the longest sequence) TRAIN\n",
    "# We add the padding before the sequence in prefixes and after the sequence in suffixes\n",
    "max_length = df['case:concept:name'].value_counts().max()\n",
    "padding_dim = len(prefixes[0][0])\n",
    "for i in range(len(prefixes)):\n",
    "    padding_prefix = np.zeros((max_length - len(prefixes[i]), padding_dim))\n",
    "    padding_suffix = [0] * (max_length - len(suffixes[i]))\n",
    "    prefixes[i] = np.concatenate([padding_prefix, prefixes[i]], axis=0)\n",
    "    suffixes[i] = np.concatenate([suffixes[i], padding_suffix], axis=0)"
   ]
  },
  {
   "cell_type": "code",
   "execution_count": 20,
   "metadata": {},
   "outputs": [],
   "source": [
    "# Add padding to the prefix nd suffix to make every sequence of the same length (the length of the longest sequence) TEST\n",
    "# We add the padding before the sequence in prefixes and after the sequence in suffixes\n",
    "max_length = df['case:concept:name'].value_counts().max()\n",
    "padding_dim = len(prefixes_test[0][0])\n",
    "for i in range(len(prefixes_test)):\n",
    "    padding_prefix = np.zeros((max_length - len(prefixes_test[i]), padding_dim))\n",
    "    padding_suffix = [0] * (max_length - len(suffixes_test[i]))\n",
    "    prefixes_test[i] = np.concatenate([padding_prefix, prefixes_test[i]], axis=0)\n",
    "    suffixes_test[i] = np.concatenate([suffixes_test[i], padding_suffix], axis=0)"
   ]
  },
  {
   "cell_type": "code",
   "execution_count": 21,
   "metadata": {},
   "outputs": [],
   "source": [
    "class LSDM(nn.Module):\n",
    "    def __init__(self, input_dim, hidden_dim, output_dim):\n",
    "        super(LSDM, self).__init__()\n",
    "        self.lstm = nn.LSTM(input_dim, hidden_dim, batch_first=True)\n",
    "        self.fc = nn.Linear(hidden_dim, output_dim)\n",
    "        \n",
    "    def forward(self, x):\n",
    "        _, (h_n, _) = self.lstm(x)\n",
    "        out = self.fc(h_n.squeeze(0))\n",
    "        return out"
   ]
  },
  {
   "cell_type": "code",
   "execution_count": 22,
   "metadata": {},
   "outputs": [],
   "source": [
    "# num_categories = len(df['int:concept:name'].unique())\n",
    "# embedding_dim = 32  "
   ]
  },
  {
   "cell_type": "code",
   "execution_count": 23,
   "metadata": {},
   "outputs": [],
   "source": [
    "# num_categories = len(df['int:concept:name'].unique())\n",
    "# embedding_dim = 32  "
   ]
  },
  {
   "cell_type": "code",
   "execution_count": 24,
   "metadata": {},
   "outputs": [],
   "source": [
    "# Define the dimensions\n",
    "input_dim = len(prefixes[0][0])  \n",
    "hidden_dim = 64\n",
    "output_dim = len(suffixes[0])  "
   ]
  },
  {
   "cell_type": "code",
   "execution_count": 25,
   "metadata": {},
   "outputs": [],
   "source": [
    "# Initialize the model\n",
    "model = LSDM(input_dim, hidden_dim, output_dim)"
   ]
  },
  {
   "cell_type": "code",
   "execution_count": 26,
   "metadata": {},
   "outputs": [
    {
     "data": {
      "text/plain": [
       "array([[0., 0., 0., 0., 0.],\n",
       "       [0., 0., 0., 0., 0.],\n",
       "       [0., 0., 0., 0., 0.],\n",
       "       [0., 0., 0., 0., 0.],\n",
       "       [0., 0., 0., 0., 0.],\n",
       "       [0., 0., 0., 0., 0.],\n",
       "       [1., 1., 1., 0., 0.],\n",
       "       [2., 2., 1., 0., 0.],\n",
       "       [4., 3., 1., 0., 0.],\n",
       "       [5., 4., 0., 1., 0.]])"
      ]
     },
     "execution_count": 26,
     "metadata": {},
     "output_type": "execute_result"
    }
   ],
   "source": [
    "prefixes[7]"
   ]
  },
  {
   "cell_type": "code",
   "execution_count": 27,
   "metadata": {},
   "outputs": [],
   "source": [
    "# Convert data to PyTorch tensors\n",
    "prefixes_tensor = torch.tensor(np.array(prefixes), dtype=torch.float32)\n",
    "suffixes_tensor = torch.tensor(np.array(suffixes), dtype=torch.float32)"
   ]
  },
  {
   "cell_type": "code",
   "execution_count": 28,
   "metadata": {},
   "outputs": [],
   "source": [
    "# mask_prefix = torch.tensor(prefixes_tensor != -1)\n",
    "# masked_prefix_tensor = masked_tensor(prefixes_tensor, mask_prefix)\n",
    "\n",
    "# mask_suffix = torch.tensor(suffixes_tensor != -1)\n",
    "# masked_suffix_tensor = masked_tensor(suffixes_tensor, mask_suffix)"
   ]
  },
  {
   "cell_type": "code",
   "execution_count": 29,
   "metadata": {},
   "outputs": [],
   "source": [
    "# Define loss function and optimizer\n",
    "criterion = nn.MSELoss()\n",
    "optimizer = optim.Adam(model.parameters(), lr=0.01)"
   ]
  },
  {
   "cell_type": "code",
   "execution_count": 30,
   "metadata": {},
   "outputs": [
    {
     "name": "stdout",
     "output_type": "stream",
     "text": [
      "Epoch [1/10], Loss: 7.4221\n",
      "Epoch [2/10], Loss: 6.9822\n",
      "Epoch [3/10], Loss: 6.4991\n",
      "Epoch [4/10], Loss: 5.8582\n",
      "Epoch [5/10], Loss: 4.9802\n",
      "Epoch [6/10], Loss: 4.0425\n",
      "Epoch [7/10], Loss: 3.5712\n",
      "Epoch [8/10], Loss: 3.4671\n",
      "Epoch [9/10], Loss: 3.4849\n",
      "Epoch [10/10], Loss: 3.5351\n"
     ]
    }
   ],
   "source": [
    "# Train the model\n",
    "num_epochs = 10\n",
    "for epoch in range(num_epochs):\n",
    "    model.train()\n",
    "    optimizer.zero_grad()\n",
    "    outputs = model(prefixes_tensor)\n",
    "    loss = criterion(outputs, suffixes_tensor)\n",
    "    loss.backward()\n",
    "    optimizer.step()\n",
    "    \n",
    "    # Update the progress bar\n",
    "    print(f'Epoch [{epoch+1}/{num_epochs}], Loss: {loss.item():.4f}')"
   ]
  },
  {
   "cell_type": "code",
   "execution_count": 31,
   "metadata": {},
   "outputs": [],
   "source": [
    "prefixes_array_test = np.array(prefixes_test, dtype=np.float32)"
   ]
  },
  {
   "cell_type": "code",
   "execution_count": 32,
   "metadata": {},
   "outputs": [
    {
     "name": "stderr",
     "output_type": "stream",
     "text": [
      "C:\\Users\\20211576\\AppData\\Local\\Temp/ipykernel_29632/434047418.py:3: UserWarning: Creating a tensor from a list of numpy.ndarrays is extremely slow. Please consider converting the list to a single numpy.ndarray with numpy.array() before converting to a tensor. (Triggered internally at C:\\actions-runner\\_work\\pytorch\\pytorch\\builder\\windows\\pytorch\\torch\\csrc\\utils\\tensor_new.cpp:233.)\n",
      "  suffixes_test_tensor = torch.tensor(suffixes_test, dtype=torch.float32)\n"
     ]
    }
   ],
   "source": [
    "# Convert data to PyTorch tensors\n",
    "prefixes_test_tensor = torch.tensor(prefixes_array_test, dtype=torch.float32)\n",
    "suffixes_test_tensor = torch.tensor(suffixes_test, dtype=torch.float32)"
   ]
  },
  {
   "cell_type": "code",
   "execution_count": 33,
   "metadata": {},
   "outputs": [
    {
     "name": "stdout",
     "output_type": "stream",
     "text": [
      "Test Loss: 3.6383\n"
     ]
    }
   ],
   "source": [
    "# Set the model to evaluation mode\n",
    "model.eval()\n",
    "\n",
    "# Run the test data through the model\n",
    "with torch.no_grad():\n",
    "    test_outputs = model(prefixes_test_tensor)\n",
    "    test_loss = criterion(test_outputs, suffixes_test_tensor)\n",
    "\n",
    "print(f'Test Loss: {test_loss.item():.4f}')"
   ]
  },
  {
   "cell_type": "code",
   "execution_count": 34,
   "metadata": {},
   "outputs": [],
   "source": [
    "# set below 1 to zero and round the numbers\n",
    "test_outputs[test_outputs < 1] = 0\n",
    "test_outputs = torch.round(test_outputs)"
   ]
  },
  {
   "cell_type": "code",
   "execution_count": 35,
   "metadata": {},
   "outputs": [
    {
     "name": "stdout",
     "output_type": "stream",
     "text": [
      "tensor([5., 4., 3., 2., 1., 0., 0., 0., 0., 0.])\n",
      "tensor([2., 6., 6., 6., 6., 6., 6., 3., 6., 0.])\n"
     ]
    }
   ],
   "source": [
    "# Comparing one instance from predictions and the actual values\n",
    "print(test_outputs[0])\n",
    "print(suffixes_test_tensor[0])"
   ]
  },
  {
   "cell_type": "code",
   "execution_count": 36,
   "metadata": {},
   "outputs": [
    {
     "name": "stdout",
     "output_type": "stream",
     "text": [
      "tensor([5., 4., 3., 2., 1., 0., 0., 0., 0., 0.])\n",
      "tensor([6., 6., 6., 6., 3., 6., 0., 0., 0., 0.])\n"
     ]
    }
   ],
   "source": [
    "# Another comparison\n",
    "print(test_outputs[2000])\n",
    "print(suffixes_test_tensor[2000])"
   ]
  },
  {
   "cell_type": "code",
   "execution_count": 37,
   "metadata": {},
   "outputs": [
    {
     "data": {
      "text/plain": [
       "(tensor([5., 4., 3., 2., 1., 0., 0., 0., 0., 0.]),\n",
       " tensor([5., 5., 7., 5., 0., 0., 0., 0., 0., 0.]))"
      ]
     },
     "execution_count": 37,
     "metadata": {},
     "output_type": "execute_result"
    }
   ],
   "source": [
    "test_outputs[69], suffixes_test_tensor[69]"
   ]
  },
  {
   "cell_type": "code",
   "execution_count": 38,
   "metadata": {},
   "outputs": [
    {
     "data": {
      "text/plain": [
       "(tensor([5., 4., 3., 2., 1., 0., 0., 0., 0., 0.]),\n",
       " tensor([6., 3., 6., 0., 0., 0., 0., 0., 0., 0.]))"
      ]
     },
     "execution_count": 38,
     "metadata": {},
     "output_type": "execute_result"
    }
   ],
   "source": [
    "test_outputs[3000], suffixes_test_tensor[453]"
   ]
  },
  {
   "cell_type": "code",
   "execution_count": 39,
   "metadata": {},
   "outputs": [
    {
     "data": {
      "text/plain": [
       "(tensor([5., 4., 3., 2., 1., 0., 0., 0., 0., 0.]),\n",
       " tensor([2., 3., 0., 0., 0., 0., 0., 0., 0., 0.]))"
      ]
     },
     "execution_count": 39,
     "metadata": {},
     "output_type": "execute_result"
    }
   ],
   "source": [
    "test_outputs[200], suffixes_test_tensor[200]"
   ]
  },
  {
   "cell_type": "code",
   "execution_count": 40,
   "metadata": {},
   "outputs": [
    {
     "data": {
      "text/plain": [
       "(['W_Completeren aanvraag',\n",
       "  'A_PREACCEPTED',\n",
       "  'A_DECLINED',\n",
       "  'A_PARTLYSUBMITTED',\n",
       "  'A_SUBMITTED',\n",
       "  'No_Activity',\n",
       "  'No_Activity',\n",
       "  'No_Activity',\n",
       "  'No_Activity',\n",
       "  'No_Activity'],\n",
       " ['W_Afhandelen leads',\n",
       "  'W_Afhandelen leads',\n",
       "  'W_Afhandelen leads',\n",
       "  'W_Afhandelen leads',\n",
       "  'A_DECLINED',\n",
       "  'W_Afhandelen leads',\n",
       "  'No_Activity',\n",
       "  'No_Activity',\n",
       "  'No_Activity',\n",
       "  'No_Activity'])"
      ]
     },
     "execution_count": 40,
     "metadata": {},
     "output_type": "execute_result"
    }
   ],
   "source": [
    "# mapping the predictions to the original labels\n",
    "label_predictions = [le[int(i)] for i in test_outputs[2000]]\n",
    "label_actual = [le[int(i)] for i in suffixes_test_tensor[2000]]\n",
    "label_predictions, label_actual"
   ]
  },
  {
   "cell_type": "code",
   "execution_count": 41,
   "metadata": {},
   "outputs": [
    {
     "name": "stdout",
     "output_type": "stream",
     "text": [
      "3424\n"
     ]
    },
    {
     "data": {
      "text/plain": [
       "1"
      ]
     },
     "execution_count": 41,
     "metadata": {},
     "output_type": "execute_result"
    }
   ],
   "source": [
    "compute_levensthein_distance(['label_predictions'], ['label_actual'])"
   ]
  },
  {
   "cell_type": "code",
   "execution_count": 42,
   "metadata": {},
   "outputs": [],
   "source": [
    "# for i in range(len(test_outputs)):\n",
    "#     label_predictions = [le[int(i)] for i in test_outputs[i]]\n",
    "#     label_actual = [le[int(i)] for i in suffixes_test_tensor[i]]\n",
    "#     print(f'Predicted: {label_predictions}')\n",
    "#     print(f'Actual: {label_actual}')\n",
    "#     print(f'Levenshtein Distance: {compute_levensthein_distance(label_predictions, label_actual)}')\n",
    "#     print('-------------------------------------')"
   ]
  },
  {
   "cell_type": "code",
   "execution_count": 48,
   "metadata": {},
   "outputs": [
    {
     "data": {
      "text/plain": [
       "(91, 3)"
      ]
     },
     "execution_count": 48,
     "metadata": {},
     "output_type": "execute_result"
    }
   ],
   "source": [
    "# minn = 100\n",
    "# id = 0\n",
    "# for i in range(len(test_outputs)):\n",
    "#     label_predictions = [le[int(i)] for i in test_outputs[i]]\n",
    "#     label_actual = [le[int(i)] for i in suffixes_test_tensor[i]]\n",
    "#     distance = compute_levensthein_distance(label_predictions, label_actual)\n",
    "#     if distance < minn:\n",
    "#         minn = distance\n",
    "#         id = i\n",
    "# id, minn"
   ]
  },
  {
   "cell_type": "code",
   "execution_count": 47,
   "metadata": {},
   "outputs": [
    {
     "data": {
      "text/plain": [
       "4.990903577926016"
      ]
     },
     "execution_count": 47,
     "metadata": {},
     "output_type": "execute_result"
    }
   ],
   "source": [
    "sum = 0\n",
    "for i in range(len(test_outputs)):\n",
    "    label_predictions = [le[int(i)] for i in test_outputs[i]]\n",
    "    label_actual = [le[int(i)] for i in suffixes_test_tensor[i]]\n",
    "    sum += compute_levensthein_distance(label_predictions, label_actual)\n",
    "\n",
    "sum / len(test_outputs)"
   ]
  }
 ],
 "metadata": {
  "kernelspec": {
   "display_name": "Python 3",
   "language": "python",
   "name": "python3"
  },
  "language_info": {
   "codemirror_mode": {
    "name": "ipython",
    "version": 3
   },
   "file_extension": ".py",
   "mimetype": "text/x-python",
   "name": "python",
   "nbconvert_exporter": "python",
   "pygments_lexer": "ipython3",
   "version": "3.9.7"
  }
 },
 "nbformat": 4,
 "nbformat_minor": 2
}
