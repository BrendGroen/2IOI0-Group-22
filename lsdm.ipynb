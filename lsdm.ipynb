{
 "cells": [
  {
   "cell_type": "code",
   "execution_count": null,
   "metadata": {},
   "outputs": [],
   "source": [
    "import numpy as np\n",
    "import pandas as pd\n",
    "import torch\n",
    "import torch.nn as nn\n",
    "import torch.optim as optim\n",
    "from torch.utils.data import Dataset, DataLoader, TensorDataset\n",
    "from aux_functions import split_data\n",
    "from sklearn.preprocessing import LabelEncoder\n",
    "import torch.optim as optim\n",
    "import torch.nn as nn\n",
    "import torch\n",
    "import tqdm as tqdm\n",
    "from sklearn.decomposition import PCA"
   ]
  },
  {
   "cell_type": "code",
   "execution_count": null,
   "metadata": {},
   "outputs": [],
   "source": [
    "df = pd.read_csv('data/preprocessed/BPI_Challenge_2012.csv')"
   ]
  },
  {
   "cell_type": "code",
   "execution_count": null,
   "metadata": {},
   "outputs": [],
   "source": [
    "encoder = LabelEncoder()\n",
    "\n",
    "# Fit and transform the 'concept:name' column\n",
    "encoded_concept_names = encoder.fit_transform(df['concept:name'])\n",
    "# Adjusting labels to start from 1 instead of 0\n",
    "encoded_concept_names += 1\n",
    "\n",
    "# Fit and transform the 'next_concept:name' column\n",
    "encoded_next_concept_names = encoder.fit_transform(df['next_concept:name'])\n",
    "# Adjusting labels to start from 1 instead of 0\n",
    "encoded_next_concept_names += 1\n",
    "\n",
    "# Assign the encoded values back to the DataFrame\n",
    "df['int:concept:name'] = encoded_concept_names\n",
    "df['int:next_concept:name'] = encoded_next_concept_names"
   ]
  },
  {
   "cell_type": "code",
   "execution_count": null,
   "metadata": {},
   "outputs": [],
   "source": [
    "df.head()"
   ]
  },
  {
   "cell_type": "code",
   "execution_count": null,
   "metadata": {},
   "outputs": [],
   "source": [
    "columns_to_keep = ['int:concept:name', 'case:concept:name', 'position','int:next_concept:name']\n",
    "df = df[columns_to_keep]\n",
    "df.head()"
   ]
  },
  {
   "cell_type": "code",
   "execution_count": null,
   "metadata": {},
   "outputs": [],
   "source": [
    "train, test = split_data(df, 0.2)"
   ]
  },
  {
   "cell_type": "code",
   "execution_count": null,
   "metadata": {},
   "outputs": [],
   "source": [
    "train.head()"
   ]
  },
  {
   "cell_type": "code",
   "execution_count": null,
   "metadata": {},
   "outputs": [],
   "source": [
    "# Generating all the possible prefixes and suffixes of different length in the train set\n",
    "prefixes = []\n",
    "suffixes = []\n",
    "for case in train['case:concept:name'].unique():\n",
    "    case_df = train[train['case:concept:name'] == case]\n",
    "    for i in range(1, len(case_df)):\n",
    "        prefixes.append(case_df.iloc[:i].values)\n",
    "        suffixes.append(list(case_df.iloc[i:]['int:concept:name'].values))"
   ]
  },
  {
   "cell_type": "code",
   "execution_count": null,
   "metadata": {},
   "outputs": [],
   "source": [
    "# Generating all the possible prefixes and suffixes of different length in the test set\n",
    "prefixes_test = []\n",
    "suffixes_test = []\n",
    "for case in test['case:concept:name'].unique():\n",
    "    case_df = test[test['case:concept:name'] == case]\n",
    "    for i in range(1, len(case_df)):\n",
    "        prefixes_test.append(case_df.iloc[:i].values)\n",
    "        suffixes_test.append(list(case_df.iloc[i:]['int:concept:name'].values))"
   ]
  },
  {
   "cell_type": "code",
   "execution_count": null,
   "metadata": {},
   "outputs": [],
   "source": [
    "# Add padding to the prefix nd suffix to make every sequence of the same length (the length of the longest sequence) TRAIN\n",
    "# We add the padding before the sequence in prefixes and after the sequence in suffixes\n",
    "max_length = df['case:concept:name'].value_counts().max()\n",
    "padding_dim = len(prefixes[0][0])\n",
    "for i in range(len(prefixes)):\n",
    "    padding_prefix = np.zeros((max_length - len(prefixes[i]), padding_dim))\n",
    "    padding_suffix = [0] * (max_length - len(suffixes[i]))\n",
    "    prefixes[i] = np.concatenate([padding_prefix, prefixes[i]], axis=0)\n",
    "    suffixes[i] = np.concatenate([suffixes[i], padding_suffix], axis=0)"
   ]
  },
  {
   "cell_type": "code",
   "execution_count": null,
   "metadata": {},
   "outputs": [],
   "source": [
    "# Add padding to the prefix nd suffix to make every sequence of the same length (the length of the longest sequence) TEST\n",
    "# We add the padding before the sequence in prefixes and after the sequence in suffixes\n",
    "max_length = df['case:concept:name'].value_counts().max()\n",
    "padding_dim = len(prefixes_test[0][0])\n",
    "for i in range(len(prefixes_test)):\n",
    "    padding_prefix = np.zeros((max_length - len(prefixes_test[i]), padding_dim))\n",
    "    padding_suffix = [0] * (max_length - len(suffixes_test[i]))\n",
    "    prefixes_test[i] = np.concatenate([padding_prefix, prefixes_test[i]], axis=0)\n",
    "    suffixes_test[i] = np.concatenate([suffixes_test[i], padding_suffix], axis=0)"
   ]
  },
  {
   "cell_type": "code",
   "execution_count": null,
   "metadata": {},
   "outputs": [],
   "source": [
    "class LSDM(nn.Module):\n",
    "    def __init__(self, input_dim, hidden_dim, output_dim):\n",
    "        super(LSDM, self).__init__()\n",
    "        self.lstm = nn.LSTM(input_dim, hidden_dim, batch_first=True)\n",
    "        self.fc = nn.Linear(hidden_dim, output_dim)\n",
    "        \n",
    "    def forward(self, x):\n",
    "        _, (h_n, _) = self.lstm(x)\n",
    "        out = self.fc(h_n.squeeze(0))\n",
    "        return out"
   ]
  },
  {
   "cell_type": "code",
   "execution_count": null,
   "metadata": {},
   "outputs": [],
   "source": [
    "# Define the dimensions\n",
    "input_dim = len(prefixes[0][0])  \n",
    "hidden_dim = 64  \n",
    "output_dim = len(suffixes[0])  "
   ]
  },
  {
   "cell_type": "code",
   "execution_count": null,
   "metadata": {},
   "outputs": [],
   "source": [
    "# Initialize the model\n",
    "model = LSDM(input_dim, hidden_dim, output_dim)"
   ]
  },
  {
   "cell_type": "code",
   "execution_count": null,
   "metadata": {},
   "outputs": [],
   "source": [
    "prefixes_array = np.array(prefixes, dtype=np.float32)"
   ]
  },
  {
   "cell_type": "code",
   "execution_count": null,
   "metadata": {},
   "outputs": [],
   "source": [
    "# Convert data to PyTorch tensors\n",
    "prefixes_tensor = torch.tensor(prefixes, dtype=torch.float32)\n",
    "suffixes_tensor = torch.tensor(suffixes, dtype=torch.float32)"
   ]
  },
  {
   "cell_type": "code",
   "execution_count": null,
   "metadata": {},
   "outputs": [],
   "source": [
    "# Define loss function and optimizer\n",
    "criterion = nn.MSELoss()\n",
    "optimizer = optim.Adam(model.parameters(), lr=0.001)"
   ]
  },
  {
   "cell_type": "code",
   "execution_count": null,
   "metadata": {},
   "outputs": [],
   "source": [
    "# Train the model\n",
    "num_epochs = 10  \n",
    "for epoch in range(num_epochs):\n",
    "    model.train()\n",
    "    optimizer.zero_grad()\n",
    "    outputs = model(prefixes_tensor)\n",
    "    loss = criterion(outputs, suffixes_tensor)\n",
    "    loss.backward()\n",
    "    optimizer.step()\n",
    "    \n",
    "    # Update the progress bar\n",
    "    print(f'Epoch [{epoch+1}/{num_epochs}], Loss: {loss.item():.4f}')"
   ]
  }
 ],
 "metadata": {
  "kernelspec": {
   "display_name": "Python 3",
   "language": "python",
   "name": "python3"
  },
  "language_info": {
   "codemirror_mode": {
    "name": "ipython",
    "version": 3
   },
   "file_extension": ".py",
   "mimetype": "text/x-python",
   "name": "python",
   "nbconvert_exporter": "python",
   "pygments_lexer": "ipython3",
   "version": "3.9.7"
  }
 },
 "nbformat": 4,
 "nbformat_minor": 2
}
