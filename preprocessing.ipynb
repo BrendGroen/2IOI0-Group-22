{
 "cells": [
  {
   "cell_type": "markdown",
   "metadata": {},
   "source": [
    "This Jupyter notebook processes log data, adding the position of the current process, activity, and timestamp of the next process based on position. Finally, it saves the dataframe into a CSV format for further steps."
   ]
  },
  {
   "cell_type": "markdown",
   "metadata": {},
   "source": [
    "### Importing libraries"
   ]
  },
  {
   "cell_type": "code",
   "execution_count": null,
   "metadata": {},
   "outputs": [],
   "source": [
    "import pandas as pd\n",
    "import numpy as np\n",
    "import pm4py\n",
    "import os"
   ]
  },
  {
   "cell_type": "markdown",
   "metadata": {},
   "source": [
    "### Processing the file"
   ]
  },
  {
   "cell_type": "code",
   "execution_count": null,
   "metadata": {},
   "outputs": [],
   "source": [
    "# Change the path to your desired file path\n",
    "unprocessed_file_path = \"data/extracted/BPI_Challenge_2012.xes\"\n",
    "log = pm4py.read_xes(unprocessed_file_path)\n",
    "df = pm4py.convert_to_dataframe(log)\n",
    "df.head()"
   ]
  },
  {
   "cell_type": "code",
   "execution_count": null,
   "metadata": {},
   "outputs": [],
   "source": [
    "# Turning the time:timestamp into a datetime object\n",
    "with_nanosec = pd.to_datetime(df['time:timestamp'], errors='coerce', format='%Y-%m-%d %H:%M:%S.%f%z')\n",
    "without_nanosec = pd.to_datetime(df['time:timestamp'], errors='coerce', format='%Y-%m-%d %H:%M:%S%z')\n",
    "df['time:timestamp'] = with_nanosec.fillna(without_nanosec)"
   ]
  },
  {
   "cell_type": "code",
   "execution_count": null,
   "metadata": {},
   "outputs": [],
   "source": [
    "# Sorting on time:timestamp\n",
    "df = df.sort_values('time:timestamp')"
   ]
  },
  {
   "cell_type": "code",
   "execution_count": null,
   "metadata": {},
   "outputs": [],
   "source": [
    "# Restarting the index\n",
    "df = df.reset_index(drop=True)"
   ]
  },
  {
   "cell_type": "markdown",
   "metadata": {},
   "source": [
    "### Adding the necessary columns"
   ]
  },
  {
   "cell_type": "code",
   "execution_count": null,
   "metadata": {},
   "outputs": [],
   "source": [
    "# Adding position to the dataframe\n",
    "df['position'] = df.groupby('case:concept:name').cumcount() + 1\n",
    "    \n",
    "# Adding the next activity(concept:name) to the dataframe and if the next activity is not available, then it will be fill in with No_Activity\n",
    "df['next_concept:name'] = df.groupby('case:concept:name')['concept:name'].shift(-1).fillna('No_Activity')\n",
    "\n",
    "# Adding the next timestame to the dataframe and if the next timestamp is not available, then it will be fill in with the Null\n",
    "df['next_timestamp'] = df.groupby('case:concept:name')['time:timestamp'].shift(-1).fillna(np.nan)"
   ]
  },
  {
   "cell_type": "code",
   "execution_count": null,
   "metadata": {},
   "outputs": [],
   "source": [
    "# An example case to check the position and next_activity\n",
    "df[df['case:concept:name'] == '173688']"
   ]
  },
  {
   "cell_type": "markdown",
   "metadata": {},
   "source": [
    "### Saving the csv file"
   ]
  },
  {
   "cell_type": "code",
   "execution_count": null,
   "metadata": {},
   "outputs": [],
   "source": [
    "save_path = 'data/preprocessed/'\n",
    "if not os.path.exists(save_path):\n",
    "    os.makedirs(save_path)\n",
    "    print(f\"Directory {save_path} created.\")"
   ]
  },
  {
   "cell_type": "code",
   "execution_count": null,
   "metadata": {},
   "outputs": [],
   "source": [
    "# Change the file name to your desired file name\n",
    "file_name = 'BPI_Challenge_2012.csv'\n",
    "\n",
    "# Saving the dataframe to a csv file\n",
    "df.to_csv(save_path+file_name, index=False)"
   ]
  }
 ],
 "metadata": {
  "kernelspec": {
   "display_name": "Python 3",
   "language": "python",
   "name": "python3"
  },
  "language_info": {
   "codemirror_mode": {
    "name": "ipython",
    "version": 3
   },
   "file_extension": ".py",
   "mimetype": "text/x-python",
   "name": "python",
   "nbconvert_exporter": "python",
   "pygments_lexer": "ipython3",
   "version": "3.9.7"
  }
 },
 "nbformat": 4,
 "nbformat_minor": 2
}
