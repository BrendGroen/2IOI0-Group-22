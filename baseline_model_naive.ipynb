{
 "cells": [
  {
   "cell_type": "markdown",
   "metadata": {},
   "source": [
    "# Importing Libraries"
   ]
  },
  {
   "cell_type": "code",
   "execution_count": null,
   "metadata": {},
   "outputs": [],
   "source": [
    "import pandas as pd\n",
    "import numpy as np\n",
    "import matplotlib.pyplot as plt"
   ]
  },
  {
   "cell_type": "markdown",
   "metadata": {},
   "source": [
    "# Loading Data"
   ]
  },
  {
   "cell_type": "code",
   "execution_count": 2,
   "metadata": {},
   "outputs": [
    {
     "data": {
      "text/html": [
       "<div>\n",
       "<style scoped>\n",
       "    .dataframe tbody tr th:only-of-type {\n",
       "        vertical-align: middle;\n",
       "    }\n",
       "\n",
       "    .dataframe tbody tr th {\n",
       "        vertical-align: top;\n",
       "    }\n",
       "\n",
       "    .dataframe thead th {\n",
       "        text-align: right;\n",
       "    }\n",
       "</style>\n",
       "<table border=\"1\" class=\"dataframe\">\n",
       "  <thead>\n",
       "    <tr style=\"text-align: right;\">\n",
       "      <th></th>\n",
       "      <th>org:resource</th>\n",
       "      <th>concept:name</th>\n",
       "      <th>time:timestamp</th>\n",
       "      <th>case:concept:name</th>\n",
       "      <th>concept:name_eng</th>\n",
       "      <th>position</th>\n",
       "      <th>next_activity</th>\n",
       "    </tr>\n",
       "  </thead>\n",
       "  <tbody>\n",
       "    <tr>\n",
       "      <th>0</th>\n",
       "      <td>112.0</td>\n",
       "      <td>A_SUBMITTED</td>\n",
       "      <td>2011-10-01 00:38:44.546000+00:00</td>\n",
       "      <td>173688</td>\n",
       "      <td>A_SUBMITTED</td>\n",
       "      <td>1</td>\n",
       "      <td>A_PARTLYSUBMITTED</td>\n",
       "    </tr>\n",
       "    <tr>\n",
       "      <th>1</th>\n",
       "      <td>112.0</td>\n",
       "      <td>A_PARTLYSUBMITTED</td>\n",
       "      <td>2011-10-01 00:38:44.880000+00:00</td>\n",
       "      <td>173688</td>\n",
       "      <td>A_PARTLYSUBMITTED</td>\n",
       "      <td>2</td>\n",
       "      <td>A_PREACCEPTED</td>\n",
       "    </tr>\n",
       "    <tr>\n",
       "      <th>2</th>\n",
       "      <td>112.0</td>\n",
       "      <td>A_PREACCEPTED</td>\n",
       "      <td>2011-10-01 00:39:37.906000+00:00</td>\n",
       "      <td>173688</td>\n",
       "      <td>A_PREACCEPTED</td>\n",
       "      <td>3</td>\n",
       "      <td>W_Completeren aanvraag</td>\n",
       "    </tr>\n",
       "    <tr>\n",
       "      <th>3</th>\n",
       "      <td>112.0</td>\n",
       "      <td>W_Completeren aanvraag</td>\n",
       "      <td>2011-10-01 00:39:38.875000+00:00</td>\n",
       "      <td>173688</td>\n",
       "      <td>W_Complete request</td>\n",
       "      <td>4</td>\n",
       "      <td>W_Completeren aanvraag</td>\n",
       "    </tr>\n",
       "    <tr>\n",
       "      <th>4</th>\n",
       "      <td>NaN</td>\n",
       "      <td>W_Completeren aanvraag</td>\n",
       "      <td>2011-10-01 11:36:46.437000+00:00</td>\n",
       "      <td>173688</td>\n",
       "      <td>W_Complete request</td>\n",
       "      <td>5</td>\n",
       "      <td>A_ACCEPTED</td>\n",
       "    </tr>\n",
       "    <tr>\n",
       "      <th>5</th>\n",
       "      <td>10862.0</td>\n",
       "      <td>A_ACCEPTED</td>\n",
       "      <td>2011-10-01 11:42:43.308000+00:00</td>\n",
       "      <td>173688</td>\n",
       "      <td>A_ACCEPTED</td>\n",
       "      <td>6</td>\n",
       "      <td>O_SELECTED</td>\n",
       "    </tr>\n",
       "    <tr>\n",
       "      <th>6</th>\n",
       "      <td>10862.0</td>\n",
       "      <td>O_SELECTED</td>\n",
       "      <td>2011-10-01 11:45:09.243000+00:00</td>\n",
       "      <td>173688</td>\n",
       "      <td>O_SELECTED</td>\n",
       "      <td>7</td>\n",
       "      <td>A_FINALIZED</td>\n",
       "    </tr>\n",
       "    <tr>\n",
       "      <th>7</th>\n",
       "      <td>10862.0</td>\n",
       "      <td>A_FINALIZED</td>\n",
       "      <td>2011-10-01 11:45:09.243000+00:00</td>\n",
       "      <td>173688</td>\n",
       "      <td>A_FINALIZED</td>\n",
       "      <td>8</td>\n",
       "      <td>O_CREATED</td>\n",
       "    </tr>\n",
       "    <tr>\n",
       "      <th>8</th>\n",
       "      <td>10862.0</td>\n",
       "      <td>O_CREATED</td>\n",
       "      <td>2011-10-01 11:45:11.197000+00:00</td>\n",
       "      <td>173688</td>\n",
       "      <td>O_CREATED</td>\n",
       "      <td>9</td>\n",
       "      <td>O_SENT</td>\n",
       "    </tr>\n",
       "    <tr>\n",
       "      <th>9</th>\n",
       "      <td>10862.0</td>\n",
       "      <td>O_SENT</td>\n",
       "      <td>2011-10-01 11:45:11.380000+00:00</td>\n",
       "      <td>173688</td>\n",
       "      <td>O_SENT</td>\n",
       "      <td>10</td>\n",
       "      <td>W_Nabellen offertes</td>\n",
       "    </tr>\n",
       "  </tbody>\n",
       "</table>\n",
       "</div>"
      ],
      "text/plain": [
       "   org:resource            concept:name                    time:timestamp   \n",
       "0         112.0             A_SUBMITTED  2011-10-01 00:38:44.546000+00:00  \\\n",
       "1         112.0       A_PARTLYSUBMITTED  2011-10-01 00:38:44.880000+00:00   \n",
       "2         112.0           A_PREACCEPTED  2011-10-01 00:39:37.906000+00:00   \n",
       "3         112.0  W_Completeren aanvraag  2011-10-01 00:39:38.875000+00:00   \n",
       "4           NaN  W_Completeren aanvraag  2011-10-01 11:36:46.437000+00:00   \n",
       "5       10862.0              A_ACCEPTED  2011-10-01 11:42:43.308000+00:00   \n",
       "6       10862.0              O_SELECTED  2011-10-01 11:45:09.243000+00:00   \n",
       "7       10862.0             A_FINALIZED  2011-10-01 11:45:09.243000+00:00   \n",
       "8       10862.0               O_CREATED  2011-10-01 11:45:11.197000+00:00   \n",
       "9       10862.0                  O_SENT  2011-10-01 11:45:11.380000+00:00   \n",
       "\n",
       "   case:concept:name    concept:name_eng  position           next_activity  \n",
       "0             173688         A_SUBMITTED         1       A_PARTLYSUBMITTED  \n",
       "1             173688   A_PARTLYSUBMITTED         2           A_PREACCEPTED  \n",
       "2             173688       A_PREACCEPTED         3  W_Completeren aanvraag  \n",
       "3             173688  W_Complete request         4  W_Completeren aanvraag  \n",
       "4             173688  W_Complete request         5              A_ACCEPTED  \n",
       "5             173688          A_ACCEPTED         6              O_SELECTED  \n",
       "6             173688          O_SELECTED         7             A_FINALIZED  \n",
       "7             173688         A_FINALIZED         8               O_CREATED  \n",
       "8             173688           O_CREATED         9                  O_SENT  \n",
       "9             173688              O_SENT        10     W_Nabellen offertes  "
      ]
     },
     "execution_count": 2,
     "metadata": {},
     "output_type": "execute_result"
    }
   ],
   "source": [
    "df = pd.read_csv('baseline_df.csv')\n",
    "df.head(10)"
   ]
  },
  {
   "cell_type": "markdown",
   "metadata": {},
   "source": [
    "# Assigning the most frequent next event in each position"
   ]
  },
  {
   "cell_type": "code",
   "execution_count": 3,
   "metadata": {},
   "outputs": [],
   "source": [
    "# Finidng the most frequent next activity for each position\n",
    "position_dict = {}\n",
    "for j in range(1, 176):\n",
    "    dic = {}\n",
    "    for i in (df[df['position'] == j]).index:\n",
    "        if df['next_activity'][i] in dic:\n",
    "            dic[df['next_activity'][i]] += 1\n",
    "        else:\n",
    "            dic[df['next_activity'][i]] = 1\n",
    "    \n",
    "    position_dict[j] = max(dic, key=dic.get)"
   ]
  },
  {
   "cell_type": "code",
   "execution_count": 4,
   "metadata": {},
   "outputs": [],
   "source": [
    "# Iterating through the dataframe and map the values of position_dict to the column predicted_next_activity with lambda\n",
    "df['predicted_next_activity'] = df['position'].map(lambda x: position_dict[x])"
   ]
  },
  {
   "cell_type": "markdown",
   "metadata": {},
   "source": [
    "# Assigning the timestamp for each position"
   ]
  }
 ],
 "metadata": {
  "kernelspec": {
   "display_name": "Python 3",
   "language": "python",
   "name": "python3"
  },
  "language_info": {
   "codemirror_mode": {
    "name": "ipython",
    "version": 3
   },
   "file_extension": ".py",
   "mimetype": "text/x-python",
   "name": "python",
   "nbconvert_exporter": "python",
   "pygments_lexer": "ipython3",
   "version": "3.9.7"
  }
 },
 "nbformat": 4,
 "nbformat_minor": 2
}
