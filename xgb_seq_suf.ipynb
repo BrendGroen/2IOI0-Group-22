{
 "cells": [
  {
   "cell_type": "markdown",
   "metadata": {},
   "source": [
    "In this file we train a XGboost model on our data on the BPI_Challenge_2012 dataset"
   ]
  },
  {
   "cell_type": "markdown",
   "metadata": {},
   "source": [
    "### Importing the libraries"
   ]
  },
  {
   "cell_type": "code",
   "execution_count": 1,
   "metadata": {},
   "outputs": [],
   "source": [
    "import xgboost as xgb\n",
    "import pandas as pd\n",
    "from aux_functions import split_data\n",
    "from sklearn.metrics import f1_score, precision_score, recall_score, accuracy_score\n",
    "from sklearn.metrics import classification_report\n",
    "import matplotlib.pyplot as plt"
   ]
  },
  {
   "cell_type": "markdown",
   "metadata": {},
   "source": [
    "### Loading the data"
   ]
  },
  {
   "cell_type": "code",
   "execution_count": 2,
   "metadata": {},
   "outputs": [
    {
     "data": {
      "text/html": [
       "<div>\n",
       "<style scoped>\n",
       "    .dataframe tbody tr th:only-of-type {\n",
       "        vertical-align: middle;\n",
       "    }\n",
       "\n",
       "    .dataframe tbody tr th {\n",
       "        vertical-align: top;\n",
       "    }\n",
       "\n",
       "    .dataframe thead th {\n",
       "        text-align: right;\n",
       "    }\n",
       "</style>\n",
       "<table border=\"1\" class=\"dataframe\">\n",
       "  <thead>\n",
       "    <tr style=\"text-align: right;\">\n",
       "      <th></th>\n",
       "      <th>org:resource</th>\n",
       "      <th>lifecycle:transition</th>\n",
       "      <th>concept:name</th>\n",
       "      <th>time:timestamp</th>\n",
       "      <th>case:REG_DATE</th>\n",
       "      <th>case:concept:name</th>\n",
       "      <th>case:AMOUNT_REQ</th>\n",
       "      <th>position</th>\n",
       "      <th>next_concept:name</th>\n",
       "      <th>next_timestamp</th>\n",
       "    </tr>\n",
       "  </thead>\n",
       "  <tbody>\n",
       "    <tr>\n",
       "      <th>0</th>\n",
       "      <td>112.0</td>\n",
       "      <td>COMPLETE</td>\n",
       "      <td>A_SUBMITTED</td>\n",
       "      <td>2011-10-01 00:38:44.546000+00:00</td>\n",
       "      <td>2011-10-01 00:38:44.546000+00:00</td>\n",
       "      <td>173688</td>\n",
       "      <td>20000</td>\n",
       "      <td>1</td>\n",
       "      <td>A_PARTLYSUBMITTED</td>\n",
       "      <td>2011-10-01 00:38:44.880000+00:00</td>\n",
       "    </tr>\n",
       "    <tr>\n",
       "      <th>1</th>\n",
       "      <td>112.0</td>\n",
       "      <td>COMPLETE</td>\n",
       "      <td>A_PARTLYSUBMITTED</td>\n",
       "      <td>2011-10-01 00:38:44.880000+00:00</td>\n",
       "      <td>2011-10-01 00:38:44.546000+00:00</td>\n",
       "      <td>173688</td>\n",
       "      <td>20000</td>\n",
       "      <td>2</td>\n",
       "      <td>A_PREACCEPTED</td>\n",
       "      <td>2011-10-01 00:39:37.906000+00:00</td>\n",
       "    </tr>\n",
       "    <tr>\n",
       "      <th>2</th>\n",
       "      <td>112.0</td>\n",
       "      <td>COMPLETE</td>\n",
       "      <td>A_PREACCEPTED</td>\n",
       "      <td>2011-10-01 00:39:37.906000+00:00</td>\n",
       "      <td>2011-10-01 00:38:44.546000+00:00</td>\n",
       "      <td>173688</td>\n",
       "      <td>20000</td>\n",
       "      <td>3</td>\n",
       "      <td>W_Completeren aanvraag</td>\n",
       "      <td>2011-10-01 00:39:38.875000+00:00</td>\n",
       "    </tr>\n",
       "    <tr>\n",
       "      <th>3</th>\n",
       "      <td>112.0</td>\n",
       "      <td>SCHEDULE</td>\n",
       "      <td>W_Completeren aanvraag</td>\n",
       "      <td>2011-10-01 00:39:38.875000+00:00</td>\n",
       "      <td>2011-10-01 00:38:44.546000+00:00</td>\n",
       "      <td>173688</td>\n",
       "      <td>20000</td>\n",
       "      <td>4</td>\n",
       "      <td>W_Completeren aanvraag</td>\n",
       "      <td>2011-10-01 11:36:46.437000+00:00</td>\n",
       "    </tr>\n",
       "    <tr>\n",
       "      <th>4</th>\n",
       "      <td>112.0</td>\n",
       "      <td>COMPLETE</td>\n",
       "      <td>A_SUBMITTED</td>\n",
       "      <td>2011-10-01 08:08:58.256000+00:00</td>\n",
       "      <td>2011-10-01 08:08:58.256000+00:00</td>\n",
       "      <td>173691</td>\n",
       "      <td>5000</td>\n",
       "      <td>1</td>\n",
       "      <td>A_PARTLYSUBMITTED</td>\n",
       "      <td>2011-10-01 08:09:02.195000+00:00</td>\n",
       "    </tr>\n",
       "  </tbody>\n",
       "</table>\n",
       "</div>"
      ],
      "text/plain": [
       "   org:resource lifecycle:transition            concept:name  \\\n",
       "0         112.0             COMPLETE             A_SUBMITTED   \n",
       "1         112.0             COMPLETE       A_PARTLYSUBMITTED   \n",
       "2         112.0             COMPLETE           A_PREACCEPTED   \n",
       "3         112.0             SCHEDULE  W_Completeren aanvraag   \n",
       "4         112.0             COMPLETE             A_SUBMITTED   \n",
       "\n",
       "                     time:timestamp                     case:REG_DATE  \\\n",
       "0  2011-10-01 00:38:44.546000+00:00  2011-10-01 00:38:44.546000+00:00   \n",
       "1  2011-10-01 00:38:44.880000+00:00  2011-10-01 00:38:44.546000+00:00   \n",
       "2  2011-10-01 00:39:37.906000+00:00  2011-10-01 00:38:44.546000+00:00   \n",
       "3  2011-10-01 00:39:38.875000+00:00  2011-10-01 00:38:44.546000+00:00   \n",
       "4  2011-10-01 08:08:58.256000+00:00  2011-10-01 08:08:58.256000+00:00   \n",
       "\n",
       "   case:concept:name  case:AMOUNT_REQ  position       next_concept:name  \\\n",
       "0             173688            20000         1       A_PARTLYSUBMITTED   \n",
       "1             173688            20000         2           A_PREACCEPTED   \n",
       "2             173688            20000         3  W_Completeren aanvraag   \n",
       "3             173688            20000         4  W_Completeren aanvraag   \n",
       "4             173691             5000         1       A_PARTLYSUBMITTED   \n",
       "\n",
       "                     next_timestamp  \n",
       "0  2011-10-01 00:38:44.880000+00:00  \n",
       "1  2011-10-01 00:39:37.906000+00:00  \n",
       "2  2011-10-01 00:39:38.875000+00:00  \n",
       "3  2011-10-01 11:36:46.437000+00:00  \n",
       "4  2011-10-01 08:09:02.195000+00:00  "
      ]
     },
     "execution_count": 2,
     "metadata": {},
     "output_type": "execute_result"
    }
   ],
   "source": [
    "df = pd.read_csv('data/preprocessed/BPI_Challenge_2012.csv')\n",
    "df.head()"
   ]
  },
  {
   "cell_type": "markdown",
   "metadata": {},
   "source": [
    "### Specifying the columns"
   ]
  },
  {
   "cell_type": "code",
   "execution_count": 3,
   "metadata": {},
   "outputs": [],
   "source": [
    "# Defining what category each column fall into\n",
    "dropping_columns = ['time:timestamp', 'case:REG_DATE', 'case:concept:name', 'next_timestamp', 'org:resource', 'case:AMOUNT_REQ','lifecycle:transition']\n",
    "numerical_columns = ['position']\n",
    "categorical_columns = ['concept:name']\n",
    "target_column = 'next_concept:name'"
   ]
  },
  {
   "cell_type": "markdown",
   "metadata": {},
   "source": [
    "### Feature engineering"
   ]
  },
  {
   "cell_type": "code",
   "execution_count": 4,
   "metadata": {},
   "outputs": [
    {
     "data": {
      "text/plain": [
       "['concept:name_A_ACCEPTED',\n",
       " 'concept:name_A_ACTIVATED',\n",
       " 'concept:name_A_APPROVED',\n",
       " 'concept:name_A_CANCELLED',\n",
       " 'concept:name_A_DECLINED',\n",
       " 'concept:name_A_FINALIZED',\n",
       " 'concept:name_A_PARTLYSUBMITTED',\n",
       " 'concept:name_A_PREACCEPTED',\n",
       " 'concept:name_A_REGISTERED',\n",
       " 'concept:name_A_SUBMITTED',\n",
       " 'concept:name_O_ACCEPTED',\n",
       " 'concept:name_O_CANCELLED',\n",
       " 'concept:name_O_CREATED',\n",
       " 'concept:name_O_DECLINED',\n",
       " 'concept:name_O_SELECTED',\n",
       " 'concept:name_O_SENT',\n",
       " 'concept:name_O_SENT_BACK',\n",
       " 'concept:name_W_Afhandelen leads',\n",
       " 'concept:name_W_Beoordelen fraude',\n",
       " 'concept:name_W_Completeren aanvraag',\n",
       " 'concept:name_W_Nabellen incomplete dossiers',\n",
       " 'concept:name_W_Nabellen offertes',\n",
       " 'concept:name_W_Valideren aanvraag',\n",
       " 'concept:name_W_Wijzigen contractgegevens']"
      ]
     },
     "execution_count": 4,
     "metadata": {},
     "output_type": "execute_result"
    }
   ],
   "source": [
    "# Convert the target column to category\n",
    "original_target = df[target_column].copy()\n",
    "df[target_column] = df[target_column].astype('category')\n",
    "df[target_column] = df[target_column].cat.codes\n",
    "\n",
    "# One-hot encoding of the categorical columns \n",
    "df = pd.get_dummies(df, columns=categorical_columns)\n",
    "\n",
    "# Columns that were one_hot_encoded\n",
    "one_hot_encoded_columns = [col for col in df.columns if (col not in numerical_columns) and (col != target_column) and (col not in dropping_columns)]"
   ]
  },
  {
   "cell_type": "markdown",
   "metadata": {},
   "source": [
    "### Splitting the dataset into train and test dataframes"
   ]
  },
  {
   "cell_type": "code",
   "execution_count": 5,
   "metadata": {},
   "outputs": [
    {
     "name": "stdout",
     "output_type": "stream",
     "text": [
      "Original size: 262200\n",
      "Train size: 186785\n",
      "Test size: 37781\n",
      "Ratio: 0.8317599280389729\n",
      "Dropped cases in both sets: 888\n",
      "Dropped rows from dataset: 37634\n"
     ]
    }
   ],
   "source": [
    "# Splitting the data\n",
    "train_df, test_df = split_data(df, ratio=0.8, report=True)\n",
    "X_train = train_df[numerical_columns + one_hot_encoded_columns]\n",
    "y_train = train_df[target_column]\n",
    "X_test = test_df[numerical_columns + one_hot_encoded_columns]\n",
    "y_test = test_df[target_column]\n",
    "\n",
    "# Getting the feature types for xgboost\n",
    "ft = ['q' if feature in numerical_columns else 'c' for feature in X_train.columns]"
   ]
  },
  {
   "cell_type": "markdown",
   "metadata": {},
   "source": [
    "### Training the model"
   ]
  },
  {
   "cell_type": "code",
   "execution_count": 6,
   "metadata": {},
   "outputs": [],
   "source": [
    "# Create DMatrix for training and testing\n",
    "train_dmatrix = xgb.DMatrix(X_train, y_train, feature_types=ft, enable_categorical=True)\n",
    "test_dmatrix = xgb.DMatrix(data=X_test, label=y_test, feature_types=ft, enable_categorical=True)"
   ]
  },
  {
   "cell_type": "code",
   "execution_count": 7,
   "metadata": {},
   "outputs": [],
   "source": [
    "# Create XGBoost parameters\n",
    "params = {\n",
    "    'eta': 0.3,  # the training step for each iteration\n",
    "    'objective': 'multi:softmax',  # for multi-class classification\n",
    "    'num_class': len(df[target_column].unique()),  # number of classes\n",
    "    'eval_metric': 'merror' # evaluation metric\n",
    "}"
   ]
  },
  {
   "cell_type": "code",
   "execution_count": 8,
   "metadata": {},
   "outputs": [],
   "source": [
    "# Train the XGBoost model\n",
    "xgb_model = xgb.train(params, train_dmatrix, num_boost_round=10)"
   ]
  },
  {
   "cell_type": "markdown",
   "metadata": {},
   "source": [
    "### Predicting the result and Evaluation"
   ]
  },
  {
   "cell_type": "code",
   "execution_count": 9,
   "metadata": {},
   "outputs": [],
   "source": [
    "# Evaluate the model\n",
    "predictions = xgb_model.predict(test_dmatrix)"
   ]
  },
  {
   "cell_type": "code",
   "execution_count": 11,
   "metadata": {},
   "outputs": [],
   "source": [
    "#take test data\n",
    "#[] [] [] [] ([]) ---> (next)\n",
    "#output is array of precesses --> compare with actual\n",
    "#input: array of preffix processes (only uses last)\n",
    "#\n",
    "#turn into one hot encoding\n",
    "#write for loop when sequence, every process in sequence do one hot and predict next"
   ]
  },
  {
   "cell_type": "code",
   "execution_count": 95,
   "metadata": {},
   "outputs": [],
   "source": [
    "# find the mapping with the orginal_target and encoded one\n",
    "mapping = dict(zip(df[target_column], original_target))"
   ]
  },
  {
   "cell_type": "code",
   "execution_count": 94,
   "metadata": {},
   "outputs": [],
   "source": [
    "def predict_first(X_test, last_event_array_position, ft):\n",
    "    single_instance = X_test.iloc[last_event_array_position]\n",
    "    single_instance = single_instance.values.reshape(1, -1)\n",
    "    single_instance_dmatrix = xgb.DMatrix(data=single_instance, feature_names=list(X_test.columns), feature_types=ft, enable_categorical=True)\n",
    "    single_instance_prediction = xgb_model.predict(single_instance_dmatrix)\n",
    "    return single_instance_prediction"
   ]
  },
  {
   "cell_type": "code",
   "execution_count": 93,
   "metadata": {},
   "outputs": [
    {
     "name": "stdout",
     "output_type": "stream",
     "text": [
      "3\n"
     ]
    }
   ],
   "source": [
    "def get_first_position(X_test, last_event_array_position):\n",
    "    single_instance = X_test.iloc[last_event_array_position]\n",
    "    position = int(single_instance.iloc[0])\n",
    "    return position\n",
    "\n",
    "print(get_first_position(X_test, 45))"
   ]
  },
  {
   "cell_type": "code",
   "execution_count": 92,
   "metadata": {},
   "outputs": [],
   "source": [
    "def add_dummy_columns(df, column_names):\n",
    "    # Remove column names that already exist in the DataFrame\n",
    "    column_names = [col for col in column_names if col not in df.columns]\n",
    "    \n",
    "    # Create a DataFrame with zeros for only the new columns\n",
    "    dummy_df = pd.DataFrame(0, index=df.index, columns=column_names)\n",
    "    \n",
    "    # Concatenate the original DataFrame and the dummy DataFrame\n",
    "    new_df = pd.concat([df, dummy_df], axis=1)\n",
    "    \n",
    "    # Update values from the original DataFrame\n",
    "    for col in df.columns.intersection(column_names):\n",
    "        new_df[col] = df[col]\n",
    "    \n",
    "    return new_df"
   ]
  },
  {
   "cell_type": "code",
   "execution_count": 91,
   "metadata": {},
   "outputs": [],
   "source": [
    "#takes prediction and makes it into one hot encoded df\n",
    "def format_prediction(prediction, position, column_names):\n",
    "    temp_df = pd.DataFrame(False, index=[0], columns=column_names)\n",
    "    temp_df.insert(0, 'position', position, True)\n",
    "    temp_df['concept:name_'+prediction] = temp_df['concept:name_'+prediction].replace([False], [True])\n",
    "    return temp_df\n"
   ]
  },
  {
   "cell_type": "code",
   "execution_count": 90,
   "metadata": {},
   "outputs": [],
   "source": [
    "def predict_next(df, ft):\n",
    "    single_instance = df.iloc[0]\n",
    "    single_instance = single_instance.values.reshape(1, -1)\n",
    "    single_instance_dmatrix = xgb.DMatrix(data=single_instance, feature_names=list(X_test.columns), feature_types=ft, enable_categorical=True)\n",
    "    single_instance_prediction = xgb_model.predict(single_instance_dmatrix)\n",
    "    return single_instance_prediction"
   ]
  },
  {
   "cell_type": "code",
   "execution_count": 48,
   "metadata": {},
   "outputs": [
    {
     "data": {
      "text/html": [
       "<div>\n",
       "<style scoped>\n",
       "    .dataframe tbody tr th:only-of-type {\n",
       "        vertical-align: middle;\n",
       "    }\n",
       "\n",
       "    .dataframe tbody tr th {\n",
       "        vertical-align: top;\n",
       "    }\n",
       "\n",
       "    .dataframe thead th {\n",
       "        text-align: right;\n",
       "    }\n",
       "</style>\n",
       "<table border=\"1\" class=\"dataframe\">\n",
       "  <thead>\n",
       "    <tr style=\"text-align: right;\">\n",
       "      <th></th>\n",
       "      <th>W_Completeren aanvraag</th>\n",
       "    </tr>\n",
       "  </thead>\n",
       "  <tbody>\n",
       "    <tr>\n",
       "      <th>0</th>\n",
       "      <td>True</td>\n",
       "    </tr>\n",
       "  </tbody>\n",
       "</table>\n",
       "</div>"
      ],
      "text/plain": [
       "   W_Completeren aanvraag\n",
       "0                    True"
      ]
     },
     "execution_count": 48,
     "metadata": {},
     "output_type": "execute_result"
    }
   ],
   "source": [
    "event_position = 45\n",
    "prediction = predict_next(X_test, event_position, ft)\n",
    "pred = mapping[prediction[0]]\n",
    "frame = format_prediction(pred, 4, one_hot_encoded_columns)\n",
    "#frame.shape[1]\n",
    "#frame.iloc[0].values.reshape(1, -1)"
   ]
  },
  {
   "cell_type": "code",
   "execution_count": 106,
   "metadata": {},
   "outputs": [
    {
     "name": "stdout",
     "output_type": "stream",
     "text": [
      "Prediction: W_Afhandelen leads,\n",
      "Actual: W_Afhandelen leads\n",
      "Prediction: W_Afhandelen leads,\n",
      "Actual: W_Afhandelen leads\n",
      "Prediction: A_DECLINED,\n",
      "Actual: W_Afhandelen leads\n",
      "Prediction: W_Afhandelen leads,\n",
      "Actual: W_Afhandelen leads\n"
     ]
    }
   ],
   "source": [
    "# \n",
    "event_position = 1\n",
    "for i in range(1, 10):\n",
    "    if i == 1:\n",
    "        prediction = mapping[predict_first(X_test, event_position, ft)[0]]\n",
    "        position = get_first_position(X_test, event_position) + 1\n",
    "    else:\n",
    "        prediction = mapping[predict_next(df_prediction, ft)[0]]\n",
    "        position += 1\n",
    "    if prediction == 'No_Activity':\n",
    "        break\n",
    "    \n",
    "    df_prediction = format_prediction(prediction, position, one_hot_encoded_columns)\n",
    "    print(f'Prediction: {prediction},\\nActual: {mapping[y_test.iloc[event_position -1 + i]]}')\n",
    "    \n",
    "# for i in range(1, 25):\n",
    "# if i == 1:\n",
    "#   predict no dummy\n",
    "#   prosition = getfirstposition\n",
    "#else:\n",
    "#   predict dummy\n",
    "#   position + 1\n",
    "# prediction = mapping[single_instance_prediction[0]]\n",
    "# add position to an array with full sequence, amend array after every rpediction to include previous and current prediction\n",
    "\n",
    "\n",
    "    "
   ]
  },
  {
   "cell_type": "code",
   "execution_count": 105,
   "metadata": {},
   "outputs": [
    {
     "name": "stdout",
     "output_type": "stream",
     "text": [
      "Prediction: W_Completeren aanvraag,\n",
      "Actual: W_Completeren aanvraag\n"
     ]
    },
    {
     "data": {
      "text/plain": [
       "{6: 'A_PARTLYSUBMITTED',\n",
       " 7: 'A_PREACCEPTED',\n",
       " 19: 'W_Completeren aanvraag',\n",
       " 4: 'A_DECLINED',\n",
       " 9: 'No_Activity',\n",
       " 17: 'W_Afhandelen leads',\n",
       " 0: 'A_ACCEPTED',\n",
       " 14: 'O_SELECTED',\n",
       " 5: 'A_FINALIZED',\n",
       " 12: 'O_CREATED',\n",
       " 15: 'O_SENT',\n",
       " 21: 'W_Nabellen offertes',\n",
       " 11: 'O_CANCELLED',\n",
       " 3: 'A_CANCELLED',\n",
       " 18: 'W_Beoordelen fraude',\n",
       " 16: 'O_SENT_BACK',\n",
       " 22: 'W_Valideren aanvraag',\n",
       " 20: 'W_Nabellen incomplete dossiers',\n",
       " 10: 'O_ACCEPTED',\n",
       " 2: 'A_APPROVED',\n",
       " 1: 'A_ACTIVATED',\n",
       " 8: 'A_REGISTERED',\n",
       " 13: 'O_DECLINED',\n",
       " 23: 'W_Wijzigen contractgegevens'}"
      ]
     },
     "execution_count": 105,
     "metadata": {},
     "output_type": "execute_result"
    }
   ],
   "source": [
    "# find the mapping with the orginal_target and encoded one\n",
    "mapping = dict(zip(df[target_column], original_target))\n",
    "# predicting a single instance \n",
    "position = 50\n",
    "single_instance = X_test.iloc[position].values.reshape(1, -1)\n",
    "single_instance_dmatrix = xgb.DMatrix(data=single_instance, feature_names=list(X_test.columns), feature_types=ft, enable_categorical=True)\n",
    "single_instance_prediction = xgb_model.predict(single_instance_dmatrix)\n",
    "# Finding the mapping of the prediction to the actual value\n",
    "print(f'Prediction: {mapping[single_instance_prediction[0]]},\\nActual: {mapping[y_test.iloc[position]]}')\n",
    "# print(int(single_instance[0][0]))\n",
    "mapping"
   ]
  },
  {
   "cell_type": "code",
   "execution_count": 12,
   "metadata": {},
   "outputs": [
    {
     "name": "stdout",
     "output_type": "stream",
     "text": [
      "F1: 0.64459, Precision: 0.63291, Recall: 0.68212, Accuracy: 0.68212\n"
     ]
    },
    {
     "name": "stderr",
     "output_type": "stream",
     "text": [
      "c:\\Users\\kamin\\AppData\\Local\\Programs\\Python\\Python312\\Lib\\site-packages\\sklearn\\metrics\\_classification.py:1509: UndefinedMetricWarning: Precision is ill-defined and being set to 0.0 in labels with no predicted samples. Use `zero_division` parameter to control this behavior.\n",
      "  _warn_prf(average, modifier, f\"{metric.capitalize()} is\", len(result))\n"
     ]
    }
   ],
   "source": [
    "# Calculate the f1, precision, recall, and accuracy\n",
    "f1 = f1_score(y_test, predictions, average='weighted')\n",
    "precision = precision_score(y_test, predictions, average='weighted')\n",
    "recall = recall_score(y_test, predictions, average='weighted')\n",
    "accuracy = accuracy_score(y_test, predictions)\n",
    "\n",
    "print(f'F1: {f1:.5f}, Precision: {precision:.5f}, Recall: {recall:.5f}, Accuracy: {accuracy:.5f}')"
   ]
  },
  {
   "cell_type": "code",
   "execution_count": 13,
   "metadata": {},
   "outputs": [],
   "source": [
    "# find the mapping with the orginal_target and encoded one\n",
    "mapping = dict(zip(df[target_column], original_target))"
   ]
  },
  {
   "cell_type": "code",
   "execution_count": 15,
   "metadata": {},
   "outputs": [
    {
     "name": "stdout",
     "output_type": "stream",
     "text": [
      "Prediction: O_SELECTED,\n",
      "Actual: O_SELECTED\n"
     ]
    }
   ],
   "source": [
    "# predicting a single instance \n",
    "position = 100\n",
    "single_instance = X_test.iloc[position].values.reshape(1, -1)\n",
    "single_instance_dmatrix = xgb.DMatrix(data=single_instance, feature_names=list(X_test.columns), feature_types=ft, enable_categorical=True)\n",
    "single_instance_prediction = xgb_model.predict(single_instance_dmatrix)\n",
    "\n",
    "# Finding the mapping of the prediction to the actual value\n",
    "print(f'Prediction: {mapping[single_instance_prediction[0]]},\\nActual: {mapping[y_test.iloc[position]]}')"
   ]
  }
 ],
 "metadata": {
  "kernelspec": {
   "display_name": "Python 3",
   "language": "python",
   "name": "python3"
  },
  "language_info": {
   "codemirror_mode": {
    "name": "ipython",
    "version": 3
   },
   "file_extension": ".py",
   "mimetype": "text/x-python",
   "name": "python",
   "nbconvert_exporter": "python",
   "pygments_lexer": "ipython3",
   "version": "3.12.1"
  }
 },
 "nbformat": 4,
 "nbformat_minor": 2
}
