{
 "cells": [
  {
   "cell_type": "markdown",
   "metadata": {},
   "source": [
    "This Jupyter file is designed to conduct an in-depth analysis of the dataset, incorporating statistical insights and visualization. Throughout the file, we show various visual representations and numerical summaries. Towards the end, we implement some changes on the DataFrame to enhance its compatibility for training both a naive version and a completed version of the model. The final step involves saving the modified dataset in CSV format for further utilization."
   ]
  },
  {
   "cell_type": "markdown",
   "metadata": {},
   "source": [
    "## Importing Libraries "
   ]
  },
  {
   "cell_type": "code",
   "execution_count": null,
   "metadata": {},
   "outputs": [],
   "source": [
    "# loading the packages\n",
    "import pandas as pd\n",
    "import pm4py\n",
    "import numpy as np\n",
    "import matplotlib.pyplot as plt"
   ]
  },
  {
   "cell_type": "markdown",
   "metadata": {},
   "source": [
    "Importing the data (change the path and adapt it to each system later)"
   ]
  },
  {
   "cell_type": "code",
   "execution_count": null,
   "metadata": {},
   "outputs": [],
   "source": [
    "# Loading the data and converting it to a dataframe\n",
    "# log = pm4py.read_xes(\"data/extracted/BPI_Challenge_2018.xes\")\n",
    "# df = pm4py.convert_to_dataframe(log)\n",
    "# saving the dataframe to a csv file\n",
    "# df.to_csv(\"data/extracted/BPI_Challenge_2018.csv\", index=False)\n",
    "############## If it is the first time you are running the code, please use the above code to load the data ###########\n",
    "################# If you have already run the code once, please use the code below to load the data ###################\n",
    "# Loading the data\n",
    "df = pd.read_csv(\"data/extracted/BPI_Challenge_2018.csv\")\n",
    "df.head(10)"
   ]
  },
  {
   "cell_type": "markdown",
   "metadata": {},
   "source": [
    "## Short Summary of Data (All the datasets)"
   ]
  },
  {
   "cell_type": "code",
   "execution_count": null,
   "metadata": {},
   "outputs": [],
   "source": [
    "# Printing the nr rows and columns\n",
    "print(f'nr Rows: {df.shape[0]}, nr Cols: {df.shape[1]}\\n')\n",
    "\n",
    "# checking the data types\n",
    "print(df.info())"
   ]
  },
  {
   "cell_type": "markdown",
   "metadata": {},
   "source": [
    "## Missing Values"
   ]
  },
  {
   "cell_type": "code",
   "execution_count": null,
   "metadata": {},
   "outputs": [],
   "source": [
    "# checking the missing values\n",
    "df.isnull().sum()"
   ]
  },
  {
   "cell_type": "code",
   "execution_count": null,
   "metadata": {},
   "outputs": [],
   "source": [
    "# checking the percentage of missing values for each column\n",
    "missing = df.isnull().sum()\n",
    "missing = missing[missing > 0]\n",
    "missing = missing / df.shape[0] * 100\n",
    "missing"
   ]
  },
  {
   "cell_type": "markdown",
   "metadata": {},
   "source": [
    "Analysis of unique values for each attribute"
   ]
  },
  {
   "cell_type": "code",
   "execution_count": null,
   "metadata": {},
   "outputs": [],
   "source": [
    "# checking the unique values\n",
    "for col in df.columns:\n",
    "    print(f'{col}: {df[col].nunique()}')"
   ]
  },
  {
   "cell_type": "code",
   "execution_count": null,
   "metadata": {},
   "outputs": [],
   "source": [
    "# checking the unique values for the 'concept:name' column\n",
    "df['org:resource'].value_counts()"
   ]
  },
  {
   "cell_type": "code",
   "execution_count": null,
   "metadata": {},
   "outputs": [],
   "source": [
    "# checking the unique values of the lifecycle:transition\n",
    "df['lifecycle:transition'].unique()"
   ]
  },
  {
   "cell_type": "code",
   "execution_count": null,
   "metadata": {},
   "outputs": [],
   "source": [
    "# Plotting the freq of the lifecycle:transition values\n",
    "plt.figure(figsize=(10, 5))\n",
    "df['lifecycle:transition'].value_counts().plot(kind='bar')\n",
    "plt.title('Freq of lifecycle:transition')   \n",
    "plt.show()\n",
    "\n",
    "print(df['lifecycle:transition'].value_counts())"
   ]
  },
  {
   "cell_type": "code",
   "execution_count": null,
   "metadata": {},
   "outputs": [],
   "source": [
    "# checking the unique values for the concept:name column\n",
    "df['concept:name'].value_counts()"
   ]
  },
  {
   "cell_type": "code",
   "execution_count": null,
   "metadata": {},
   "outputs": [],
   "source": [
    "# Plotting the freq of the concept:name values\n",
    "plt.figure(figsize=(20, 10))\n",
    "df['concept:name'].value_counts().plot(kind='bar')\n",
    "for i, v in enumerate(df['concept:name'].value_counts()):\n",
    "    plt.text(i, v + 0.2, str(v), ha='center', va='bottom')\n",
    "plt.title('Freq of concept:name')  \n",
    "plt.show()"
   ]
  },
  {
   "cell_type": "code",
   "execution_count": null,
   "metadata": {},
   "outputs": [],
   "source": [
    "# checking the unique values for the case:concept:name column\n",
    "df['case:concept:name'].value_counts()"
   ]
  },
  {
   "cell_type": "markdown",
   "metadata": {},
   "source": [
    "# Analysis specific to the BPI_Challenge_2018 dataset"
   ]
  },
  {
   "cell_type": "code",
   "execution_count": null,
   "metadata": {},
   "outputs": [],
   "source": [
    "# checking the percentage of missing values for each column\n",
    "missing = df.isnull().sum()\n",
    "missing = missing[missing > 0]\n",
    "missing = missing / df.shape[0] * 100\n",
    "missing"
   ]
  },
  {
   "cell_type": "code",
   "execution_count": null,
   "metadata": {},
   "outputs": [],
   "source": [
    "# Finding all the columns that have values either True or False\n",
    "bool_cols = [col for col in df.columns if np.isin(df[col].dropna().unique(), [True, False]).all()]\n",
    "bool_cols, len(bool_cols)"
   ]
  },
  {
   "cell_type": "code",
   "execution_count": null,
   "metadata": {},
   "outputs": [],
   "source": [
    "# Removing the boolean_columns from the dataframe\n",
    "df_no_bool = df.drop(columns=bool_cols)\n",
    "df_no_bool.head(5)"
   ]
  },
  {
   "cell_type": "code",
   "execution_count": null,
   "metadata": {},
   "outputs": [],
   "source": [
    "df_no_bool.columns"
   ]
  },
  {
   "cell_type": "code",
   "execution_count": null,
   "metadata": {},
   "outputs": [],
   "source": [
    "# finding the rows that have the value '0;n/a' in the 'org:resource' column since isna() does not work for this value\n",
    "df_no_bool[df_no_bool['org:resource'] == '0;n/a']"
   ]
  },
  {
   "cell_type": "code",
   "execution_count": null,
   "metadata": {},
   "outputs": [],
   "source": [
    "# Since the isna() method does not capture 0;n/a as missing values, we need to replace it with np.nan\n",
    "df_no_bool['org:resource'] = df_no_bool['org:resource'].replace('0;n/a', np.nan)\n",
    "df_no_bool['org:resource'].isna().sum()/len(df_no_bool) * 100"
   ]
  },
  {
   "cell_type": "code",
   "execution_count": null,
   "metadata": {},
   "outputs": [],
   "source": [
    "# Checking the value counts for the subprocess column\n",
    "df_no_bool['subprocess'].value_counts()"
   ]
  },
  {
   "cell_type": "code",
   "execution_count": null,
   "metadata": {},
   "outputs": [],
   "source": [
    "# Plotting the freq of the subprocess values\n",
    "plt.figure(figsize=(20, 10))\n",
    "df_no_bool['subprocess'].value_counts().plot(kind='bar')\n",
    "for i, v in enumerate(df_no_bool['subprocess'].value_counts()):\n",
    "    plt.text(i, v + 0.2, str(v), ha='center', va='bottom')\n",
    "plt.title('Freq of subprocess')\n",
    "plt.show()"
   ]
  },
  {
   "cell_type": "markdown",
   "metadata": {},
   "source": [
    "## Analysis of the boolean columns"
   ]
  },
  {
   "cell_type": "code",
   "execution_count": null,
   "metadata": {},
   "outputs": [],
   "source": [
    "# A dataframe with only the boolean columns\n",
    "df_bool = df[bool_cols]\n",
    "\n",
    "# checking for the number of unique values for each column\n",
    "unique = df_bool.nunique()\n",
    "unique"
   ]
  },
  {
   "cell_type": "markdown",
   "metadata": {},
   "source": [
    "As it is shown above all of the boolean columns have full values and none of them contain a NaN value or a missing one"
   ]
  }
 ],
 "metadata": {
  "kernelspec": {
   "display_name": "Python 3",
   "language": "python",
   "name": "python3"
  },
  "language_info": {
   "codemirror_mode": {
    "name": "ipython",
    "version": 3
   },
   "file_extension": ".py",
   "mimetype": "text/x-python",
   "name": "python",
   "nbconvert_exporter": "python",
   "pygments_lexer": "ipython3",
   "version": "3.9.7"
  }
 },
 "nbformat": 4,
 "nbformat_minor": 2
}
