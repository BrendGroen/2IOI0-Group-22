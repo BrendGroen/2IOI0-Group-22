{
 "cells": [
  {
   "cell_type": "markdown",
   "metadata": {},
   "source": [
    "This Jupyter file is designed to conduct an in-depth analysis of the dataset, incorporating statistical insights and visualization. Throughout the file, we show various visual representations and numerical summaries. Towards the end, we implement some changes on the DataFrame to enhance its compatibility for training both a naive version and a completed version of the model. The final step involves saving the modified dataset in CSV format for further utilization."
   ]
  },
  {
   "cell_type": "markdown",
   "metadata": {},
   "source": [
    "## Importing Libraries "
   ]
  },
  {
   "cell_type": "code",
   "execution_count": null,
   "metadata": {},
   "outputs": [],
   "source": [
    "# loading the packages\n",
    "import pandas as pd\n",
    "import pm4py\n",
    "import numpy as np\n",
    "import matplotlib.pyplot as plt"
   ]
  },
  {
   "cell_type": "markdown",
   "metadata": {},
   "source": [
    "Importing the data (change the path and adapt it to each system later)"
   ]
  },
  {
   "cell_type": "code",
   "execution_count": null,
   "metadata": {},
   "outputs": [],
   "source": [
    "# Loading the data and converting it to a dataframe\n",
    "# log = pm4py.read_xes(\"data/extracted/BPI_Challenge_2018.xes\")\n",
    "# df = pm4py.convert_to_dataframe(log)\n",
    "# saving the dataframe to a csv file\n",
    "# df.to_csv(\"data/extracted/BPI_Challenge_2018.csv\", index=False)\n",
    "############## If it is the first time you are running the code, please use the above code to load the data ###########\n",
    "################# If you have already run the code once, please use the code below to load the data ###################\n",
    "# Loading the data\n",
    "df = pd.read_csv(\"data/extracted/BPI_Challenge_2018.csv\")\n",
    "df.head(10)"
   ]
  },
  {
   "cell_type": "markdown",
   "metadata": {},
   "source": [
    "## Short Summary of Data (All the datasets)"
   ]
  },
  {
   "cell_type": "code",
   "execution_count": null,
   "metadata": {},
   "outputs": [],
   "source": [
    "# Printing the nr rows and columns\n",
    "print(f'nr Rows: {df.shape[0]}, nr Cols: {df.shape[1]}\\n')\n",
    "\n",
    "# checking the data types\n",
    "print(df.info())"
   ]
  },
  {
   "cell_type": "markdown",
   "metadata": {},
   "source": [
    "## Missing Values"
   ]
  },
  {
   "cell_type": "code",
   "execution_count": null,
   "metadata": {},
   "outputs": [],
   "source": [
    "# checking the missing values\n",
    "df.isnull().sum()"
   ]
  },
  {
   "cell_type": "code",
   "execution_count": null,
   "metadata": {},
   "outputs": [],
   "source": [
    "# checking the percentage of missing values for each column\n",
    "missing = df.isnull().sum()\n",
    "missing = missing[missing > 0]\n",
    "missing = missing / df.shape[0] * 100\n",
    "missing"
   ]
  },
  {
   "cell_type": "markdown",
   "metadata": {},
   "source": [
    "Analysis of unique values for each attribute"
   ]
  },
  {
   "cell_type": "code",
   "execution_count": null,
   "metadata": {},
   "outputs": [],
   "source": [
    "# checking the unique values\n",
    "for col in df.columns:\n",
    "    print(f'{col}: {df[col].nunique()}')"
   ]
  },
  {
   "cell_type": "code",
   "execution_count": null,
   "metadata": {},
   "outputs": [],
   "source": [
    "# checking the unique values for the 'concept:name' column\n",
    "df['org:resource'].value_counts()"
   ]
  },
  {
   "cell_type": "code",
   "execution_count": null,
   "metadata": {},
   "outputs": [],
   "source": [
    "# checking the unique values of the lifecycle:transition\n",
    "df['lifecycle:transition'].unique()"
   ]
  },
  {
   "cell_type": "code",
   "execution_count": null,
   "metadata": {},
   "outputs": [],
   "source": [
    "# Plotting the freq of the lifecycle:transition values\n",
    "plt.figure(figsize=(10, 5))\n",
    "df['lifecycle:transition'].value_counts().plot(kind='bar')\n",
    "plt.title('Freq of lifecycle:transition')   \n",
    "plt.show()\n",
    "\n",
    "print(df['lifecycle:transition'].value_counts())"
   ]
  },
  {
   "cell_type": "code",
   "execution_count": null,
   "metadata": {},
   "outputs": [],
   "source": [
    "# checking the unique values for the concept:name column\n",
    "df['concept:name'].value_counts()"
   ]
  },
  {
   "cell_type": "code",
   "execution_count": null,
   "metadata": {},
   "outputs": [],
   "source": [
    "# Plotting the freq of the concept:name values\n",
    "plt.figure(figsize=(20, 10))\n",
    "df['concept:name'].value_counts().plot(kind='bar')\n",
    "for i, v in enumerate(df['concept:name'].value_counts()):\n",
    "    plt.text(i, v + 0.2, str(v), ha='center', va='bottom')\n",
    "plt.title('Freq of concept:name')  \n",
    "plt.show()"
   ]
  },
  {
   "cell_type": "code",
   "execution_count": null,
   "metadata": {},
   "outputs": [],
   "source": [
    "# checking the unique values for the case:concept:name column\n",
    "df['case:concept:name'].value_counts()"
   ]
  },
  {
   "cell_type": "markdown",
   "metadata": {},
   "source": [
    "# Analysis specific to the BPI_Challenge_2018 dataset"
   ]
  },
  {
   "cell_type": "code",
   "execution_count": null,
   "metadata": {},
   "outputs": [],
   "source": [
    "# checking the percentage of missing values for each column\n",
    "missing = df.isnull().sum()\n",
    "missing = missing[missing > 0]\n",
    "missing = missing / df.shape[0] * 100\n",
    "missing"
   ]
  },
  {
   "cell_type": "code",
   "execution_count": null,
   "metadata": {},
   "outputs": [],
   "source": [
    "# Finding all the columns that have values either True or False\n",
    "bool_cols = [col for col in df.columns if np.isin(df[col].dropna().unique(), [True, False]).all()]\n",
    "bool_cols, len(bool_cols)"
   ]
  },
  {
   "cell_type": "code",
   "execution_count": null,
   "metadata": {},
   "outputs": [],
   "source": [
    "# Removing the boolean_columns from the dataframe\n",
    "df_no_bool = df.drop(columns=bool_cols)\n",
    "df_no_bool.head(5)"
   ]
  },
  {
   "cell_type": "code",
   "execution_count": null,
   "metadata": {},
   "outputs": [],
   "source": [
    "df_no_bool.columns"
   ]
  },
  {
   "cell_type": "code",
   "execution_count": null,
   "metadata": {},
   "outputs": [],
   "source": [
    "# finding the rows that have the value '0;n/a' in the 'org:resource' column since isna() does not work for this value\n",
    "df_no_bool[df_no_bool['org:resource'] == '0;n/a']"
   ]
  },
  {
   "cell_type": "code",
   "execution_count": null,
   "metadata": {},
   "outputs": [],
   "source": [
    "# Since the isna() method does not capture 0;n/a as missing values, we need to replace it with np.nan\n",
    "df_no_bool['org:resource'] = df_no_bool['org:resource'].replace('0;n/a', np.nan)\n",
    "df_no_bool['org:resource'].isna().sum()/len(df_no_bool) * 100"
   ]
  },
  {
   "cell_type": "code",
   "execution_count": null,
   "metadata": {},
   "outputs": [],
   "source": [
    "# Checking the value counts for the subprocess column\n",
    "df_no_bool['subprocess'].value_counts()"
   ]
  },
  {
   "cell_type": "code",
   "execution_count": null,
   "metadata": {},
   "outputs": [],
   "source": [
    "# Plotting the freq of the subprocess values\n",
    "plt.figure(figsize=(20, 10))\n",
    "df_no_bool['subprocess'].value_counts().plot(kind='bar')\n",
    "for i, v in enumerate(df_no_bool['subprocess'].value_counts()):\n",
    "    plt.text(i, v + 0.2, str(v), ha='center', va='bottom')\n",
    "plt.title('Freq of subprocess')\n",
    "plt.show()"
   ]
  },
  {
   "cell_type": "markdown",
   "metadata": {},
   "source": [
    "## Analysis of the boolean columns"
   ]
  },
  {
   "cell_type": "code",
   "execution_count": null,
   "metadata": {},
   "outputs": [],
   "source": [
    "# A dataframe with only the boolean columns\n",
    "df_bool = df[bool_cols]\n",
    "\n",
    "# checking for the number of unique values for each column\n",
    "unique = df_bool.nunique()\n",
    "unique"
   ]
  },
  {
   "cell_type": "markdown",
   "metadata": {},
   "source": [
    "As it is shown above all of the boolean columns have full values and none of them contain a NaN value or a missing one"
   ]
  },
  {
   "cell_type": "code",
   "execution_count": null,
   "metadata": {},
   "outputs": [],
   "source": [
    "# checking the unique values\n",
    "groups = df.groupby(['case:concept:name'], as_index=False, sort=False)\n",
    "dataframesGroupedList = [group.reset_index(drop=True) for _, group in groups]\n",
    "\n",
    "constantColumnsPerGroup = {}\n",
    "\n",
    "constantsColumnsTotal = []\n",
    "inConstantsColumnsTotal = []\n",
    "\n",
    "for dataframeGrouped in dataframesGroupedList:\n",
    "    constantColumns = []\n",
    "    for col in dataframeGrouped.columns:\n",
    "        if dataframeGrouped[col].nunique() == 1:\n",
    "            constantColumns.append(col)\n",
    "            constantsColumnsTotal.append(col)\n",
    "        else:\n",
    "            inConstantsColumnsTotal.append(col)\n",
    "    name = dataframeGrouped['case:concept:name'][0]\n",
    "    constantColumnsPerGroup[name] = constantColumns"
   ]
  },
  {
   "cell_type": "code",
   "execution_count": null,
   "metadata": {},
   "outputs": [],
   "source": [
    "for constantColumnsKey in constantColumnsPerGroup:\n",
    "    print(constantColumnsKey)\n",
    "    for constantColumn in constantColumnsPerGroup[constantColumnsKey]:\n",
    "        print(constantColumnsKey + ' ' + constantColumn)\n",
    "    print('----------')"
   ]
  },
  {
   "cell_type": "code",
   "execution_count": null,
   "metadata": {},
   "outputs": [],
   "source": [
    "# checking the unique values\n",
    "groups = df.groupby(['case:concept:name'], as_index=False, sort=False)\n",
    "dataframesGroupedList = [group.reset_index(drop=True) for _, group in groups]\n",
    "\n",
    "constantColumnsPerGroup = {}\n",
    "\n",
    "constantsColumnsTotal = []\n",
    "inConstantsColumnsTotal = []\n",
    "\n",
    "for dataframeGrouped in dataframesGroupedList:\n",
    "    constantColumns = []\n",
    "    for col in dataframeGrouped.columns:\n",
    "        if dataframeGrouped[col].nunique() == 1:\n",
    "            constantColumns.append(col)\n",
    "            constantsColumnsTotal.append(col)\n",
    "        else:\n",
    "            inConstantsColumnsTotal.append(col)\n",
    "    name = dataframeGrouped['case:concept:name'][0]\n",
    "    constantColumnsPerGroup[name] = constantColumns\n",
    "\n",
    "for constantColumnsKey in constantColumnsPerGroup:\n",
    "    print(constantColumnsKey)\n",
    "    for constantColumn in constantColumnsPerGroup[constantColumnsKey]:\n",
    "        print(constantColumnsKey + ' ' + constantColumn)\n",
    "    print('----------')\n",
    "\n",
    "# Helper methods\n",
    "\n",
    "def uniqueList(list1):\n",
    " \n",
    "    # initialize a null list\n",
    "    unique_list = []\n",
    " \n",
    "    # traverse for all elements\n",
    "    for x in list1:\n",
    "        # check if exists in unique_list or not\n",
    "        if x not in unique_list:\n",
    "            unique_list.append(x)\n",
    "    \n",
    "    return unique_list\n",
    "\n",
    "def intersectionList(lst1, lst2):\n",
    "    lst3 = [value for value in lst1 if value in lst2]\n",
    "    return lst3\n",
    "\n",
    "def exceptList(lst1, lst2):\n",
    "    lst3 = [x for x in lst1 if x not in lst2]\n",
    "    return lst3\n",
    "\n",
    "uniqueConstantsColumnsTotal = uniqueList(constantsColumnsTotal)\n",
    "uniqueInConstantsColumnsTotal = uniqueList(inConstantsColumnsTotal)\n",
    "\n",
    "constantAndInConstant = intersectionList(uniqueConstantsColumnsTotal, uniqueInConstantsColumnsTotal)\n",
    "alwaysConstant = exceptList(uniqueConstantsColumnsTotal, uniqueInConstantsColumnsTotal)\n",
    "alwaysInConstant = exceptList(uniqueInConstantsColumnsTotal, uniqueConstantsColumnsTotal)\n",
    "\n",
    "print('Constants and Inconstant')\n",
    "print(len(constantAndInConstant))\n",
    "print(constantAndInConstant)\n",
    "print('---------')\n",
    "\n",
    "print('Always constant')\n",
    "print(len(alwaysConstant))\n",
    "print(alwaysConstant)\n",
    "print('---------')\n",
    "\n",
    "\n",
    "print('Always inconstant')\n",
    "print(len(alwaysInConstant))\n",
    "print(alwaysInConstant)"
   ]
  }
 ],
 "metadata": {
  "kernelspec": {
   "display_name": "Python 3 (ipykernel)",
   "language": "python",
   "name": "python3"
  },
  "language_info": {
   "codemirror_mode": {
    "name": "ipython",
    "version": 3
   },
   "file_extension": ".py",
   "mimetype": "text/x-python",
   "name": "python",
   "nbconvert_exporter": "python",
   "pygments_lexer": "ipython3",
   "version": "3.11.7"
  }
 },
 "nbformat": 4,
 "nbformat_minor": 2
}
