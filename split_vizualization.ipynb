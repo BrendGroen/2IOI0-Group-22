{
 "cells": [
  {
   "cell_type": "markdown",
   "metadata": {},
   "source": [
    "Vizualization of the train test split "
   ]
  },
  {
   "cell_type": "markdown",
   "metadata": {},
   "source": [
    "### Importing libraries"
   ]
  },
  {
   "cell_type": "code",
   "execution_count": null,
   "metadata": {},
   "outputs": [],
   "source": [
    "import pandas as pd\n",
    "from aux_functions import split_data\n",
    "import matplotlib.pyplot as plt\n",
    "from matplotlib.ticker import MultipleLocator"
   ]
  },
  {
   "cell_type": "markdown",
   "metadata": {},
   "source": [
    "### Processing the file"
   ]
  },
  {
   "cell_type": "code",
   "execution_count": null,
   "metadata": {},
   "outputs": [],
   "source": [
    "df = pd.read_csv('data/preprocessed/BPI_Challenge_2012.csv')"
   ]
  },
  {
   "cell_type": "code",
   "execution_count": null,
   "metadata": {},
   "outputs": [],
   "source": [
    "# Turning the time:timestamp into a datetime object\n",
    "with_nanosec = pd.to_datetime(df['time:timestamp'], errors='coerce', format='%Y-%m-%d %H:%M:%S.%f%z')\n",
    "without_nanosec = pd.to_datetime(df['time:timestamp'], errors='coerce', format='%Y-%m-%d %H:%M:%S%z')\n",
    "df['time:timestamp'] = with_nanosec.fillna(without_nanosec)"
   ]
  },
  {
   "cell_type": "code",
   "execution_count": null,
   "metadata": {},
   "outputs": [],
   "source": [
    "# Shortening the date labels to only show the year-month-day for plotting\n",
    "df['time:timestamp'] = df['time:timestamp'].dt.strftime('%Y-%m-%d %H:%M:%S')"
   ]
  },
  {
   "cell_type": "code",
   "execution_count": null,
   "metadata": {},
   "outputs": [],
   "source": [
    "train_subset, test_subset = split_data(df, 0.80)"
   ]
  },
  {
   "cell_type": "markdown",
   "metadata": {},
   "source": [
    "### Scatter Plot"
   ]
  },
  {
   "cell_type": "code",
   "execution_count": null,
   "metadata": {},
   "outputs": [],
   "source": [
    "# First time stamp in the test set\n",
    "x_seperation = test_subset['time:timestamp'].iloc[0]\n",
    "\n",
    "# First case:concept:name in the test set\n",
    "y_seperation = test_subset['case:concept:name'].iloc[0]\n",
    "x_seperation, y_seperation"
   ]
  },
  {
   "cell_type": "code",
   "execution_count": null,
   "metadata": {},
   "outputs": [],
   "source": [
    "# Plotting the Dataset Before Removing the Overlapping Cases\n",
    "\n",
    "plt.figure(figsize=(24, 16))\n",
    "plt.gca().yaxis.set_major_locator(MultipleLocator(3000))\n",
    "plt.gca().xaxis.set_major_locator(MultipleLocator(20000))\n",
    "\n",
    "plt.xlabel('Time', fontsize=20)\n",
    "plt.ylabel('Case Concept Name', fontsize=20)\n",
    "plt.title('The Dataset Before Removing the Overlapping Cases', fontsize=24)\n",
    "plt.xticks(rotation=45)\n",
    "plt.tick_params(axis='both', which='major', labelsize=15)\n",
    "plt.tick_params(axis='both', which='minor', labelsize=15)\n",
    "\n",
    "plt.scatter(df['time:timestamp'], df['case:concept:name'], c=df['time:timestamp'].rank(pct=True), cmap='winter', label='All', alpha=0.1)\n",
    "plt.axvline(x=x_seperation, color='r', linestyle='--', linewidth=3)\n",
    "plt.axhline(y=y_seperation, color='r', linestyle='--', linewidth=3)\n",
    "plt.gca().invert_yaxis()\n",
    "plt.tight_layout()\n",
    "\n",
    "# Saving the plot\n",
    "plt.savefig('figs/overlapping_split.png')\n",
    "\n",
    "plt.show()"
   ]
  },
  {
   "cell_type": "code",
   "execution_count": null,
   "metadata": {},
   "outputs": [],
   "source": [
    "# concatenating the train and test sets\n",
    "train_test_concat = pd.concat([train_subset, test_subset])"
   ]
  },
  {
   "cell_type": "code",
   "execution_count": null,
   "metadata": {},
   "outputs": [],
   "source": [
    "# Plotting the first 1000 cases for the whole dataset not only train and test \n",
    "\n",
    "plt.figure(figsize=(24, 16))\n",
    "plt.gca().yaxis.set_major_locator(MultipleLocator(3000))\n",
    "plt.gca().xaxis.set_major_locator(MultipleLocator(20000))\n",
    "# reducing the size of the scatters\n",
    "\n",
    "plt.scatter(train_test_concat['time:timestamp'], train_test_concat['case:concept:name'], c=train_test_concat['time:timestamp'].rank(pct=True), cmap='winter', label='All', alpha=0.1)\n",
    "\n",
    "plt.axvline(x=x_seperation, color='r', linestyle='--', linewidth=3)\n",
    "plt.axhline(y=y_seperation, color='r', linestyle='--', linewidth=3)\n",
    "plt.tick_params(axis='both', which='major', labelsize=15)\n",
    "plt.tick_params(axis='both', which='minor', labelsize=15)\n",
    "plt.xlabel('Time', fontsize=20)\n",
    "plt.ylabel('Case Concept Name', fontsize=20)\n",
    "plt.title('The Train and Test Sets After Removing the Overlapping Cases', fontsize=24)\n",
    "plt.xticks(rotation=45)\n",
    "plt.gca().invert_yaxis()\n",
    "plt.tight_layout()\n",
    "\n",
    "# Saving the plot \n",
    "plt.savefig('figs/removed_overlapping_split.png', bbox_inches='tight')\n",
    "\n",
    "plt.show()"
   ]
  }
 ],
 "metadata": {
  "kernelspec": {
   "display_name": "Python 3",
   "language": "python",
   "name": "python3"
  },
  "language_info": {
   "codemirror_mode": {
    "name": "ipython",
    "version": 3
   },
   "file_extension": ".py",
   "mimetype": "text/x-python",
   "name": "python",
   "nbconvert_exporter": "python",
   "pygments_lexer": "ipython3",
   "version": "3.9.7"
  }
 },
 "nbformat": 4,
 "nbformat_minor": 2
}
